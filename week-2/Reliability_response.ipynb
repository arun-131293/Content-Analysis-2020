{
  "nbformat": 4,
  "nbformat_minor": 0,
  "metadata": {
    "anaconda-cloud": {},
    "kernelspec": {
      "display_name": "Python 3",
      "language": "python",
      "name": "python3"
    },
    "language_info": {
      "codemirror_mode": {
        "name": "ipython",
        "version": 3
      },
      "file_extension": ".py",
      "mimetype": "text/x-python",
      "name": "python",
      "nbconvert_exporter": "python",
      "pygments_lexer": "ipython3",
      "version": "3.5.2"
    },
    "colab": {
      "name": "Reliability_response.ipynb",
      "provenance": [],
      "collapsed_sections": []
    }
  },
  "cells": [
    {
      "cell_type": "markdown",
      "metadata": {
        "id": "H6MwSUqbje6l",
        "colab_type": "text"
      },
      "source": [
        "# Week 2 - Sampling & Reliability\n",
        "\n",
        "Up until this week, we have assumed that the corpus you have used for analysis assignments represented a *meaningful* assemblage of texts from which reasonable inferences could be drawn about the social game, social world and social actors that produced it. \n",
        "\n",
        "This week, we ask you to build a corpus for preliminary analysis and articulate what your sample represents in context of your final project. We begin by exploring how we can get *human* readings of content at scale. We want to gather and utilize human responses for several reasons. First, we may want to use crowdsourced human scores as the primary method of coding, extracting or organizing content (as it was in two of the assigned readings). Second, we may want to validate or tune a computational algorithm we may have developed in terms of how it is associated with human meanings or experience. Finally, we may want to use human coding on a sample of data as the basis for training a model or algorithm to then extrapolate *human-like* annotations to the entire population. Here intelligent sampling is critical to maximize effective maching training. \n",
        "\n",
        "For this notebook we will be using the following packages"
      ]
    },
    {
      "cell_type": "code",
      "metadata": {
        "id": "q0XKbvv4je6l",
        "colab_type": "code",
        "outputId": "82d7c966-7a4c-4dc1-e2cc-b0f6f987b0c4",
        "colab": {
          "base_uri": "https://localhost:8080/",
          "height": 1000
        }
      },
      "source": [
        "#Special module written for this class\n",
        "#This provides access to data and to helper functions from previous weeks\n",
        "#Make sure you update it before starting this notebook\n",
        "!pip install -U git+git://github.com/Computational-Content-Analysis-2020/lucem_illud_2020.git\n",
        "import lucem_illud_2020 #pip install -U git+git://github.com/Computational-Content-Analysis-2020/lucem_illud_2020.git\n",
        "\n",
        "#All these packages need to be installed from pip\n",
        "import numpy as np #For arrays\n",
        "import scipy as sp #For some stats\n",
        "import pandas #Gives us DataFrames\n",
        "import matplotlib.pyplot as plt #For graphics\n",
        "import seaborn #Makes the graphics look nicer\n",
        "import pyanno #On python3 make sure to pip install pyanno3\n",
        "\n",
        "#We need to import these this way due to how pyanno is setup\n",
        "from pyanno.measures import pairwise_matrix, agreement, cohens_kappa, cohens_weighted_kappa, fleiss_kappa, krippendorffs_alpha, pearsons_rho, scotts_pi, spearmans_rho\n",
        "from pyanno.annotations import AnnotationsContainer\n",
        "from pyanno.models import ModelA, ModelBt, ModelB\n",
        "\n",
        "from functools import reduce\n",
        "from itertools import permutations\n",
        "import math\n",
        "\n",
        "\n",
        "#This 'magic' command makes the plots work better\n",
        "#in the notebook, don't use it outside of a notebook.\n",
        "#Also you can ignore the warning\n",
        "%matplotlib inline\n",
        "\n",
        "import os #For looking through files\n",
        "import os.path #For managing file paths"
      ],
      "execution_count": 1,
      "outputs": [
        {
          "output_type": "stream",
          "text": [
            "Collecting git+git://github.com/Computational-Content-Analysis-2020/lucem_illud_2020.git\n",
            "  Cloning git://github.com/Computational-Content-Analysis-2020/lucem_illud_2020.git to /tmp/pip-req-build-d71_ts2y\n",
            "  Running command git clone -q git://github.com/Computational-Content-Analysis-2020/lucem_illud_2020.git /tmp/pip-req-build-d71_ts2y\n",
            "Requirement already satisfied, skipping upgrade: numpy in /usr/local/lib/python3.6/dist-packages (from lucem-illud-2020==8.0.1) (1.18.2)\n",
            "Requirement already satisfied, skipping upgrade: requests in /usr/local/lib/python3.6/dist-packages (from lucem-illud-2020==8.0.1) (2.21.0)\n",
            "Requirement already satisfied, skipping upgrade: pandas in /usr/local/lib/python3.6/dist-packages (from lucem-illud-2020==8.0.1) (1.0.3)\n",
            "Collecting python-docx\n",
            "\u001b[?25l  Downloading https://files.pythonhosted.org/packages/e4/83/c66a1934ed5ed8ab1dbb9931f1779079f8bca0f6bbc5793c06c4b5e7d671/python-docx-0.8.10.tar.gz (5.5MB)\n",
            "\u001b[K     |████████████████████████████████| 5.5MB 3.8MB/s \n",
            "\u001b[?25hRequirement already satisfied, skipping upgrade: pillow in /usr/local/lib/python3.6/dist-packages (from lucem-illud-2020==8.0.1) (7.0.0)\n",
            "Collecting pdfminer2\n",
            "\u001b[?25l  Downloading https://files.pythonhosted.org/packages/fa/97/bd2a2de878438c27ffd710b5d6562c7a0230b0f3ca86059ec635ed231eb1/pdfminer2-20151206-py2.py3-none-any.whl (117kB)\n",
            "\u001b[K     |████████████████████████████████| 122kB 46.4MB/s \n",
            "\u001b[?25hCollecting GitPython\n",
            "\u001b[?25l  Downloading https://files.pythonhosted.org/packages/d3/2f/6a366d56c9b1355b0880be9ea66b166cb3536392638d8d91413ec66305ad/GitPython-3.1.0-py3-none-any.whl (450kB)\n",
            "\u001b[K     |████████████████████████████████| 460kB 51.3MB/s \n",
            "\u001b[?25hRequirement already satisfied, skipping upgrade: wordcloud in /usr/local/lib/python3.6/dist-packages (from lucem-illud-2020==8.0.1) (1.5.0)\n",
            "Requirement already satisfied, skipping upgrade: scipy in /usr/local/lib/python3.6/dist-packages (from lucem-illud-2020==8.0.1) (1.4.1)\n",
            "Requirement already satisfied, skipping upgrade: seaborn in /usr/local/lib/python3.6/dist-packages (from lucem-illud-2020==8.0.1) (0.10.0)\n",
            "Requirement already satisfied, skipping upgrade: scikit-learn in /usr/local/lib/python3.6/dist-packages (from lucem-illud-2020==8.0.1) (0.22.2.post1)\n",
            "Requirement already satisfied, skipping upgrade: nltk in /usr/local/lib/python3.6/dist-packages (from lucem-illud-2020==8.0.1) (3.2.5)\n",
            "Requirement already satisfied, skipping upgrade: gensim in /usr/local/lib/python3.6/dist-packages (from lucem-illud-2020==8.0.1) (3.6.0)\n",
            "Requirement already satisfied, skipping upgrade: matplotlib in /usr/local/lib/python3.6/dist-packages (from lucem-illud-2020==8.0.1) (3.2.1)\n",
            "Collecting pyanno3\n",
            "\u001b[?25l  Downloading https://files.pythonhosted.org/packages/c5/1a/ee2b136ea0283adb2a9302c29594127f84b6e34cb0b02b91c63bed0a534b/pyanno3-2.0.2.tar.gz (76kB)\n",
            "\u001b[K     |████████████████████████████████| 81kB 11.2MB/s \n",
            "\u001b[?25hRequirement already satisfied, skipping upgrade: beautifulsoup4 in /usr/local/lib/python3.6/dist-packages (from lucem-illud-2020==8.0.1) (4.6.3)\n",
            "Requirement already satisfied, skipping upgrade: graphviz in /usr/local/lib/python3.6/dist-packages (from lucem-illud-2020==8.0.1) (0.10.1)\n",
            "Requirement already satisfied, skipping upgrade: boto3 in /usr/local/lib/python3.6/dist-packages (from lucem-illud-2020==8.0.1) (1.12.33)\n",
            "Requirement already satisfied, skipping upgrade: networkx in /usr/local/lib/python3.6/dist-packages (from lucem-illud-2020==8.0.1) (2.4)\n",
            "Collecting pydub\n",
            "  Downloading https://files.pythonhosted.org/packages/79/db/eaf620b73a1eec3c8c6f8f5b0b236a50f9da88ad57802154b7ba7664d0b8/pydub-0.23.1-py2.py3-none-any.whl\n",
            "Collecting speechrecognition\n",
            "\u001b[?25l  Downloading https://files.pythonhosted.org/packages/26/e1/7f5678cd94ec1234269d23756dbdaa4c8cfaed973412f88ae8adf7893a50/SpeechRecognition-3.8.1-py2.py3-none-any.whl (32.8MB)\n",
            "\u001b[K     |████████████████████████████████| 32.8MB 121kB/s \n",
            "\u001b[?25hCollecting pysoundfile\n",
            "  Downloading https://files.pythonhosted.org/packages/2a/b3/0b871e5fd31b9a8e54b4ee359384e705a1ca1e2870706d2f081dc7cc1693/PySoundFile-0.9.0.post1-py2.py3-none-any.whl\n",
            "Requirement already satisfied, skipping upgrade: scikit-image in /usr/local/lib/python3.6/dist-packages (from lucem-illud-2020==8.0.1) (0.16.2)\n",
            "Requirement already satisfied, skipping upgrade: IPython in /usr/local/lib/python3.6/dist-packages (from lucem-illud-2020==8.0.1) (5.5.0)\n",
            "Requirement already satisfied, skipping upgrade: spacy in /usr/local/lib/python3.6/dist-packages (from lucem-illud-2020==8.0.1) (2.2.4)\n",
            "Collecting transformers==2.4.1\n",
            "\u001b[?25l  Downloading https://files.pythonhosted.org/packages/ee/fc/bd726a15ab2c66dc09306689d04da07a3770dad724f0883f0a4bfb745087/transformers-2.4.1-py3-none-any.whl (475kB)\n",
            "\u001b[K     |████████████████████████████████| 481kB 51.7MB/s \n",
            "\u001b[?25hRequirement already satisfied, skipping upgrade: torch in /usr/local/lib/python3.6/dist-packages (from lucem-illud-2020==8.0.1) (1.4.0)\n",
            "Requirement already satisfied, skipping upgrade: tensorflow in /usr/local/lib/python3.6/dist-packages (from lucem-illud-2020==8.0.1) (2.2.0rc2)\n",
            "Requirement already satisfied, skipping upgrade: keras in /usr/local/lib/python3.6/dist-packages (from lucem-illud-2020==8.0.1) (2.2.5)\n",
            "Requirement already satisfied, skipping upgrade: chardet<3.1.0,>=3.0.2 in /usr/local/lib/python3.6/dist-packages (from requests->lucem-illud-2020==8.0.1) (3.0.4)\n",
            "Requirement already satisfied, skipping upgrade: certifi>=2017.4.17 in /usr/local/lib/python3.6/dist-packages (from requests->lucem-illud-2020==8.0.1) (2019.11.28)\n",
            "Requirement already satisfied, skipping upgrade: idna<2.9,>=2.5 in /usr/local/lib/python3.6/dist-packages (from requests->lucem-illud-2020==8.0.1) (2.8)\n",
            "Requirement already satisfied, skipping upgrade: urllib3<1.25,>=1.21.1 in /usr/local/lib/python3.6/dist-packages (from requests->lucem-illud-2020==8.0.1) (1.24.3)\n",
            "Requirement already satisfied, skipping upgrade: pytz>=2017.2 in /usr/local/lib/python3.6/dist-packages (from pandas->lucem-illud-2020==8.0.1) (2018.9)\n",
            "Requirement already satisfied, skipping upgrade: python-dateutil>=2.6.1 in /usr/local/lib/python3.6/dist-packages (from pandas->lucem-illud-2020==8.0.1) (2.8.1)\n",
            "Requirement already satisfied, skipping upgrade: lxml>=2.3.2 in /usr/local/lib/python3.6/dist-packages (from python-docx->lucem-illud-2020==8.0.1) (4.2.6)\n",
            "Requirement already satisfied, skipping upgrade: six in /usr/local/lib/python3.6/dist-packages (from pdfminer2->lucem-illud-2020==8.0.1) (1.12.0)\n",
            "Collecting gitdb<5,>=4.0.1\n",
            "\u001b[?25l  Downloading https://files.pythonhosted.org/packages/1e/f5/8f84b3bf9d94bdf2454a302f2fa375832b53660ea532586b8a55ff16ae9a/gitdb-4.0.2-py3-none-any.whl (63kB)\n",
            "\u001b[K     |████████████████████████████████| 71kB 10.4MB/s \n",
            "\u001b[?25hRequirement already satisfied, skipping upgrade: joblib>=0.11 in /usr/local/lib/python3.6/dist-packages (from scikit-learn->lucem-illud-2020==8.0.1) (0.14.1)\n",
            "Requirement already satisfied, skipping upgrade: smart-open>=1.2.1 in /usr/local/lib/python3.6/dist-packages (from gensim->lucem-illud-2020==8.0.1) (1.10.0)\n",
            "Requirement already satisfied, skipping upgrade: kiwisolver>=1.0.1 in /usr/local/lib/python3.6/dist-packages (from matplotlib->lucem-illud-2020==8.0.1) (1.1.0)\n",
            "Requirement already satisfied, skipping upgrade: cycler>=0.10 in /usr/local/lib/python3.6/dist-packages (from matplotlib->lucem-illud-2020==8.0.1) (0.10.0)\n",
            "Requirement already satisfied, skipping upgrade: pyparsing!=2.0.4,!=2.1.2,!=2.1.6,>=2.0.1 in /usr/local/lib/python3.6/dist-packages (from matplotlib->lucem-illud-2020==8.0.1) (2.4.6)\n",
            "Collecting traits\n",
            "\u001b[?25l  Downloading https://files.pythonhosted.org/packages/b9/af/c6dc88130106d69e4f9a192043c85ed4cb522f83b9041b8691f0b0678405/traits-6.0.0.tar.gz (441kB)\n",
            "\u001b[K     |████████████████████████████████| 450kB 51.3MB/s \n",
            "\u001b[?25hRequirement already satisfied, skipping upgrade: botocore<1.16.0,>=1.15.33 in /usr/local/lib/python3.6/dist-packages (from boto3->lucem-illud-2020==8.0.1) (1.15.33)\n",
            "Requirement already satisfied, skipping upgrade: jmespath<1.0.0,>=0.7.1 in /usr/local/lib/python3.6/dist-packages (from boto3->lucem-illud-2020==8.0.1) (0.9.5)\n",
            "Requirement already satisfied, skipping upgrade: s3transfer<0.4.0,>=0.3.0 in /usr/local/lib/python3.6/dist-packages (from boto3->lucem-illud-2020==8.0.1) (0.3.3)\n",
            "Requirement already satisfied, skipping upgrade: decorator>=4.3.0 in /usr/local/lib/python3.6/dist-packages (from networkx->lucem-illud-2020==8.0.1) (4.4.2)\n",
            "Requirement already satisfied, skipping upgrade: cffi>=0.6 in /usr/local/lib/python3.6/dist-packages (from pysoundfile->lucem-illud-2020==8.0.1) (1.14.0)\n",
            "Requirement already satisfied, skipping upgrade: PyWavelets>=0.4.0 in /usr/local/lib/python3.6/dist-packages (from scikit-image->lucem-illud-2020==8.0.1) (1.1.1)\n",
            "Requirement already satisfied, skipping upgrade: imageio>=2.3.0 in /usr/local/lib/python3.6/dist-packages (from scikit-image->lucem-illud-2020==8.0.1) (2.4.1)\n",
            "Requirement already satisfied, skipping upgrade: pygments in /usr/local/lib/python3.6/dist-packages (from IPython->lucem-illud-2020==8.0.1) (2.1.3)\n",
            "Requirement already satisfied, skipping upgrade: pexpect; sys_platform != \"win32\" in /usr/local/lib/python3.6/dist-packages (from IPython->lucem-illud-2020==8.0.1) (4.8.0)\n",
            "Requirement already satisfied, skipping upgrade: setuptools>=18.5 in /usr/local/lib/python3.6/dist-packages (from IPython->lucem-illud-2020==8.0.1) (46.0.0)\n",
            "Requirement already satisfied, skipping upgrade: prompt-toolkit<2.0.0,>=1.0.4 in /usr/local/lib/python3.6/dist-packages (from IPython->lucem-illud-2020==8.0.1) (1.0.18)\n",
            "Requirement already satisfied, skipping upgrade: traitlets>=4.2 in /usr/local/lib/python3.6/dist-packages (from IPython->lucem-illud-2020==8.0.1) (4.3.3)\n",
            "Requirement already satisfied, skipping upgrade: simplegeneric>0.8 in /usr/local/lib/python3.6/dist-packages (from IPython->lucem-illud-2020==8.0.1) (0.8.1)\n",
            "Requirement already satisfied, skipping upgrade: pickleshare in /usr/local/lib/python3.6/dist-packages (from IPython->lucem-illud-2020==8.0.1) (0.7.5)\n",
            "Requirement already satisfied, skipping upgrade: plac<1.2.0,>=0.9.6 in /usr/local/lib/python3.6/dist-packages (from spacy->lucem-illud-2020==8.0.1) (1.1.3)\n",
            "Requirement already satisfied, skipping upgrade: catalogue<1.1.0,>=0.0.7 in /usr/local/lib/python3.6/dist-packages (from spacy->lucem-illud-2020==8.0.1) (1.0.0)\n",
            "Requirement already satisfied, skipping upgrade: wasabi<1.1.0,>=0.4.0 in /usr/local/lib/python3.6/dist-packages (from spacy->lucem-illud-2020==8.0.1) (0.6.0)\n",
            "Requirement already satisfied, skipping upgrade: murmurhash<1.1.0,>=0.28.0 in /usr/local/lib/python3.6/dist-packages (from spacy->lucem-illud-2020==8.0.1) (1.0.2)\n",
            "Requirement already satisfied, skipping upgrade: thinc==7.4.0 in /usr/local/lib/python3.6/dist-packages (from spacy->lucem-illud-2020==8.0.1) (7.4.0)\n",
            "Requirement already satisfied, skipping upgrade: cymem<2.1.0,>=2.0.2 in /usr/local/lib/python3.6/dist-packages (from spacy->lucem-illud-2020==8.0.1) (2.0.3)\n",
            "Requirement already satisfied, skipping upgrade: blis<0.5.0,>=0.4.0 in /usr/local/lib/python3.6/dist-packages (from spacy->lucem-illud-2020==8.0.1) (0.4.1)\n",
            "Requirement already satisfied, skipping upgrade: srsly<1.1.0,>=1.0.2 in /usr/local/lib/python3.6/dist-packages (from spacy->lucem-illud-2020==8.0.1) (1.0.2)\n",
            "Requirement already satisfied, skipping upgrade: preshed<3.1.0,>=3.0.2 in /usr/local/lib/python3.6/dist-packages (from spacy->lucem-illud-2020==8.0.1) (3.0.2)\n",
            "Requirement already satisfied, skipping upgrade: tqdm<5.0.0,>=4.38.0 in /usr/local/lib/python3.6/dist-packages (from spacy->lucem-illud-2020==8.0.1) (4.38.0)\n",
            "Collecting tokenizers==0.0.11\n",
            "\u001b[?25l  Downloading https://files.pythonhosted.org/packages/5e/36/7af38d572c935f8e0462ec7b4f7a46d73a2b3b1a938f50a5e8132d5b2dc5/tokenizers-0.0.11-cp36-cp36m-manylinux1_x86_64.whl (3.1MB)\n",
            "\u001b[K     |████████████████████████████████| 3.1MB 36.2MB/s \n",
            "\u001b[?25hCollecting sentencepiece\n",
            "\u001b[?25l  Downloading https://files.pythonhosted.org/packages/74/f4/2d5214cbf13d06e7cb2c20d84115ca25b53ea76fa1f0ade0e3c9749de214/sentencepiece-0.1.85-cp36-cp36m-manylinux1_x86_64.whl (1.0MB)\n",
            "\u001b[K     |████████████████████████████████| 1.0MB 42.9MB/s \n",
            "\u001b[?25hRequirement already satisfied, skipping upgrade: filelock in /usr/local/lib/python3.6/dist-packages (from transformers==2.4.1->lucem-illud-2020==8.0.1) (3.0.12)\n",
            "Requirement already satisfied, skipping upgrade: regex!=2019.12.17 in /usr/local/lib/python3.6/dist-packages (from transformers==2.4.1->lucem-illud-2020==8.0.1) (2019.12.20)\n",
            "Collecting sacremoses\n",
            "\u001b[?25l  Downloading https://files.pythonhosted.org/packages/a6/b4/7a41d630547a4afd58143597d5a49e07bfd4c42914d8335b2a5657efc14b/sacremoses-0.0.38.tar.gz (860kB)\n",
            "\u001b[K     |████████████████████████████████| 870kB 38.2MB/s \n",
            "\u001b[?25hRequirement already satisfied, skipping upgrade: opt-einsum>=2.3.2 in /usr/local/lib/python3.6/dist-packages (from tensorflow->lucem-illud-2020==8.0.1) (3.2.0)\n",
            "Requirement already satisfied, skipping upgrade: tensorflow-estimator<2.3.0,>=2.2.0rc0 in /usr/local/lib/python3.6/dist-packages (from tensorflow->lucem-illud-2020==8.0.1) (2.2.0rc0)\n",
            "Requirement already satisfied, skipping upgrade: grpcio>=1.8.6 in /usr/local/lib/python3.6/dist-packages (from tensorflow->lucem-illud-2020==8.0.1) (1.27.2)\n",
            "Requirement already satisfied, skipping upgrade: h5py<2.11.0,>=2.10.0 in /usr/local/lib/python3.6/dist-packages (from tensorflow->lucem-illud-2020==8.0.1) (2.10.0)\n",
            "Requirement already satisfied, skipping upgrade: astunparse==1.6.3 in /usr/local/lib/python3.6/dist-packages (from tensorflow->lucem-illud-2020==8.0.1) (1.6.3)\n",
            "Requirement already satisfied, skipping upgrade: absl-py>=0.7.0 in /usr/local/lib/python3.6/dist-packages (from tensorflow->lucem-illud-2020==8.0.1) (0.9.0)\n",
            "Requirement already satisfied, skipping upgrade: wrapt>=1.11.1 in /usr/local/lib/python3.6/dist-packages (from tensorflow->lucem-illud-2020==8.0.1) (1.12.1)\n",
            "Requirement already satisfied, skipping upgrade: keras-preprocessing>=1.1.0 in /usr/local/lib/python3.6/dist-packages (from tensorflow->lucem-illud-2020==8.0.1) (1.1.0)\n",
            "Requirement already satisfied, skipping upgrade: wheel>=0.26; python_version >= \"3\" in /usr/local/lib/python3.6/dist-packages (from tensorflow->lucem-illud-2020==8.0.1) (0.34.2)\n",
            "Requirement already satisfied, skipping upgrade: google-pasta>=0.1.8 in /usr/local/lib/python3.6/dist-packages (from tensorflow->lucem-illud-2020==8.0.1) (0.2.0)\n",
            "Requirement already satisfied, skipping upgrade: protobuf>=3.8.0 in /usr/local/lib/python3.6/dist-packages (from tensorflow->lucem-illud-2020==8.0.1) (3.10.0)\n",
            "Requirement already satisfied, skipping upgrade: termcolor>=1.1.0 in /usr/local/lib/python3.6/dist-packages (from tensorflow->lucem-illud-2020==8.0.1) (1.1.0)\n",
            "Requirement already satisfied, skipping upgrade: gast==0.3.3 in /usr/local/lib/python3.6/dist-packages (from tensorflow->lucem-illud-2020==8.0.1) (0.3.3)\n",
            "Requirement already satisfied, skipping upgrade: tensorboard<2.3.0,>=2.2.0 in /usr/local/lib/python3.6/dist-packages (from tensorflow->lucem-illud-2020==8.0.1) (2.2.0)\n",
            "Requirement already satisfied, skipping upgrade: pyyaml in /usr/local/lib/python3.6/dist-packages (from keras->lucem-illud-2020==8.0.1) (3.13)\n",
            "Requirement already satisfied, skipping upgrade: keras-applications>=1.0.8 in /usr/local/lib/python3.6/dist-packages (from keras->lucem-illud-2020==8.0.1) (1.0.8)\n",
            "Collecting smmap<4,>=3.0.1\n",
            "  Downloading https://files.pythonhosted.org/packages/35/d2/27777ab463cd44842c78305fa8097dfba0d94768abbb7e1c4d88f1fa1a0b/smmap-3.0.1-py2.py3-none-any.whl\n",
            "Requirement already satisfied, skipping upgrade: google-cloud-storage in /usr/local/lib/python3.6/dist-packages (from smart-open>=1.2.1->gensim->lucem-illud-2020==8.0.1) (1.18.1)\n",
            "Requirement already satisfied, skipping upgrade: docutils<0.16,>=0.10 in /usr/local/lib/python3.6/dist-packages (from botocore<1.16.0,>=1.15.33->boto3->lucem-illud-2020==8.0.1) (0.15.2)\n",
            "Requirement already satisfied, skipping upgrade: pycparser in /usr/local/lib/python3.6/dist-packages (from cffi>=0.6->pysoundfile->lucem-illud-2020==8.0.1) (2.20)\n",
            "Requirement already satisfied, skipping upgrade: ptyprocess>=0.5 in /usr/local/lib/python3.6/dist-packages (from pexpect; sys_platform != \"win32\"->IPython->lucem-illud-2020==8.0.1) (0.6.0)\n",
            "Requirement already satisfied, skipping upgrade: wcwidth in /usr/local/lib/python3.6/dist-packages (from prompt-toolkit<2.0.0,>=1.0.4->IPython->lucem-illud-2020==8.0.1) (0.1.9)\n",
            "Requirement already satisfied, skipping upgrade: ipython-genutils in /usr/local/lib/python3.6/dist-packages (from traitlets>=4.2->IPython->lucem-illud-2020==8.0.1) (0.2.0)\n",
            "Requirement already satisfied, skipping upgrade: importlib-metadata>=0.20; python_version < \"3.8\" in /usr/local/lib/python3.6/dist-packages (from catalogue<1.1.0,>=0.0.7->spacy->lucem-illud-2020==8.0.1) (1.6.0)\n",
            "Requirement already satisfied, skipping upgrade: click in /usr/local/lib/python3.6/dist-packages (from sacremoses->transformers==2.4.1->lucem-illud-2020==8.0.1) (7.1.1)\n",
            "Requirement already satisfied, skipping upgrade: tensorboard-plugin-wit>=1.6.0 in /usr/local/lib/python3.6/dist-packages (from tensorboard<2.3.0,>=2.2.0->tensorflow->lucem-illud-2020==8.0.1) (1.6.0.post2)\n",
            "Requirement already satisfied, skipping upgrade: werkzeug>=0.11.15 in /usr/local/lib/python3.6/dist-packages (from tensorboard<2.3.0,>=2.2.0->tensorflow->lucem-illud-2020==8.0.1) (1.0.1)\n",
            "Requirement already satisfied, skipping upgrade: google-auth-oauthlib<0.5,>=0.4.1 in /usr/local/lib/python3.6/dist-packages (from tensorboard<2.3.0,>=2.2.0->tensorflow->lucem-illud-2020==8.0.1) (0.4.1)\n",
            "Requirement already satisfied, skipping upgrade: google-auth<2,>=1.6.3 in /usr/local/lib/python3.6/dist-packages (from tensorboard<2.3.0,>=2.2.0->tensorflow->lucem-illud-2020==8.0.1) (1.7.2)\n",
            "Requirement already satisfied, skipping upgrade: markdown>=2.6.8 in /usr/local/lib/python3.6/dist-packages (from tensorboard<2.3.0,>=2.2.0->tensorflow->lucem-illud-2020==8.0.1) (3.2.1)\n",
            "Requirement already satisfied, skipping upgrade: google-resumable-media<0.5.0dev,>=0.3.1 in /usr/local/lib/python3.6/dist-packages (from google-cloud-storage->smart-open>=1.2.1->gensim->lucem-illud-2020==8.0.1) (0.4.1)\n",
            "Requirement already satisfied, skipping upgrade: google-cloud-core<2.0dev,>=1.0.0 in /usr/local/lib/python3.6/dist-packages (from google-cloud-storage->smart-open>=1.2.1->gensim->lucem-illud-2020==8.0.1) (1.0.3)\n",
            "Requirement already satisfied, skipping upgrade: zipp>=0.5 in /usr/local/lib/python3.6/dist-packages (from importlib-metadata>=0.20; python_version < \"3.8\"->catalogue<1.1.0,>=0.0.7->spacy->lucem-illud-2020==8.0.1) (3.1.0)\n",
            "Requirement already satisfied, skipping upgrade: requests-oauthlib>=0.7.0 in /usr/local/lib/python3.6/dist-packages (from google-auth-oauthlib<0.5,>=0.4.1->tensorboard<2.3.0,>=2.2.0->tensorflow->lucem-illud-2020==8.0.1) (1.3.0)\n",
            "Requirement already satisfied, skipping upgrade: pyasn1-modules>=0.2.1 in /usr/local/lib/python3.6/dist-packages (from google-auth<2,>=1.6.3->tensorboard<2.3.0,>=2.2.0->tensorflow->lucem-illud-2020==8.0.1) (0.2.8)\n",
            "Requirement already satisfied, skipping upgrade: cachetools<3.2,>=2.0.0 in /usr/local/lib/python3.6/dist-packages (from google-auth<2,>=1.6.3->tensorboard<2.3.0,>=2.2.0->tensorflow->lucem-illud-2020==8.0.1) (3.1.1)\n",
            "Requirement already satisfied, skipping upgrade: rsa<4.1,>=3.1.4 in /usr/local/lib/python3.6/dist-packages (from google-auth<2,>=1.6.3->tensorboard<2.3.0,>=2.2.0->tensorflow->lucem-illud-2020==8.0.1) (4.0)\n",
            "Requirement already satisfied, skipping upgrade: google-api-core<2.0.0dev,>=1.14.0 in /usr/local/lib/python3.6/dist-packages (from google-cloud-core<2.0dev,>=1.0.0->google-cloud-storage->smart-open>=1.2.1->gensim->lucem-illud-2020==8.0.1) (1.16.0)\n",
            "Requirement already satisfied, skipping upgrade: oauthlib>=3.0.0 in /usr/local/lib/python3.6/dist-packages (from requests-oauthlib>=0.7.0->google-auth-oauthlib<0.5,>=0.4.1->tensorboard<2.3.0,>=2.2.0->tensorflow->lucem-illud-2020==8.0.1) (3.1.0)\n",
            "Requirement already satisfied, skipping upgrade: pyasn1<0.5.0,>=0.4.6 in /usr/local/lib/python3.6/dist-packages (from pyasn1-modules>=0.2.1->google-auth<2,>=1.6.3->tensorboard<2.3.0,>=2.2.0->tensorflow->lucem-illud-2020==8.0.1) (0.4.8)\n",
            "Requirement already satisfied, skipping upgrade: googleapis-common-protos<2.0dev,>=1.6.0 in /usr/local/lib/python3.6/dist-packages (from google-api-core<2.0.0dev,>=1.14.0->google-cloud-core<2.0dev,>=1.0.0->google-cloud-storage->smart-open>=1.2.1->gensim->lucem-illud-2020==8.0.1) (1.51.0)\n",
            "Building wheels for collected packages: lucem-illud-2020, python-docx, pyanno3, traits, sacremoses\n",
            "  Building wheel for lucem-illud-2020 (setup.py) ... \u001b[?25l\u001b[?25hdone\n",
            "  Created wheel for lucem-illud-2020: filename=lucem_illud_2020-8.0.1-cp36-none-any.whl size=35151 sha256=0bdf06d53ed0bfeca082ae72268dded7af6314fc3d433c8e2d0d5064f0beddc9\n",
            "  Stored in directory: /tmp/pip-ephem-wheel-cache-kh21nwyd/wheels/a8/16/91/3c63788e494d360378317fe5ec9f4972f661844af8ae8c26f0\n",
            "  Building wheel for python-docx (setup.py) ... \u001b[?25l\u001b[?25hdone\n",
            "  Created wheel for python-docx: filename=python_docx-0.8.10-cp36-none-any.whl size=184491 sha256=c311be64ca6111466832de108ccb57da9a52f7669e7c48b8f110376167d9db7d\n",
            "  Stored in directory: /root/.cache/pip/wheels/18/0b/a0/1dd62ff812c857c9e487f27d80d53d2b40531bec1acecfa47b\n",
            "  Building wheel for pyanno3 (setup.py) ... \u001b[?25l\u001b[?25hdone\n",
            "  Created wheel for pyanno3: filename=pyanno3-2.0.2-cp36-none-any.whl size=116993 sha256=c8cb7be3ea3404466fd0fb485108e492d6e5ac5e7adb0cbfb9cd2de058c68182\n",
            "  Stored in directory: /root/.cache/pip/wheels/d8/5d/f6/7c1618b7471ec03ac97f6913baba31ae007003c4fa2bc99855\n",
            "  Building wheel for traits (setup.py) ... \u001b[?25l\u001b[?25hdone\n",
            "  Created wheel for traits: filename=traits-6.0.0-cp36-cp36m-linux_x86_64.whl size=385405 sha256=e7f1ffae19d34134208f291df73af1ac65b105d68338c5308cd82f5c8399a4ab\n",
            "  Stored in directory: /root/.cache/pip/wheels/41/a7/f0/d1dfae8d3a4e5638a40818830c741c1c0e9f8a590b9ea22935\n",
            "  Building wheel for sacremoses (setup.py) ... \u001b[?25l\u001b[?25hdone\n",
            "  Created wheel for sacremoses: filename=sacremoses-0.0.38-cp36-none-any.whl size=884628 sha256=3da713af2432d17122f0fa2db0e9b1be9878c08dab9d8c3947ca52045cdc8783\n",
            "  Stored in directory: /root/.cache/pip/wheels/6d/ec/1a/21b8912e35e02741306f35f66c785f3afe94de754a0eaf1422\n",
            "Successfully built lucem-illud-2020 python-docx pyanno3 traits sacremoses\n",
            "Installing collected packages: python-docx, pdfminer2, smmap, gitdb, GitPython, traits, pyanno3, pydub, speechrecognition, pysoundfile, tokenizers, sentencepiece, sacremoses, transformers, lucem-illud-2020\n",
            "Successfully installed GitPython-3.1.0 gitdb-4.0.2 lucem-illud-2020-8.0.1 pdfminer2-20151206 pyanno3-2.0.2 pydub-0.23.1 pysoundfile-0.9.0.post1 python-docx-0.8.10 sacremoses-0.0.38 sentencepiece-0.1.85 smmap-3.0.1 speechrecognition-3.8.1 tokenizers-0.0.11 traits-6.0.0 transformers-2.4.1\n"
          ],
          "name": "stdout"
        }
      ]
    },
    {
      "cell_type": "markdown",
      "metadata": {
        "id": "gKvsauszje6o",
        "colab_type": "text"
      },
      "source": [
        "## <span style=\"color:red\">*Pitch the Domain of your Project*</span>\n",
        "\n",
        "<span style=\"color:red\">In the two cells immediately following, describe **WHAT** you are planning to analyze for your final project (i.e., texts, contexts and the social game, world and actors you intend to learn about through your analysis) (<200 words) and **WHY** you are going to do it (i.e., why would theory and/or the average person benefit from knowing the results of your investigation) (<200 words)? [**Note**: your individual or collective project can change over the course of the quarter if new data and/or analysis opportunities arise or if old ones fade away.]"
      ]
    },
    {
      "cell_type": "markdown",
      "metadata": {
        "id": "M6i_csKBje6p",
        "colab_type": "text"
      },
      "source": [
        "## ***What?*** \n",
        "<200 words\n",
        "\n",
        "\n",
        "At the behest of the Atlantic Council, a think tank with ties to/funded by NATO and U.S. defense groups, a swath of Facebook pages that were said to be spreading disinformation were “purged” from the site. However, many of these pages were critical of U.S. foreign policy, leading to concerns about rising censorship on the social media platform. In this project, we would like to study the Facebook purge using text analysis methods. Specifically, we will explore whether the presence of certain topics related to national security and the positions media outlets take on them can be correlated with an increased risk of censorship.\n",
        "\n",
        "In order to detect these topics, we will collect and analyze text from the purged Facebook pages using methods such as LDA topic modeling and STM. Once topics related to foreign policy within the censored pages emerge, then we can compare these findings with the NOW, news on the web, dataset in the Davies Corpora to understand the semantic differences between the purged pages and mainstream media. We will, therefore, be able to model which topics trigger potential censorship. \n",
        "\n",
        "We then explore how those topics differ in treatment between the two words(censored news versus mainstream news) using Word2Vec models."
      ]
    },
    {
      "cell_type": "markdown",
      "metadata": {
        "id": "ifwx3qD1je6q",
        "colab_type": "text"
      },
      "source": [
        "## ***Why?***\n",
        "<200 words\n",
        "\n",
        "Within our project team, we often debate what features actually define Fake News. Does Fox spread misinformation, or does Al Jazeera? Cultural framings and personal biases dictate what a news consumer considers verified news or misinformation. Is the removal of articles from these publications censorship? Our own internal team debate reflects the larger public discussion around the subjectivity of journalism, as well as the difficulty in defining a standard for Fake News. Despite the difficulty, digital platforms today have been tasked with defining, identifying, and limiting misinformation on their sites. But it is important to critically examine, who exactly decides what is fake news, and the implications of that enforcing standard."
      ]
    },
    {
      "cell_type": "markdown",
      "metadata": {
        "id": "N78CTp7Nje6q",
        "colab_type": "text"
      },
      "source": [
        "## <span style=\"color:red\">*Pitch Your Sample*</span>\n",
        "\n",
        "<span style=\"color:red\">In the cell immediately following, describe the rationale behind your proposed sample design for your final project. What is the social game, social work, or social actors about whom you are seeking to make inferences? What are its virtues with respect to your research questions? What are its limitations? What are alternatives? What would be a reasonable path to \"scale up\" your sample for further analysis (i.e., high-profile publication)? (<200 words)."
      ]
    },
    {
      "cell_type": "markdown",
      "metadata": {
        "id": "V0VcjrJdmujY",
        "colab_type": "text"
      },
      "source": [
        "I wanted to create dimensions in vector space to project vectors \n",
        "\n",
        "onto. Specifically, I wanted to create three dimensions. \n",
        "\n",
        "First Dimension: Uncertainity/Certainity\n",
        "On this dimension I wanted to project \"Russian Interference\" and related phrases and compare it with 'Israel Interference' to measure if there was a difference in certainty in mainstream news articles and censored news articles.\n",
        "\n",
        "Second Dimension: Aggressor/Reactor\n",
        "On this dimension I wanted to project countries invovled in conflicts (Israel/Palestine), (Iran/U.S) to see if who is seen to be more aggressive and who is seen to be reacting to aggression from elsewhere.\n",
        "\n",
        "Third Dimension: Political Left/Political Right\n",
        "On this dimension I wanted to project media organinazations like CNN, MSNBC to see if they are conceptualized as left-wing or right-wing in both mainstream news articles and censored news articles\n",
        "\n",
        "To this end, I wanted to validate the words I chose to create the dimensions. \n"
      ]
    },
    {
      "cell_type": "code",
      "metadata": {
        "id": "vwixhH7cp7YQ",
        "colab_type": "code",
        "colab": {}
      },
      "source": [
        "The words used to create the dimensions are:\n",
        "Dimension 1:\n",
        "Certainty in Knowledge of an event\n",
        "proof\n",
        "fact\n",
        "evidence\n",
        "undeniably\n",
        "certainty\n",
        "knowledge\n",
        "reliable\n",
        "verifiable\n",
        "trustworthy\n",
        "persuasive\n",
        "confirmation\n",
        "\n",
        "Uncertainty in Knowledge/Skpeticism/Disbelief of an event\n",
        "inconclusive\n",
        "unproven\n",
        "unfounded\n",
        "speculation\n",
        "hearsay\n",
        "untrue\n",
        "uncertainty\n",
        "unknown\n",
        "specious\n",
        "unsupported\n",
        "unverified\n",
        "accusation\n",
        "\n",
        "Dimension 2:\n",
        "\n",
        "Aggresor(in relation to countries)\n",
        "oppress\n",
        "oppressor\n",
        "aggressor\n",
        "attack\n",
        "terrorize\n",
        "occupier\n",
        "interventionist\n",
        "\n",
        "Victim/Reactor/Non-Aggresor(in relation to countries)\n",
        "victim\n",
        "defender\n",
        "counterattack\n",
        "defend\n",
        "helpless\n",
        "\n",
        "Dimension 3:\n",
        "Leftist political ideology(words referencing)\n",
        "leftist\n",
        "democrat\n",
        "socialist\n",
        "anarchist\n",
        "marxist\n",
        "socialism\n",
        "marxism\n",
        "anarchism\n",
        "\n",
        "Right political ideology(words referencing)\n",
        "right_wing\n",
        "republican\n",
        "conservative\n",
        "corporatism\n",
        "corporatist\n",
        "fascism\n",
        "neoconservative\n",
        "neocon\n",
        "neoconservatives\n",
        "neocons"
      ],
      "execution_count": 0,
      "outputs": []
    },
    {
      "cell_type": "markdown",
      "metadata": {
        "id": "WB1wq8VRqh3m",
        "colab_type": "text"
      },
      "source": [
        "I asked three annotaters (2 Graduate School Students, 1 Post-Graduate) to validate if these words belonged to the category they fall under using a binary (1/0) option for each word. Then I performed the following analysis. The limitation of this approach is that, my initial choices for the words were subjectively made and the annotators can't add to my choices but at best disagree with them. "
      ]
    },
    {
      "cell_type": "markdown",
      "metadata": {
        "id": "BlojGBwtje7i",
        "colab_type": "text"
      },
      "source": [
        "## <span style=\"color:red\">*Your turn*</span>\n",
        "\n",
        "<span style=\"color:red\">Perform a content annotation survey of some kind in which at least 3 people evaluate and code each piece of content, using Amazon Mechanical Turk as described in the MTurk slides in the Assignment link on Canvas, or by hand with friends.  With the resulting data, calculate, visualize and discuss inter-coder agreement or covariation with appropriate metrics. What does this means for the reliability of human assessments regarding content in your domain?"
      ]
    },
    {
      "cell_type": "code",
      "metadata": {
        "id": "ZG2SQZhkpgos",
        "colab_type": "code",
        "outputId": "133d2c8a-1a42-43b0-db2e-ac130bca8640",
        "colab": {
          "base_uri": "https://localhost:8080/",
          "height": 122
        }
      },
      "source": [
        "from google.colab import drive\n",
        "drive.mount('/content/drive')"
      ],
      "execution_count": 3,
      "outputs": [
        {
          "output_type": "stream",
          "text": [
            "Go to this URL in a browser: https://accounts.google.com/o/oauth2/auth?client_id=947318989803-6bn6qk8qdgf4n4g3pfee6491hc0brc4i.apps.googleusercontent.com&redirect_uri=urn%3aietf%3awg%3aoauth%3a2.0%3aoob&response_type=code&scope=email%20https%3a%2f%2fwww.googleapis.com%2fauth%2fdocs.test%20https%3a%2f%2fwww.googleapis.com%2fauth%2fdrive%20https%3a%2f%2fwww.googleapis.com%2fauth%2fdrive.photos.readonly%20https%3a%2f%2fwww.googleapis.com%2fauth%2fpeopleapi.readonly\n",
            "\n",
            "Enter your authorization code:\n",
            "··········\n",
            "Mounted at /content/drive\n"
          ],
          "name": "stdout"
        }
      ]
    },
    {
      "cell_type": "code",
      "metadata": {
        "id": "vqj09AE0mPF5",
        "colab_type": "code",
        "colab": {}
      },
      "source": [
        "x = np.loadtxt(\"/content/drive/My Drive/Content Analysis/week-2/Annotations.txt\")\n",
        "anno = AnnotationsContainer.from_array(x, missing_values=[-1])"
      ],
      "execution_count": 0,
      "outputs": []
    },
    {
      "cell_type": "code",
      "metadata": {
        "id": "USADLuq4p1NQ",
        "colab_type": "code",
        "outputId": "c9530642-ec91-454a-8963-eea461444a98",
        "colab": {
          "base_uri": "https://localhost:8080/",
          "height": 958
        }
      },
      "source": [
        "#printing out the annotations (53 words, 3 annotators)\n",
        "#Looking at the annotations, there seem to be a lot of 1's, which corresponds to agreement with my choices.\n",
        "#Annotater 2 seems to agree with all my choices\n",
        "anno.annotations"
      ],
      "execution_count": 0,
      "outputs": [
        {
          "output_type": "execute_result",
          "data": {
            "text/plain": [
              "array([[1, 1, 1],\n",
              "       [1, 1, 1],\n",
              "       [1, 1, 1],\n",
              "       [1, 1, 1],\n",
              "       [1, 1, 1],\n",
              "       [0, 1, 0],\n",
              "       [1, 1, 1],\n",
              "       [1, 1, 1],\n",
              "       [0, 1, 1],\n",
              "       [0, 1, 1],\n",
              "       [0, 1, 1],\n",
              "       [1, 1, 1],\n",
              "       [1, 1, 1],\n",
              "       [1, 1, 1],\n",
              "       [1, 1, 1],\n",
              "       [0, 1, 1],\n",
              "       [1, 1, 1],\n",
              "       [1, 1, 1],\n",
              "       [1, 1, 1],\n",
              "       [0, 1, 1],\n",
              "       [1, 1, 1],\n",
              "       [1, 1, 1],\n",
              "       [0, 1, 0],\n",
              "       [1, 1, 1],\n",
              "       [1, 1, 1],\n",
              "       [1, 1, 1],\n",
              "       [1, 1, 1],\n",
              "       [1, 1, 1],\n",
              "       [1, 1, 1],\n",
              "       [1, 1, 1],\n",
              "       [1, 1, 1],\n",
              "       [1, 1, 1],\n",
              "       [0, 1, 1],\n",
              "       [1, 1, 1],\n",
              "       [1, 1, 1],\n",
              "       [1, 1, 1],\n",
              "       [1, 1, 1],\n",
              "       [1, 1, 1],\n",
              "       [1, 1, 1],\n",
              "       [1, 1, 1],\n",
              "       [1, 1, 1],\n",
              "       [1, 1, 1],\n",
              "       [1, 1, 1],\n",
              "       [1, 1, 1],\n",
              "       [1, 1, 1],\n",
              "       [1, 1, 1],\n",
              "       [1, 1, 1],\n",
              "       [1, 1, 1],\n",
              "       [1, 1, 1],\n",
              "       [1, 1, 1],\n",
              "       [1, 1, 1],\n",
              "       [1, 1, 1],\n",
              "       [1, 1, 1]])"
            ]
          },
          "metadata": {
            "tags": []
          },
          "execution_count": 105
        }
      ]
    },
    {
      "cell_type": "code",
      "metadata": {
        "id": "YIHNSoH2p83T",
        "colab_type": "code",
        "outputId": "677f454f-06e6-4b33-c073-cb9d2a50aee9",
        "colab": {
          "base_uri": "https://localhost:8080/",
          "height": 34
        }
      },
      "source": [
        "#printing out the binary labels\n",
        "anno.labels"
      ],
      "execution_count": 0,
      "outputs": [
        {
          "output_type": "execute_result",
          "data": {
            "text/plain": [
              "[0.0, 1.0]"
            ]
          },
          "metadata": {
            "tags": []
          },
          "execution_count": 32
        }
      ]
    },
    {
      "cell_type": "code",
      "metadata": {
        "colab_type": "code",
        "outputId": "f058b2ff-9720-4f5d-e230-af5bf7865599",
        "id": "I_gpmaw8tpO1",
        "colab": {
          "base_uri": "https://localhost:8080/",
          "height": 34
        }
      },
      "source": [
        "#no missing values\n",
        "anno.missing_values"
      ],
      "execution_count": 0,
      "outputs": [
        {
          "output_type": "execute_result",
          "data": {
            "text/plain": [
              "[]"
            ]
          },
          "metadata": {
            "tags": []
          },
          "execution_count": 33
        }
      ]
    },
    {
      "cell_type": "code",
      "metadata": {
        "id": "m93WOwFUtuu9",
        "colab_type": "code",
        "outputId": "5a1127f2-2212-4e5d-e7a0-09aa19fd6704",
        "colab": {
          "base_uri": "https://localhost:8080/",
          "height": 34
        }
      },
      "source": [
        "#immeadiately we notice that when it comes to 1's, there is good agreement, which suggests that the original choices for the words I made were reasonable.\n",
        "#However there is not way to know if they were exhaustive. When it comes to 0's, the relative sparsity of those labels is affecting the pairwise scores. \n",
        "pyanno.measures.agreement.labels_frequency(anno.annotations,2)"
      ],
      "execution_count": 0,
      "outputs": [
        {
          "output_type": "execute_result",
          "data": {
            "text/plain": [
              "array([0.06289308, 0.93710692])"
            ]
          },
          "metadata": {
            "tags": []
          },
          "execution_count": 34
        }
      ]
    },
    {
      "cell_type": "code",
      "metadata": {
        "id": "WRd5jFxht2ss",
        "colab_type": "code",
        "outputId": "00149c96-13da-4a0b-ff2d-7ae2c89d2508",
        "colab": {
          "base_uri": "https://localhost:8080/",
          "height": 304
        }
      },
      "source": [
        "c = pyanno.measures.agreement.confusion_matrix(anno.annotations[:,0], anno.annotations[:,2],2)\n",
        "print(c)\n",
        "ac = seaborn.heatmap(c)\n",
        "plt.show()"
      ],
      "execution_count": 0,
      "outputs": [
        {
          "output_type": "stream",
          "text": [
            "[[ 2.  6.]\n",
            " [ 0. 45.]]\n"
          ],
          "name": "stdout"
        },
        {
          "output_type": "display_data",
          "data": {
            "image/png": "[encoded data removed]",
            "text/plain": [
              "<Figure size 432x288 with 2 Axes>"
            ]
          },
          "metadata": {
            "tags": []
          }
        }
      ]
    },
    {
      "cell_type": "markdown",
      "metadata": {
        "id": "bFnYWH193kA5",
        "colab_type": "text"
      },
      "source": [
        "I choose to compare annotator 1 and 3 since annotator two agree with all my choices. Turns out that there is great agreement on most of the cases."
      ]
    },
    {
      "cell_type": "code",
      "metadata": {
        "id": "y0mEDnuFuUIj",
        "colab_type": "code",
        "outputId": "262a8115-c4c4-4014-b4f5-9c2a49228dfa",
        "colab": {
          "base_uri": "https://localhost:8080/",
          "height": 34
        }
      },
      "source": [
        "scotts_pi(anno.annotations[:,0], anno.annotations[:,2])"
      ],
      "execution_count": 0,
      "outputs": [
        {
          "output_type": "execute_result",
          "data": {
            "text/plain": [
              "0.33749999999999997"
            ]
          },
          "metadata": {
            "tags": []
          },
          "execution_count": 36
        }
      ]
    },
    {
      "cell_type": "markdown",
      "metadata": {
        "id": "0YlIyqCW33e5",
        "colab_type": "text"
      },
      "source": [
        "Scott's pi is not very high, I suspect this is because of the sparsity of certain labels. Perhaps it's not a good indicator for unbalanced annotations."
      ]
    },
    {
      "cell_type": "markdown",
      "metadata": {
        "id": "8JfjOGex31vU",
        "colab_type": "text"
      },
      "source": [
        ""
      ]
    },
    {
      "cell_type": "code",
      "metadata": {
        "id": "PLPYG4r8tldJ",
        "colab_type": "code",
        "outputId": "2d461055-5e7d-46da-ec4b-0520db679b0a",
        "colab": {
          "base_uri": "https://localhost:8080/",
          "height": 34
        }
      },
      "source": [
        "fleiss_kappa(anno.annotations[::])"
      ],
      "execution_count": 0,
      "outputs": [
        {
          "output_type": "execute_result",
          "data": {
            "text/plain": [
              "0.1463087248322164"
            ]
          },
          "metadata": {
            "tags": []
          },
          "execution_count": 37
        }
      ]
    },
    {
      "cell_type": "markdown",
      "metadata": {
        "id": "96hiAXyI4Jho",
        "colab_type": "text"
      },
      "source": [
        "Fleiss kappa is even lower, this suggests that it's even more sensitive to the sparsity of 0's"
      ]
    },
    {
      "cell_type": "code",
      "metadata": {
        "id": "NDe1Va8svqZO",
        "colab_type": "code",
        "outputId": "561f0217-5bc7-4598-a0c2-23784d9e27c5",
        "colab": {
          "base_uri": "https://localhost:8080/",
          "height": 34
        }
      },
      "source": [
        "krippendorffs_alpha(anno.annotations[::])"
      ],
      "execution_count": 0,
      "outputs": [
        {
          "output_type": "execute_result",
          "data": {
            "text/plain": [
              "0.15167785234899334"
            ]
          },
          "metadata": {
            "tags": []
          },
          "execution_count": 38
        }
      ]
    },
    {
      "cell_type": "markdown",
      "metadata": {
        "id": "EBnc0op04iMn",
        "colab_type": "text"
      },
      "source": [
        "Overall krippendorffs scores is low which can be expected given, it's a generalization of the previous score to multiple annotators."
      ]
    },
    {
      "cell_type": "code",
      "metadata": {
        "id": "oLi-3Ly3vybH",
        "colab_type": "code",
        "outputId": "336835ea-95fe-41eb-dd0d-cea18ff3fda0",
        "colab": {
          "base_uri": "https://localhost:8080/",
          "height": 34
        }
      },
      "source": [
        "cohens_kappa(anno.annotations[:,0], anno.annotations[:,2])"
      ],
      "execution_count": 0,
      "outputs": [
        {
          "output_type": "execute_result",
          "data": {
            "text/plain": [
              "0.3614457831325299"
            ]
          },
          "metadata": {
            "tags": []
          },
          "execution_count": 39
        }
      ]
    },
    {
      "cell_type": "markdown",
      "metadata": {
        "id": "i1ymnMeZ4zSR",
        "colab_type": "text"
      },
      "source": [
        "Cohen's kappa seems similiar to scott's pi. Low score could be due to sparsity of 0's. "
      ]
    },
    {
      "cell_type": "code",
      "metadata": {
        "id": "nBry6AL_v3-2",
        "colab_type": "code",
        "outputId": "f475681e-6b8d-4c99-99c5-f65c79b34a1d",
        "colab": {
          "base_uri": "https://localhost:8080/",
          "height": 34
        }
      },
      "source": [
        "cohens_kappa(anno.annotations[:,0], anno.annotations[:,1])"
      ],
      "execution_count": 0,
      "outputs": [
        {
          "output_type": "execute_result",
          "data": {
            "text/plain": [
              "0.0"
            ]
          },
          "metadata": {
            "tags": []
          },
          "execution_count": 40
        }
      ]
    },
    {
      "cell_type": "markdown",
      "metadata": {
        "id": "IWmO1NCt5bSC",
        "colab_type": "text"
      },
      "source": [
        "Comparing any annotator to annotator 2 who agreed with all my choices leads to a score of zero. This metric suggests the agreements are by chance. Perhaps the metric suggests that a person who labels all datapoints the same way is not a worthy annotator."
      ]
    },
    {
      "cell_type": "code",
      "metadata": {
        "id": "-_UYhL74v-Yb",
        "colab_type": "code",
        "outputId": "6fdd208a-360d-4ddb-81b0-b6089a6327b1",
        "colab": {
          "base_uri": "https://localhost:8080/",
          "height": 34
        }
      },
      "source": [
        "cohens_kappa(anno.annotations[:,1], anno.annotations[:,2])"
      ],
      "execution_count": 0,
      "outputs": [
        {
          "output_type": "execute_result",
          "data": {
            "text/plain": [
              "0.0"
            ]
          },
          "metadata": {
            "tags": []
          },
          "execution_count": 42
        }
      ]
    },
    {
      "cell_type": "code",
      "metadata": {
        "id": "C8g6R2NwwDaq",
        "colab_type": "code",
        "outputId": "8a8ab527-997f-4e93-ec01-b9a9e8edb545",
        "colab": {
          "base_uri": "https://localhost:8080/",
          "height": 105
        }
      },
      "source": [
        "m = pairwise_matrix(cohens_kappa, anno.annotations)\n",
        "print(m)"
      ],
      "execution_count": 0,
      "outputs": [
        {
          "output_type": "stream",
          "text": [
            "[[1.         0.         0.36144578]\n",
            " [0.                nan 0.        ]\n",
            " [0.36144578 0.         1.        ]]\n"
          ],
          "name": "stdout"
        },
        {
          "output_type": "stream",
          "text": [
            "/usr/local/lib/python3.6/dist-packages/pyanno/measures/helpers.py:166: RuntimeWarning: invalid value encountered in double_scalars\n",
            "  return (observed_agreement - chance_agreement) / (1. - chance_agreement)\n"
          ],
          "name": "stderr"
        }
      ]
    },
    {
      "cell_type": "code",
      "metadata": {
        "id": "3kN06VLHwVRx",
        "colab_type": "code",
        "outputId": "cc5631d7-d156-4e92-8a38-caa6ed798b97",
        "colab": {
          "base_uri": "https://localhost:8080/",
          "height": 268
        }
      },
      "source": [
        "ax = seaborn.heatmap(m)\n",
        "plt.show()"
      ],
      "execution_count": 0,
      "outputs": [
        {
          "output_type": "display_data",
          "data": {
            "image/png": "[encoded data removed]",
            "text/plain": [
              "<Figure size 432x288 with 2 Axes>"
            ]
          },
          "metadata": {
            "tags": []
          }
        }
      ]
    },
    {
      "cell_type": "code",
      "metadata": {
        "id": "kTq761Mvwecl",
        "colab_type": "code",
        "colab": {}
      },
      "source": [
        "def pairwise_metric_average(metric, array):\n",
        "    \"\"\"Calculate the pairwise metric average for the real elements of metric function run on an array of annotations\"\"\"\n",
        "    p = permutations(range(array[0,:].size),2)\n",
        "    m = [metric(array[:,x[0]], array[:,x[1]]) for x in p]\n",
        "    clean_m = [c for c in m if not math.isnan(c)]\n",
        "    return reduce(lambda a, b: a + b, clean_m)/len(clean_m)    \n",
        " \n"
      ],
      "execution_count": 0,
      "outputs": []
    },
    {
      "cell_type": "code",
      "metadata": {
        "id": "7BVY-zcREVFI",
        "colab_type": "code",
        "outputId": "5adcfd77-f32b-4f6b-d0cc-8a4e4c3ece3d",
        "colab": {
          "base_uri": "https://localhost:8080/",
          "height": 34
        }
      },
      "source": [
        "pairwise_metric_average(cohens_kappa, anno.annotations)"
      ],
      "execution_count": 0,
      "outputs": [
        {
          "output_type": "execute_result",
          "data": {
            "text/plain": [
              "0.1204819277108433"
            ]
          },
          "metadata": {
            "tags": []
          },
          "execution_count": 46
        }
      ]
    },
    {
      "cell_type": "markdown",
      "metadata": {
        "id": "OUfJlWxM59ad",
        "colab_type": "text"
      },
      "source": [
        "Given the low pairwise score of 0 when comparing with the second annotator, the pairwise average is not suprising at all."
      ]
    },
    {
      "cell_type": "code",
      "metadata": {
        "id": "ZC6Jzx9_wkl_",
        "colab_type": "code",
        "outputId": "fdd35879-3bd3-47f5-f8c1-93c70f42e8d6",
        "colab": {
          "base_uri": "https://localhost:8080/",
          "height": 34
        }
      },
      "source": [
        "cohens_weighted_kappa(anno.annotations[:,0], anno.annotations[:,2])"
      ],
      "execution_count": 5,
      "outputs": [
        {
          "output_type": "execute_result",
          "data": {
            "text/plain": [
              "0.36144578313253006"
            ]
          },
          "metadata": {
            "tags": []
          },
          "execution_count": 5
        }
      ]
    },
    {
      "cell_type": "code",
      "metadata": {
        "id": "0665meG27Rub",
        "colab_type": "code",
        "colab": {
          "base_uri": "https://localhost:8080/",
          "height": 34
        },
        "outputId": "d4fb2c07-f848-421e-dac8-76efd6ccecac"
      },
      "source": [
        "cohens_weighted_kappa(anno.annotations[:,0], anno.annotations[:,1])"
      ],
      "execution_count": 6,
      "outputs": [
        {
          "output_type": "execute_result",
          "data": {
            "text/plain": [
              "0.0"
            ]
          },
          "metadata": {
            "tags": []
          },
          "execution_count": 6
        }
      ]
    },
    {
      "cell_type": "code",
      "metadata": {
        "id": "Y51Ea-fJwm-E",
        "colab_type": "code",
        "outputId": "9ee071e5-8ce7-4389-eab4-060ee69a655d",
        "colab": {
          "base_uri": "https://localhost:8080/",
          "height": 34
        }
      },
      "source": [
        "pairwise_metric_average(cohens_weighted_kappa,anno.annotations)"
      ],
      "execution_count": 0,
      "outputs": [
        {
          "output_type": "execute_result",
          "data": {
            "text/plain": [
              "0.12048192771084336"
            ]
          },
          "metadata": {
            "tags": []
          },
          "execution_count": 48
        }
      ]
    },
    {
      "cell_type": "markdown",
      "metadata": {
        "id": "AeHsuj7l7gR3",
        "colab_type": "text"
      },
      "source": [
        "The situation with Cohen's weighted kappa looks about the same. "
      ]
    },
    {
      "cell_type": "markdown",
      "metadata": {
        "id": "MTqXXVsN7klr",
        "colab_type": "text"
      },
      "source": [
        "The problem seems to be that because there is such a high agreement and that that agreements happens in one label which is predominant, these metrics seems to think the agreement is by chance. That makes sense..I spoke to every annotator at this point and they seemed to have given the annotations lots of thought and were able to explain their choices."
      ]
    },
    {
      "cell_type": "markdown",
      "metadata": {
        "id": "HFIovSjGFgCb",
        "colab_type": "text"
      },
      "source": [
        "Your turn\n",
        "In the cells immediately following, use the results of your content annotation survey to predict high and low-quality analysts, then predict MAP estimates for your codes in question. What do these estimates suggest about the distribution of skill among your coders? How different are these estimates from a majority vote?"
      ]
    },
    {
      "cell_type": "markdown",
      "metadata": {
        "id": "fIZ_cO9i77UA",
        "colab_type": "text"
      },
      "source": [
        "Now I will try to determine using the various estimators if all annotators were equally reliable."
      ]
    },
    {
      "cell_type": "code",
      "metadata": {
        "id": "da5g1BQIFil8",
        "colab_type": "code",
        "outputId": "683be6a4-abc3-4117-892b-f90596ee91b6",
        "colab": {
          "base_uri": "https://localhost:8080/",
          "height": 34
        }
      },
      "source": [
        "model = ModelB.create_initial_state(2, 3)\n",
        "print(model.log_likelihood(anno.annotations))"
      ],
      "execution_count": 7,
      "outputs": [
        {
          "output_type": "stream",
          "text": [
            "-102.84595350573866\n"
          ],
          "name": "stdout"
        }
      ]
    },
    {
      "cell_type": "code",
      "metadata": {
        "id": "Foaoq5X4VYFM",
        "colab_type": "code",
        "colab": {}
      },
      "source": [
        "samples = model.sample_posterior_over_accuracy(anno.annotations, 200, burn_in_samples=100, thin_samples=3)"
      ],
      "execution_count": 0,
      "outputs": []
    },
    {
      "cell_type": "code",
      "metadata": {
        "id": "Au4mZIR2Voy1",
        "colab_type": "code",
        "outputId": "96d8e99d-eec3-4bb8-f9d0-e2698384e95b",
        "colab": {
          "base_uri": "https://localhost:8080/",
          "height": 34
        }
      },
      "source": [
        "model.map(anno.annotations)\n",
        "print(model.log_likelihood(anno.annotations))"
      ],
      "execution_count": 9,
      "outputs": [
        {
          "output_type": "stream",
          "text": [
            "-33.812256934932236\n"
          ],
          "name": "stdout"
        }
      ]
    },
    {
      "cell_type": "markdown",
      "metadata": {
        "id": "SOfJG8aD8zB8",
        "colab_type": "text"
      },
      "source": [
        "The model's log likelihood increases when annotations are being accounted for, which indicates reduction in information entropy present in the model initialization."
      ]
    },
    {
      "cell_type": "code",
      "metadata": {
        "id": "US61OalXWbM_",
        "colab_type": "code",
        "outputId": "e07a5a58-e51b-4358-fbf7-7f217174a240",
        "colab": {
          "base_uri": "https://localhost:8080/",
          "height": 958
        }
      },
      "source": [
        "posterior = model.infer_labels(anno.annotations)\n",
        "print((posterior))"
      ],
      "execution_count": 0,
      "outputs": [
        {
          "output_type": "stream",
          "text": [
            "[[4.86352384e-12 1.00000000e+00]\n",
            " [4.86352384e-12 1.00000000e+00]\n",
            " [4.86352384e-12 1.00000000e+00]\n",
            " [4.86352384e-12 1.00000000e+00]\n",
            " [4.86352384e-12 1.00000000e+00]\n",
            " [8.75434297e-09 9.99999991e-01]\n",
            " [4.86352384e-12 1.00000000e+00]\n",
            " [4.86352384e-12 1.00000000e+00]\n",
            " [1.32641560e-10 1.00000000e+00]\n",
            " [1.32641560e-10 1.00000000e+00]\n",
            " [1.32641560e-10 1.00000000e+00]\n",
            " [4.86352384e-12 1.00000000e+00]\n",
            " [4.86352384e-12 1.00000000e+00]\n",
            " [4.86352384e-12 1.00000000e+00]\n",
            " [4.86352384e-12 1.00000000e+00]\n",
            " [1.32641560e-10 1.00000000e+00]\n",
            " [4.86352384e-12 1.00000000e+00]\n",
            " [4.86352384e-12 1.00000000e+00]\n",
            " [4.86352384e-12 1.00000000e+00]\n",
            " [1.32641560e-10 1.00000000e+00]\n",
            " [4.86352384e-12 1.00000000e+00]\n",
            " [4.86352384e-12 1.00000000e+00]\n",
            " [8.75434297e-09 9.99999991e-01]\n",
            " [4.86352384e-12 1.00000000e+00]\n",
            " [4.86352384e-12 1.00000000e+00]\n",
            " [4.86352384e-12 1.00000000e+00]\n",
            " [4.86352384e-12 1.00000000e+00]\n",
            " [4.86352384e-12 1.00000000e+00]\n",
            " [4.86352384e-12 1.00000000e+00]\n",
            " [4.86352384e-12 1.00000000e+00]\n",
            " [4.86352384e-12 1.00000000e+00]\n",
            " [4.86352384e-12 1.00000000e+00]\n",
            " [1.32641560e-10 1.00000000e+00]\n",
            " [4.86352384e-12 1.00000000e+00]\n",
            " [4.86352384e-12 1.00000000e+00]\n",
            " [4.86352384e-12 1.00000000e+00]\n",
            " [4.86352384e-12 1.00000000e+00]\n",
            " [4.86352384e-12 1.00000000e+00]\n",
            " [4.86352384e-12 1.00000000e+00]\n",
            " [4.86352384e-12 1.00000000e+00]\n",
            " [4.86352384e-12 1.00000000e+00]\n",
            " [4.86352384e-12 1.00000000e+00]\n",
            " [4.86352384e-12 1.00000000e+00]\n",
            " [4.86352384e-12 1.00000000e+00]\n",
            " [4.86352384e-12 1.00000000e+00]\n",
            " [4.86352384e-12 1.00000000e+00]\n",
            " [4.86352384e-12 1.00000000e+00]\n",
            " [4.86352384e-12 1.00000000e+00]\n",
            " [4.86352384e-12 1.00000000e+00]\n",
            " [4.86352384e-12 1.00000000e+00]\n",
            " [4.86352384e-12 1.00000000e+00]\n",
            " [4.86352384e-12 1.00000000e+00]\n",
            " [4.86352384e-12 1.00000000e+00]]\n"
          ],
          "name": "stdout"
        }
      ]
    },
    {
      "cell_type": "markdown",
      "metadata": {
        "id": "5FNB3fnU8GV4",
        "colab_type": "text"
      },
      "source": [
        "Unfortunately the model seems to predict 1 for every datapoint even though my majority voting, a couple datapoints have zero. To visualize this point I used the following provided function."
      ]
    },
    {
      "cell_type": "code",
      "metadata": {
        "id": "0kGx5p5TW4sF",
        "colab_type": "code",
        "colab": {}
      },
      "source": [
        "votes = []\n",
        "for r in anno.annotations:\n",
        "    v = [0] * len(anno.labels)\n",
        "    votes.append(v)\n",
        "    for a in r:\n",
        "        if a > -1:\n",
        "            v[a] += 1\n",
        "votes_array = np.array(votes)"
      ],
      "execution_count": 0,
      "outputs": []
    },
    {
      "cell_type": "code",
      "metadata": {
        "id": "rIcU3d1rXQ9Q",
        "colab_type": "code",
        "outputId": "7d65f1d2-678a-4d07-c9b5-9995c939acbc",
        "colab": {
          "base_uri": "https://localhost:8080/",
          "height": 606
        }
      },
      "source": [
        "fig, (ax1, ax2) = plt.subplots(ncols=2, figsize = (15, 10), sharey=True)\n",
        "num_questions = 53\n",
        "\n",
        "seaborn.heatmap(votes_array[:num_questions], annot = True, ax=ax2)\n",
        "seaborn.heatmap(posterior[:num_questions], annot=True, ax =ax1)\n",
        "ax1.set_title(\"Model\")\n",
        "ax2.set_title(\"Votes\")\n",
        "plt.show()"
      ],
      "execution_count": 0,
      "outputs": [
        {
          "output_type": "display_data",
          "data": {
            "image/png": "[encoded data removed]",
            "text/plain": [
              "<Figure size 1080x720 with 4 Axes>"
            ]
          },
          "metadata": {
            "tags": []
          }
        }
      ]
    },
    {
      "cell_type": "markdown",
      "metadata": {
        "id": "GOMN3_Km8Vcb",
        "colab_type": "text"
      },
      "source": [
        "The above confirms that the modelling also does not account for sparsity in labels even thought for a particular datapoint the sparse label is in marjority."
      ]
    },
    {
      "cell_type": "markdown",
      "metadata": {
        "id": "t7afVKZF8jm1",
        "colab_type": "text"
      },
      "source": [
        "I will only try to repeat the experiment with the other model."
      ]
    },
    {
      "cell_type": "code",
      "metadata": {
        "id": "TmTP087hX5zJ",
        "colab_type": "code",
        "colab": {
          "base_uri": "https://localhost:8080/",
          "height": 51
        },
        "outputId": "5ab44d11-b5fe-48a4-c5d2-be10eea6b134"
      },
      "source": [
        "model = ModelBt.create_initial_state(2, 3)\n",
        "print(model.theta)\n",
        "print(model.log_likelihood(anno.annotations))"
      ],
      "execution_count": 10,
      "outputs": [
        {
          "output_type": "stream",
          "text": [
            "[0.73609492 0.80856917 0.63204962]\n",
            "-164.15582357139616\n"
          ],
          "name": "stdout"
        }
      ]
    },
    {
      "cell_type": "code",
      "metadata": {
        "id": "wUjWqPmnYDiE",
        "colab_type": "code",
        "outputId": "f9b2359e-e694-4db2-cd80-6daed22b27a6",
        "colab": {
          "base_uri": "https://localhost:8080/",
          "height": 51
        }
      },
      "source": [
        "model.map(anno.annotations)\n",
        "print(model.theta)\n",
        "print(model.log_likelihood(anno.annotations))"
      ],
      "execution_count": 11,
      "outputs": [
        {
          "output_type": "stream",
          "text": [
            "[0.85244091 0.99999827 0.96334579]\n",
            "-31.009564926510315\n"
          ],
          "name": "stdout"
        }
      ]
    },
    {
      "cell_type": "markdown",
      "metadata": {
        "id": "evkqol1R9RF9",
        "colab_type": "text"
      },
      "source": [
        "Once again entropy decreases once annotations are accounted for"
      ]
    },
    {
      "cell_type": "code",
      "metadata": {
        "id": "oe2N_IxvYEy8",
        "colab_type": "code",
        "outputId": "1fb289d4-6e4d-426c-85e1-47f3c6b85d30",
        "colab": {
          "base_uri": "https://localhost:8080/",
          "height": 958
        }
      },
      "source": [
        "samples = model.sample_posterior_over_accuracy(anno.annotations, 200, burn_in_samples=100, thin_samples=3)\n",
        "posterior2 = model.infer_labels(anno.annotations)\n",
        "print(posterior2)"
      ],
      "execution_count": 0,
      "outputs": [
        {
          "output_type": "stream",
          "text": [
            "[[4.86352384e-12 1.00000000e+00]\n",
            " [4.86352384e-12 1.00000000e+00]\n",
            " [4.86352384e-12 1.00000000e+00]\n",
            " [4.86352384e-12 1.00000000e+00]\n",
            " [4.86352384e-12 1.00000000e+00]\n",
            " [8.75434297e-09 9.99999991e-01]\n",
            " [4.86352384e-12 1.00000000e+00]\n",
            " [4.86352384e-12 1.00000000e+00]\n",
            " [1.32641560e-10 1.00000000e+00]\n",
            " [1.32641560e-10 1.00000000e+00]\n",
            " [1.32641560e-10 1.00000000e+00]\n",
            " [4.86352384e-12 1.00000000e+00]\n",
            " [4.86352384e-12 1.00000000e+00]\n",
            " [4.86352384e-12 1.00000000e+00]\n",
            " [4.86352384e-12 1.00000000e+00]\n",
            " [1.32641560e-10 1.00000000e+00]\n",
            " [4.86352384e-12 1.00000000e+00]\n",
            " [4.86352384e-12 1.00000000e+00]\n",
            " [4.86352384e-12 1.00000000e+00]\n",
            " [1.32641560e-10 1.00000000e+00]\n",
            " [4.86352384e-12 1.00000000e+00]\n",
            " [4.86352384e-12 1.00000000e+00]\n",
            " [8.75434297e-09 9.99999991e-01]\n",
            " [4.86352384e-12 1.00000000e+00]\n",
            " [4.86352384e-12 1.00000000e+00]\n",
            " [4.86352384e-12 1.00000000e+00]\n",
            " [4.86352384e-12 1.00000000e+00]\n",
            " [4.86352384e-12 1.00000000e+00]\n",
            " [4.86352384e-12 1.00000000e+00]\n",
            " [4.86352384e-12 1.00000000e+00]\n",
            " [4.86352384e-12 1.00000000e+00]\n",
            " [4.86352384e-12 1.00000000e+00]\n",
            " [1.32641560e-10 1.00000000e+00]\n",
            " [4.86352384e-12 1.00000000e+00]\n",
            " [4.86352384e-12 1.00000000e+00]\n",
            " [4.86352384e-12 1.00000000e+00]\n",
            " [4.86352384e-12 1.00000000e+00]\n",
            " [4.86352384e-12 1.00000000e+00]\n",
            " [4.86352384e-12 1.00000000e+00]\n",
            " [4.86352384e-12 1.00000000e+00]\n",
            " [4.86352384e-12 1.00000000e+00]\n",
            " [4.86352384e-12 1.00000000e+00]\n",
            " [4.86352384e-12 1.00000000e+00]\n",
            " [4.86352384e-12 1.00000000e+00]\n",
            " [4.86352384e-12 1.00000000e+00]\n",
            " [4.86352384e-12 1.00000000e+00]\n",
            " [4.86352384e-12 1.00000000e+00]\n",
            " [4.86352384e-12 1.00000000e+00]\n",
            " [4.86352384e-12 1.00000000e+00]\n",
            " [4.86352384e-12 1.00000000e+00]\n",
            " [4.86352384e-12 1.00000000e+00]\n",
            " [4.86352384e-12 1.00000000e+00]\n",
            " [4.86352384e-12 1.00000000e+00]]\n"
          ],
          "name": "stdout"
        }
      ]
    },
    {
      "cell_type": "markdown",
      "metadata": {
        "id": "6562VF8v9XQz",
        "colab_type": "text"
      },
      "source": [
        "We seem to have the same issue as the previous model with all annotations being essentially marked 1 with high certainty."
      ]
    },
    {
      "cell_type": "code",
      "metadata": {
        "id": "uQooN9zTYgjF",
        "colab_type": "code",
        "outputId": "792e8538-fd8f-4cdf-c047-36e3b40a5ae1",
        "colab": {
          "base_uri": "https://localhost:8080/",
          "height": 958
        }
      },
      "source": [
        "posterior2-posterior"
      ],
      "execution_count": 0,
      "outputs": [
        {
          "output_type": "execute_result",
          "data": {
            "text/plain": [
              "array([[0., 0.],\n",
              "       [0., 0.],\n",
              "       [0., 0.],\n",
              "       [0., 0.],\n",
              "       [0., 0.],\n",
              "       [0., 0.],\n",
              "       [0., 0.],\n",
              "       [0., 0.],\n",
              "       [0., 0.],\n",
              "       [0., 0.],\n",
              "       [0., 0.],\n",
              "       [0., 0.],\n",
              "       [0., 0.],\n",
              "       [0., 0.],\n",
              "       [0., 0.],\n",
              "       [0., 0.],\n",
              "       [0., 0.],\n",
              "       [0., 0.],\n",
              "       [0., 0.],\n",
              "       [0., 0.],\n",
              "       [0., 0.],\n",
              "       [0., 0.],\n",
              "       [0., 0.],\n",
              "       [0., 0.],\n",
              "       [0., 0.],\n",
              "       [0., 0.],\n",
              "       [0., 0.],\n",
              "       [0., 0.],\n",
              "       [0., 0.],\n",
              "       [0., 0.],\n",
              "       [0., 0.],\n",
              "       [0., 0.],\n",
              "       [0., 0.],\n",
              "       [0., 0.],\n",
              "       [0., 0.],\n",
              "       [0., 0.],\n",
              "       [0., 0.],\n",
              "       [0., 0.],\n",
              "       [0., 0.],\n",
              "       [0., 0.],\n",
              "       [0., 0.],\n",
              "       [0., 0.],\n",
              "       [0., 0.],\n",
              "       [0., 0.],\n",
              "       [0., 0.],\n",
              "       [0., 0.],\n",
              "       [0., 0.],\n",
              "       [0., 0.],\n",
              "       [0., 0.],\n",
              "       [0., 0.],\n",
              "       [0., 0.],\n",
              "       [0., 0.],\n",
              "       [0., 0.]])"
            ]
          },
          "metadata": {
            "tags": []
          },
          "execution_count": 73
        }
      ]
    },
    {
      "cell_type": "markdown",
      "metadata": {
        "id": "H5hYC2EB9ff6",
        "colab_type": "text"
      },
      "source": [
        "The difference in the probabilitiy distribution in the cases is basically non-existent."
      ]
    },
    {
      "cell_type": "markdown",
      "metadata": {
        "id": "Gdf6FN1r9DIi",
        "colab_type": "text"
      },
      "source": [
        "The above subtraction between the two posterior probabilities shows that "
      ]
    },
    {
      "cell_type": "code",
      "metadata": {
        "id": "4zqi1FwbYJAC",
        "colab_type": "code",
        "outputId": "8c178e3b-8614-4dfa-d7d9-46a9991c9ef5",
        "colab": {
          "base_uri": "https://localhost:8080/",
          "height": 268
        }
      },
      "source": [
        "ax = seaborn.heatmap(posterior)\n",
        "plt.show()"
      ],
      "execution_count": 0,
      "outputs": [
        {
          "output_type": "display_data",
          "data": {
            "image/png": "[encoded data removed]",
            "text/plain": [
              "<Figure size 432x288 with 2 Axes>"
            ]
          },
          "metadata": {
            "tags": []
          }
        }
      ]
    },
    {
      "cell_type": "markdown",
      "metadata": {
        "id": "yIx8s5wE9nc1",
        "colab_type": "text"
      },
      "source": [
        "Thus to no surpise, we get the same result"
      ]
    },
    {
      "cell_type": "code",
      "metadata": {
        "id": "auLC6Zj0ZWD8",
        "colab_type": "code",
        "colab": {}
      },
      "source": [
        "model = ModelBt.create_initial_state(2, 3)\n",
        "model.mle(anno.annotations)\n",
        "samples = model.sample_posterior_over_accuracy(anno.annotations, 200, burn_in_samples=100, thin_samples=3)\n",
        "y =  samples.mean(axis=0)#.mean(axis = 1).mean(axis = 1)\n",
        "y_ci = samples.std(axis=0)#.mean(axis = 1).mean(axis = 1)"
      ],
      "execution_count": 0,
      "outputs": []
    },
    {
      "cell_type": "code",
      "metadata": {
        "id": "iiQU9v8Ik_zO",
        "colab_type": "code",
        "outputId": "8c8e558b-2f2b-463b-8ad0-0710a97e2bb8",
        "colab": {
          "base_uri": "https://localhost:8080/",
          "height": 264
        }
      },
      "source": [
        "plt.figure()\n",
        "plt.errorbar(range(3),y, yerr = y_ci)\n",
        "plt.show()"
      ],
      "execution_count": 0,
      "outputs": [
        {
          "output_type": "display_data",
          "data": {
            "image/png": "[encoded data removed]",
            "text/plain": [
              "<Figure size 432x288 with 1 Axes>"
            ]
          },
          "metadata": {
            "tags": []
          }
        }
      ]
    },
    {
      "cell_type": "markdown",
      "metadata": {
        "id": "MFZEs61O9se-",
        "colab_type": "text"
      },
      "source": [
        "I use MLE above to test the quality of the annotators. Seems that the annotator hurt the most is the one who diverged from others and used the most number of 0's in labelling. He was however able to defend every single choice in private conversation, so overall I wasn't worried with the annotation process for this highly subjective task."
      ]
    },
    {
      "cell_type": "markdown",
      "metadata": {
        "id": "s1Jed_uo-T2p",
        "colab_type": "text"
      },
      "source": [
        "I wanted to check if I add another annotator who randomly assign 1's and 0's with uniform probability will the model be able to detect this outlier."
      ]
    },
    {
      "cell_type": "code",
      "metadata": {
        "id": "GTHKHkNYrUC0",
        "colab_type": "code",
        "colab": {}
      },
      "source": [
        "r=np.random.choice([0,1], 53,[0.5]*53)\n",
        "r = np.reshape(r, (-1, 1))"
      ],
      "execution_count": 0,
      "outputs": []
    },
    {
      "cell_type": "markdown",
      "metadata": {
        "id": "v5vmGer4-ng3",
        "colab_type": "text"
      },
      "source": [
        "Creating random annotator above and concatinating to existing annotations"
      ]
    },
    {
      "cell_type": "code",
      "metadata": {
        "id": "I15HiRHusjMO",
        "colab_type": "code",
        "colab": {}
      },
      "source": [
        "x_random=np.concatenate((x, r), axis=1)"
      ],
      "execution_count": 0,
      "outputs": []
    },
    {
      "cell_type": "code",
      "metadata": {
        "id": "YEYYVm-Puj05",
        "colab_type": "code",
        "colab": {}
      },
      "source": [
        "anno_random = AnnotationsContainer.from_array(x_random, missing_values=[-1])"
      ],
      "execution_count": 0,
      "outputs": []
    },
    {
      "cell_type": "code",
      "metadata": {
        "id": "7otIzrCtuWWT",
        "colab_type": "code",
        "colab": {}
      },
      "source": [
        "model = ModelBt.create_initial_state(2, 4)\n",
        "model.mle(anno_random.annotations)\n",
        "samples = model.sample_posterior_over_accuracy(anno_random.annotations, 200, burn_in_samples=100, thin_samples=3)\n",
        "y =  samples.mean(axis=0)#.mean(axis = 1).mean(axis = 1)\n",
        "y_ci = samples.std(axis=0)#.mean(axis = 1).mean(axis = 1)"
      ],
      "execution_count": 0,
      "outputs": []
    },
    {
      "cell_type": "code",
      "metadata": {
        "id": "wBQNc7uPuaZI",
        "colab_type": "code",
        "outputId": "aa5d2956-5096-49ee-9fb8-7133dc03c8d9",
        "colab": {
          "base_uri": "https://localhost:8080/",
          "height": 264
        }
      },
      "source": [
        "plt.figure()\n",
        "plt.errorbar(range(4),y, yerr = y_ci)\n",
        "plt.show()"
      ],
      "execution_count": 0,
      "outputs": [
        {
          "output_type": "display_data",
          "data": {
            "image/png": "[encoded data removed]",
            "text/plain": [
              "<Figure size 432x288 with 1 Axes>"
            ]
          },
          "metadata": {
            "tags": []
          }
        }
      ]
    },
    {
      "cell_type": "markdown",
      "metadata": {
        "id": "iZe5XP_k_Bn0",
        "colab_type": "text"
      },
      "source": [
        "The random annoatator is severly penalized"
      ]
    },
    {
      "cell_type": "code",
      "metadata": {
        "id": "h4AcPEvmu9mf",
        "colab_type": "code",
        "outputId": "8ce5ca52-83df-4245-d238-86fded390fdd",
        "colab": {
          "base_uri": "https://localhost:8080/",
          "height": 268
        }
      },
      "source": [
        "posterior2 = model.infer_labels(anno_random.annotations)\n",
        "ax = seaborn.heatmap(posterior2)\n",
        "plt.show()"
      ],
      "execution_count": 0,
      "outputs": [
        {
          "output_type": "display_data",
          "data": {
            "image/png": "[encoded data removed]",
            "text/plain": [
              "<Figure size 432x288 with 2 Axes>"
            ]
          },
          "metadata": {
            "tags": []
          }
        }
      ]
    },
    {
      "cell_type": "markdown",
      "metadata": {
        "id": "Hime2Y1L_H1B",
        "colab_type": "text"
      },
      "source": [
        "And for the probability distribution, the random annotator doesn't seem to have made any differene with 1's getting nearly certain probabilities (close to 1). "
      ]
    },
    {
      "cell_type": "code",
      "metadata": {
        "id": "k-K1juGDvG21",
        "colab_type": "code",
        "colab": {}
      },
      "source": [
        "votes_random = []\n",
        "for r in anno_random.annotations:\n",
        "    v = [0] * len(anno.labels)\n",
        "    votes_random.append(v)\n",
        "    for a in r:\n",
        "        if a > -1:\n",
        "            v[a] += 1\n",
        "votes_array = np.array(votes_random)"
      ],
      "execution_count": 0,
      "outputs": []
    },
    {
      "cell_type": "code",
      "metadata": {
        "id": "-c9lJgZ0vXFE",
        "colab_type": "code",
        "outputId": "d2898619-0737-4c26-a6b4-14e8a4f20493",
        "colab": {
          "base_uri": "https://localhost:8080/",
          "height": 606
        }
      },
      "source": [
        "fig, (ax1, ax2) = plt.subplots(ncols=2, figsize = (15, 10), sharey=True)\n",
        "num_questions = 53\n",
        "\n",
        "seaborn.heatmap(votes_array[:num_questions], annot = True, ax=ax2)\n",
        "seaborn.heatmap(posterior2[:num_questions], annot=True, ax =ax1)\n",
        "ax1.set_title(\"Model\")\n",
        "ax2.set_title(\"Votes\")\n",
        "plt.show()"
      ],
      "execution_count": 0,
      "outputs": [
        {
          "output_type": "display_data",
          "data": {
            "image/png": "[encoded data removed]",
            "text/plain": [
              "<Figure size 1080x720 with 4 Axes>"
            ]
          },
          "metadata": {
            "tags": []
          }
        }
      ]
    },
    {
      "cell_type": "markdown",
      "metadata": {
        "id": "-dPzpQsk_ZZ7",
        "colab_type": "text"
      },
      "source": [
        "Here we can see that, once again even with the random annotator, and even for cases with majority label zero, the model predicts 1's. \n",
        "This means that this model might not be a good fit for cases where a label is sparse(Spam detection), but it is also good at ignoring the noise created by an unreliable annotator who is making uniformly random choices unrelated to the \"true\" distribution of the labels."
      ]
    }
  ]
}