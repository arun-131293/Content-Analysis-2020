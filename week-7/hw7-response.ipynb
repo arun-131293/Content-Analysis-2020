{
 "cells": [
  {
   "cell_type": "markdown",
   "metadata": {},
   "source": [
    "# Week 7 - Vector Space Word Embeddings\n",
    "\n",
    "This week, we build on last week's topic modeling techniques by taking a text corpus we have developed, specifying an underlying number of dimensions, and training a model with a neural network auto-encoder (one of Google's word2vec  algorithms) that best describes corpus words in their local linguistic contexts, and exploring their locations in the resulting space to learn about the discursive culture that produced them. Documents here are represented as densely indexed locations in dimensions, rather than sparse mixtures of topics (as in LDA topic modeling), so that distances between those documents (and words) are consistently superior, though they require the full vector of dimension loadings (rather than just a few selected topic loadings) to describe. We will explore these spaces to understand complex, semantic relationships between words, index documents with descriptive words, identify the likelihood that a given document would have been produced by a given vector model, and explore how semantic categories can help us understand the cultures that produced them.\n",
    "\n",
    "For this notebook we will be using the following packages"
   ]
  },
  {
   "cell_type": "code",
   "execution_count": 1,
   "metadata": {},
   "outputs": [],
   "source": [
    "#All these packages need to be installed from pip\n",
    "import gensim#For word2vec, etc\n",
    "import requests #For downloading our datasets\n",
    "import lucem_illud_2020\n",
    "\n",
    "import numpy as np #For arrays\n",
    "import pandas #Gives us DataFrames\n",
    "import matplotlib.pyplot as plt #For graphics\n",
    "import seaborn #Makes the graphics look nicer\n",
    "import sklearn.metrics.pairwise #For cosine similarity\n",
    "import sklearn.manifold #For T-SNE\n",
    "import sklearn.decomposition #For PCA\n",
    "\n",
    "#This 'magic' command makes the plots work better\n",
    "#in the notebook, don't use it outside of a notebook.\n",
    "#Also you can ignore the warning\n",
    "%matplotlib inline\n",
    "\n",
    "import os #For looking through files\n",
    "import os.path #For managing file paths"
   ]
  },
  {
   "cell_type": "markdown",
   "metadata": {},
   "source": [
    "# Getting our corpora\n",
    "\n",
    "Instead of downloading our corpora, we have download them in advance; a subset of the [senate press releases](https://github.com/lintool/GrimmerSenatePressReleases) are in `grimmerPressReleases`. We will load them into a DataFrame, but first we need to define a function to convert directories of text files into DataFrames:"
   ]
  },
  {
   "cell_type": "code",
   "execution_count": null,
   "metadata": {},
   "outputs": [],
   "source": [
    "def loadDir(targetDir, category):\n",
    "    allFileNames = os.listdir(targetDir)\n",
    "    #We need to make them into useable paths and filter out hidden files\n",
    "    filePaths = [os.path.join(targetDir, fname) for fname in allFileNames if fname[0] != '.']\n",
    "\n",
    "    #The dict that will become the DataFrame\n",
    "    senDict = {\n",
    "        'category' : [category] * len(filePaths),\n",
    "        'filePath' : [],\n",
    "        'text' : [],\n",
    "    }\n",
    "\n",
    "    for fPath in filePaths:\n",
    "        with open(fPath) as f:\n",
    "            senDict['text'].append(f.read())\n",
    "            senDict['filePath'].append(fPath)\n",
    "\n",
    "    return pandas.DataFrame(senDict)"
   ]
  },
  {
   "cell_type": "markdown",
   "metadata": {},
   "source": [
    "Now we can use the function in all the directories in `data/grimmerPressReleases`"
   ]
  },
  {
   "cell_type": "code",
   "execution_count": null,
   "metadata": {},
   "outputs": [],
   "source": [
    "dataDir = '../data/grimmerPressReleases'\n",
    "\n",
    "senReleasesDF = pandas.DataFrame()\n",
    "\n",
    "for senatorName in [d for d in os.listdir(dataDir) if d[0] != '.']:\n",
    "    senPath = os.path.join(dataDir, senatorName)\n",
    "    senReleasesDF = senReleasesDF.append(loadDir(senPath, senatorName), ignore_index = True)\n",
    "\n",
    "senReleasesDF[:100:10]"
   ]
  },
  {
   "cell_type": "markdown",
   "metadata": {},
   "source": [
    "Word2Vec needs to retain the sentence structure so as to capture a \"continuous bag of words (CBOW)\" and all of the skip-grams within a word window. The algorithm tries to preserve the distances induced by one of these two local structures. This is very different from clustering and LDA topic modeling which extract unordered words alone.\n",
    "\n",
    "When we normalize here, we don't use the lematized form of the word because we might lose information. Note the paramter in the normalize tokens function."
   ]
  },
  {
   "cell_type": "code",
   "execution_count": null,
   "metadata": {},
   "outputs": [],
   "source": [
    "#Apply our functions, notice each row is a list of lists now\n",
    "senReleasesDF['tokenized_sents'] = senReleasesDF['text'].apply(lambda x: [lucem_illud_2020.word_tokenize(s) for s in lucem_illud_2020.sent_tokenize(x)])\n",
    "senReleasesDF['normalized_sents'] = senReleasesDF['tokenized_sents'].apply(lambda x: [lucem_illud_2020.normalizeTokens(s, lemma=False) for s in x])\n",
    "\n",
    "senReleasesDF[:100:10]"
   ]
  },
  {
   "cell_type": "markdown",
   "metadata": {},
   "source": [
    "# Word2Vec\n",
    "\n",
    "We will be using the gensim implementation of [Word2Vec](https://radimrehurek.com/gensim/models/word2vec.html#gensim.models.word2vec.Word2Vec).\n",
    "\n",
    "To load our data our data we give all the sentences to the trainer:"
   ]
  },
  {
   "cell_type": "code",
   "execution_count": null,
   "metadata": {},
   "outputs": [],
   "source": [
    "senReleasesW2V = gensim.models.word2vec.Word2Vec(senReleasesDF['normalized_sents'].sum())"
   ]
  },
  {
   "cell_type": "markdown",
   "metadata": {},
   "source": [
    "Inside the word2vec object the words each have a vector. To access the vector directly, use the square braces (`__getitem__`) method:"
   ]
  },
  {
   "cell_type": "code",
   "execution_count": null,
   "metadata": {},
   "outputs": [],
   "source": [
    "senReleasesW2V['president'][:10] #Shortening because it's very large"
   ]
  },
  {
   "cell_type": "markdown",
   "metadata": {},
   "source": [
    "If you want the full matrix, `syn0` stores all the vectors:"
   ]
  },
  {
   "cell_type": "code",
   "execution_count": null,
   "metadata": {},
   "outputs": [],
   "source": [
    "senReleasesW2V.wv.syn0"
   ]
  },
  {
   "cell_type": "markdown",
   "metadata": {},
   "source": [
    "Then, `index2word` lets you translate from the matrix to words:"
   ]
  },
  {
   "cell_type": "code",
   "execution_count": null,
   "metadata": {},
   "outputs": [],
   "source": [
    "senReleasesW2V.wv.index2word[10]"
   ]
  },
  {
   "cell_type": "markdown",
   "metadata": {},
   "source": [
    "Now we can look at a few things that come from the word vectors. The first is to find similar vectors (cosine similarity):"
   ]
  },
  {
   "cell_type": "code",
   "execution_count": null,
   "metadata": {},
   "outputs": [],
   "source": [
    "senReleasesW2V.most_similar('president')"
   ]
  },
  {
   "cell_type": "code",
   "execution_count": null,
   "metadata": {},
   "outputs": [],
   "source": [
    "senReleasesW2V.most_similar('war')"
   ]
  },
  {
   "cell_type": "markdown",
   "metadata": {},
   "source": [
    "Find which word least matches the others within a word set (cosine similarity):"
   ]
  },
  {
   "cell_type": "code",
   "execution_count": null,
   "metadata": {},
   "outputs": [],
   "source": [
    "senReleasesW2V.doesnt_match(['administration', 'administrations', 'presidents', 'president', 'washington'])"
   ]
  },
  {
   "cell_type": "markdown",
   "metadata": {},
   "source": [
    "Find which word best matches the result of a semantic *equation* (here, we seek the words whose vectors best fit the missing entry from the equation: **X + Y - Z = _**."
   ]
  },
  {
   "cell_type": "code",
   "execution_count": null,
   "metadata": {},
   "outputs": [],
   "source": [
    "senReleasesW2V.most_similar(positive=['clinton', 'republican'], negative = ['democrat'])"
   ]
  },
  {
   "cell_type": "markdown",
   "metadata": {},
   "source": [
    "Here we see that **Clinton + Republican - Democrat = Bush**. In other words, in this dataset, **Clinton** is to **Democrat** as **Bush** is to **Republican**. Whoah!"
   ]
  },
  {
   "cell_type": "markdown",
   "metadata": {},
   "source": [
    "We can also save the vectors for later use:"
   ]
  },
  {
   "cell_type": "code",
   "execution_count": null,
   "metadata": {},
   "outputs": [],
   "source": [
    "senReleasesW2V.save(\"senpressreleasesWORD2Vec\")"
   ]
  },
  {
   "cell_type": "markdown",
   "metadata": {},
   "source": [
    "We can also use dimension reduction to visulize the vectors. We will start by selecting a subset we want to plot. Let's look at the top words from the set:"
   ]
  },
  {
   "cell_type": "code",
   "execution_count": null,
   "metadata": {},
   "outputs": [],
   "source": [
    "numWords = 50\n",
    "targetWords = senReleasesW2V.wv.index2word[:numWords]"
   ]
  },
  {
   "cell_type": "markdown",
   "metadata": {},
   "source": [
    "We can then extract their vectors and create our own smaller matrix that preserved the distances from the original:"
   ]
  },
  {
   "cell_type": "code",
   "execution_count": null,
   "metadata": {},
   "outputs": [],
   "source": [
    "wordsSubMatrix = []\n",
    "for word in targetWords:\n",
    "    wordsSubMatrix.append(senReleasesW2V[word])\n",
    "wordsSubMatrix = np.array(wordsSubMatrix)\n",
    "wordsSubMatrix"
   ]
  },
  {
   "cell_type": "markdown",
   "metadata": {},
   "source": [
    "Then we can use PCA to reduce the dimesions (e.g., to 50), and T-SNE to project them down to the two we will visualize. We note that this is nondeterministic process, and so you can repeat and achieve alternative projectsions/visualizations of the words:"
   ]
  },
  {
   "cell_type": "code",
   "execution_count": null,
   "metadata": {},
   "outputs": [],
   "source": [
    "pcaWords = sklearn.decomposition.PCA(n_components = 50).fit(wordsSubMatrix)\n",
    "reducedPCA_data = pcaWords.transform(wordsSubMatrix)\n",
    "#T-SNE is theoretically better, but you should experiment\n",
    "tsneWords = sklearn.manifold.TSNE(n_components = 2).fit_transform(reducedPCA_data)"
   ]
  },
  {
   "cell_type": "markdown",
   "metadata": {},
   "source": [
    "We now can plot the points"
   ]
  },
  {
   "cell_type": "code",
   "execution_count": null,
   "metadata": {},
   "outputs": [],
   "source": [
    "fig = plt.figure(figsize = (10,6))\n",
    "ax = fig.add_subplot(111)\n",
    "ax.set_frame_on(False)\n",
    "plt.scatter(tsneWords[:, 0], tsneWords[:, 1], alpha = 0)#Making the points invisible \n",
    "for i, word in enumerate(targetWords):\n",
    "    ax.annotate(word, (tsneWords[:, 0][i],tsneWords[:, 1][i]), size =  20 * (numWords - i) / numWords)\n",
    "plt.xticks(())\n",
    "plt.yticks(())\n",
    "plt.show()"
   ]
  },
  {
   "cell_type": "markdown",
   "metadata": {},
   "source": [
    "My visualization above puts ``said`` next to ``congress`` and ``bill`` near ``act``. ``health`` is beside ``care`` and ``national`` abuts ``security``."
   ]
  },
  {
   "cell_type": "markdown",
   "metadata": {},
   "source": [
    "# Chinese examples"
   ]
  },
  {
   "cell_type": "code",
   "execution_count": null,
   "metadata": {},
   "outputs": [],
   "source": [
    "model=gensim.models.Word2Vec.load('../data/1992embeddings_hs_new3.sg')"
   ]
  },
  {
   "cell_type": "markdown",
   "metadata": {},
   "source": [
    "## analogy\n",
    "\n",
    "King+man-Queen? A few examples based on a corpus of Chinese news. \n",
    "\n",
    "First, location analogy: **province -> capital**"
   ]
  },
  {
   "cell_type": "code",
   "execution_count": null,
   "metadata": {},
   "outputs": [],
   "source": [
    "mm = model.most_similar(positive=[u'长沙',u'陕西'], negative=[u'湖南']) # Changsha + Shaanxi - Hunan\n",
    "for m in mm:\n",
    "    print(m[0],m[1])\n",
    "    print(\"Xi'an\")\n",
    "    break"
   ]
  },
  {
   "cell_type": "code",
   "execution_count": null,
   "metadata": {},
   "outputs": [],
   "source": [
    "mm = model.most_similar(positive=[u'广州',u'湖北'], negative=[u'广东']) # Guangzhou + Hubei - Guangdong\n",
    "for m in mm:\n",
    "    print(m[0],m[1])\n",
    "    print(\"Wuhan\")\n",
    "    break"
   ]
  },
  {
   "cell_type": "markdown",
   "metadata": {},
   "source": [
    "Second, location analogy: **country -> capital**"
   ]
  },
  {
   "cell_type": "code",
   "execution_count": null,
   "metadata": {},
   "outputs": [],
   "source": [
    "mm = model.most_similar(positive=[u'东京',u'美国'], negative=[u'日本']) # Tokyo + US - Japan\n",
    "for m in mm:\n",
    "    print(m[0],m[1])\n",
    "    print(\"(Washington DC)\")\n",
    "    break"
   ]
  },
  {
   "cell_type": "markdown",
   "metadata": {},
   "source": [
    "## similar words"
   ]
  },
  {
   "cell_type": "code",
   "execution_count": null,
   "metadata": {},
   "outputs": [],
   "source": [
    "word = u'社会主义'  #socialism\n",
    "ss = model.similar_by_word(word,topn=10)\n",
    "print(\"the most similar words to \" + word + \" is: \")\n",
    "for s in ss:\n",
    "    print(s[0])\n",
    "print(\"\")"
   ]
  },
  {
   "cell_type": "code",
   "execution_count": null,
   "metadata": {},
   "outputs": [],
   "source": [
    "word = u'玉米'  # corn\n",
    "ss = model.similar_by_word(word,topn=10)\n",
    "print(\"the most similar words to \" + word + \" is: \")\n",
    "for s in ss:\n",
    "    print(s[0])\n",
    "print(\"\")"
   ]
  },
  {
   "cell_type": "markdown",
   "metadata": {},
   "source": [
    "## <span style=\"color:red\">*Exercise 1*</span>\n",
    "\n",
    "<span style=\"color:red\">Construct cells immediately below this that embed documents related to your final project using at least two different specification of `word2vec`, and visualize them each with two separate visualization layout specifications (e.g., TSNE, PCA). Then interrogate critical word vectors within your corpus in terms of the most similar words, analogies, and other additions and subtractions that reveal the structure of similarity and difference within your semantic space. What does this pattern reveal about the semantic organization of words in your corpora? Which estimation and visualization specification generate the most insight and appear the most robustly supported and why? \n",
    "\n",
    "<span style=\"color:red\">***Stretch***: Explore different vector calculations beyond addition and subtraction, such as multiplication, division or some other function. What does this exploration reveal about the semantic structure of your corpus?"
   ]
  },
  {
   "cell_type": "markdown",
   "metadata": {},
   "source": [
    "For this exercise, I have compared COCA news documents from 1990/1991 to the google news vectors that were built from google news dataset to figure out if the semantic associations of certain important political words have changed over time. Specifically I have focused on war related words, as the first gulf war in Iraq was fought in those years.\n",
    "The exact documents that went into creating the google news dataset is not known, but the dataset was created around 2012, and is in all probability consisting of newer articles than from 1990/91 and then includes the second gulf war. "
   ]
  },
  {
   "cell_type": "markdown",
   "metadata": {},
   "source": [
    "In the code blocks below, I load the files from 1990/1991(which are the only files in that directory, I removed the others) and analyze the results."
   ]
  },
  {
   "cell_type": "code",
   "execution_count": null,
   "metadata": {},
   "outputs": [],
   "source": [
    "corpora_address = \"../week-6/COCA\"\n",
    "coca_texts = lucem_illud_2020.loadDavies(corpora_address)"
   ]
  },
  {
   "cell_type": "code",
   "execution_count": null,
   "metadata": {},
   "outputs": [],
   "source": [
    "print(\"No. of documents loaded\",len((coca_texts.keys())))"
   ]
  },
  {
   "cell_type": "code",
   "execution_count": null,
   "metadata": {},
   "outputs": [],
   "source": [
    "#Cleaning the data\n",
    "for k in coca_texts.keys():\n",
    "    coca_texts[k]=[\" \".join(coca_texts[k]).replace(\"< p > \",\"\")]"
   ]
  },
  {
   "cell_type": "code",
   "execution_count": null,
   "metadata": {},
   "outputs": [],
   "source": [
    "newsDF=pandas.DataFrame.from_dict(coca_texts,orient='index')\n",
    "newsDF.head()\n",
    "newsDF.columns=[\"text\"]\n",
    "newsDF.head()\n"
   ]
  },
  {
   "cell_type": "code",
   "execution_count": null,
   "metadata": {},
   "outputs": [],
   "source": [
    "#tokenizing the sentences\n",
    "newsDF['tokenized_sents'] = newsDF['text'].apply(lambda x: [lucem_illud_2020.word_tokenize(s) for s in lucem_illud_2020.sent_tokenize(x)])\n"
   ]
  },
  {
   "cell_type": "code",
   "execution_count": null,
   "metadata": {},
   "outputs": [],
   "source": [
    "newsDF['normalized_sents'] = newsDF['tokenized_sents'].apply(lambda x: [lucem_illud_2020.normalizeTokens(s, lemma=False) for s in x])"
   ]
  },
  {
   "cell_type": "code",
   "execution_count": null,
   "metadata": {},
   "outputs": [],
   "source": [
    "#using pickle to save and load the dataframe for faster loading\n",
    "newsDF.to_pickle(\"./newsDF.pkl\")"
   ]
  },
  {
   "cell_type": "code",
   "execution_count": 3,
   "metadata": {},
   "outputs": [],
   "source": [
    "newsDF = pandas.read_pickle(\"./newsDF.pkl\")"
   ]
  },
  {
   "cell_type": "code",
   "execution_count": 121,
   "metadata": {},
   "outputs": [],
   "source": [
    "#create the word2Vec model\n",
    "newsW2V = gensim.models.word2vec.Word2Vec(newsDF['normalized_sents'].sum())"
   ]
  },
  {
   "cell_type": "code",
   "execution_count": 122,
   "metadata": {},
   "outputs": [],
   "source": [
    "m1=newsW2V"
   ]
  },
  {
   "cell_type": "code",
   "execution_count": null,
   "metadata": {},
   "outputs": [],
   "source": [
    "#save the model for faster loading later on\n",
    "m1.save(\"NewsEmbeddings\")"
   ]
  },
  {
   "cell_type": "code",
   "execution_count": 2,
   "metadata": {},
   "outputs": [],
   "source": [
    "m1=gensim.models.Word2Vec.load(\"NewsEmbeddings\")"
   ]
  },
  {
   "cell_type": "code",
   "execution_count": 126,
   "metadata": {},
   "outputs": [
    {
     "name": "stdout",
     "output_type": "stream",
     "text": [
      "Most frequent 100 words: ['said', '$', 'says', 'new', 'people', 'year', 'years', 'time', 'like', 'mr', 'state', 'city', 'world', 'president', 'percent', 'american', 'way', 'day', 'work', 'government', 'war', 'think', 'old', 'long', 'good', 'home', 'going', 'u.s', 'national', 'school', 'high', 'soviet', 'states', 'life', 'san', 'country', 'united', 'public', 'york', 'black', 'want', 'washington', 'know', 'house', 'today', 'company', 'week', 'children', 'money', 'women', 'right', 'little', 've', 'come', 'game', 'business', 'm', 'political', 'white', 'bush', 'team', 'officials', 'best', 'news', 'big', 'got', 'season', 'military', 'man', 'iraq', 'family', 'use', 'second', 'times', 'left', 'ago', 'end', 'university', 'called', 'john', 'lot', 'group', 'days', 'place', 'including', 'center', 'air', 'party', 'major', 'director', 'great', 'told', 'help', 'system', 'market', 'things', 'area', 'came', 'francisco', 'east']\n"
     ]
    }
   ],
   "source": [
    "#printing most frequent words.\n",
    "print(\"Most frequent 100 words:\", m1.wv.index2entity[:100])"
   ]
  },
  {
   "cell_type": "markdown",
   "metadata": {},
   "source": [
    "We see a lot of political words like goverment, military, war, president, u.s, and words resonant of that time, like soviet, bush(George H.W. Bush), Iraq(from first Gulf war)."
   ]
  },
  {
   "cell_type": "code",
   "execution_count": 127,
   "metadata": {},
   "outputs": [],
   "source": [
    "numWords= 100\n",
    "targetWords = m1.wv.index2word[:numWords]"
   ]
  },
  {
   "cell_type": "code",
   "execution_count": 128,
   "metadata": {},
   "outputs": [],
   "source": [
    "m1sub=[]\n",
    "for word in targetWords:\n",
    "    m1sub.append(m1[word])\n",
    "m1sub=np.array(m1sub)"
   ]
  },
  {
   "cell_type": "code",
   "execution_count": 129,
   "metadata": {},
   "outputs": [],
   "source": [
    "#for my visualizations, I have decided to look at PCA and TSNE visualization seperately\n",
    "pcaWords = sklearn.decomposition.PCA(n_components = 2).fit(m1sub)\n",
    "reducedPCA_data = pcaWords.transform(m1sub)\n",
    "#T-SNE is theoretically better, but you should experiment\n",
    "tsneWords = sklearn.manifold.TSNE(n_components = 2).fit_transform(m1sub)"
   ]
  },
  {
   "cell_type": "code",
   "execution_count": 130,
   "metadata": {},
   "outputs": [
    {
     "data": {
      "image/png": "[encoded data removed]",
      "text/plain": [
       "<Figure size 720x432 with 1 Axes>"
      ]
     },
     "metadata": {},
     "output_type": "display_data"
    }
   ],
   "source": [
    "#plotting theTSNE visualization\n",
    "fig = plt.figure(figsize = (10,6))\n",
    "ax = fig.add_subplot(111)\n",
    "ax.set_frame_on(False)\n",
    "plt.scatter(tsneWords[:, 0], tsneWords[:, 1], alpha = 0)#Making the points invisible \n",
    "for i, word in enumerate(targetWords):\n",
    "    ax.annotate(word, (tsneWords[:, 0][i],tsneWords[:, 1][i]), size =  20 * (numWords - i) / numWords)\n",
    "plt.xticks(())\n",
    "plt.yticks(())\n",
    "plt.show()"
   ]
  },
  {
   "cell_type": "markdown",
   "metadata": {},
   "source": [
    "It seems like TSNE is capturing local associations than global associations. Words like bush, iraq, miliary,political is clustered together, and words like president and washington are clustered together. But each cluster is seperate from each other. However we can see some major themes(iraq, war, president) in the text, which will help our analysis."
   ]
  },
  {
   "cell_type": "code",
   "execution_count": 131,
   "metadata": {},
   "outputs": [
    {
     "data": {
      "image/png": "[encoded data removed]",
      "text/plain": [
       "<Figure size 720x432 with 1 Axes>"
      ]
     },
     "metadata": {},
     "output_type": "display_data"
    }
   ],
   "source": [
    "#plotting the PCA visualization\n",
    "fig = plt.figure(figsize = (10,6))\n",
    "ax = fig.add_subplot(111)\n",
    "ax.set_frame_on(False)\n",
    "plt.scatter(reducedPCA_data[:, 0], reducedPCA_data[:, 1], alpha = 0)#Making the points invisible \n",
    "for i, word in enumerate(targetWords):\n",
    "    ax.annotate(word, (reducedPCA_data[:, 0][i],reducedPCA_data[:, 1][i]), size =  15 * (numWords - i) / numWords)\n",
    "plt.xticks(())\n",
    "plt.yticks(())\n",
    "plt.show()"
   ]
  },
  {
   "cell_type": "markdown",
   "metadata": {},
   "source": [
    "PCA seems to have more variability in the distances it captures. But more importantly, it captures global associations. The problem with TSNE of local associations but no global associations mentioned above seems to be solved. For instance: president, goverment, iraq, bush, war, soviet, political all belong to the same \"cluster\" whereas they were split in the TSNE visualization. "
   ]
  },
  {
   "cell_type": "code",
   "execution_count": null,
   "metadata": {},
   "outputs": [],
   "source": [
    "Below, I perform some word simliarties to begin to understand the vector embedding space."
   ]
  },
  {
   "cell_type": "code",
   "execution_count": 132,
   "metadata": {},
   "outputs": [
    {
     "data": {
      "text/plain": [
       "[('cnn', 0.7449272871017456),\n",
       " ('broadcast', 0.6926010847091675),\n",
       " ('newspapers', 0.6684376001358032),\n",
       " ('network', 0.6640119552612305),\n",
       " ('reporting', 0.6629951596260071),\n",
       " ('broadcasts', 0.6550604104995728),\n",
       " ('weekly', 0.6477890014648438),\n",
       " ('reporter', 0.6475802659988403),\n",
       " ('abc', 0.6417906284332275),\n",
       " ('coverage', 0.6386721730232239)]"
      ]
     },
     "execution_count": 132,
     "metadata": {},
     "output_type": "execute_result"
    }
   ],
   "source": [
    "m1.most_similar(\"news\")"
   ]
  },
  {
   "cell_type": "markdown",
   "metadata": {},
   "source": [
    "The reasonableness of this query in the vector space, suggests that even though we chose about 6000 documents, we have a reasonable embedding space."
   ]
  },
  {
   "cell_type": "code",
   "execution_count": 133,
   "metadata": {},
   "outputs": [
    {
     "data": {
      "text/plain": [
       "[('disobedience', 0.7398648858070374),\n",
       " ('persian', 0.7217761278152466),\n",
       " ('libertarians', 0.716130256652832),\n",
       " ('servants', 0.6967906951904297),\n",
       " ('wars', 0.693993330001831),\n",
       " ('vietnam', 0.6337761878967285),\n",
       " ('crisis', 0.626186192035675),\n",
       " ('battle', 0.6234490871429443),\n",
       " ('fighting', 0.5941678285598755),\n",
       " ('conflict', 0.587417483329773)]"
      ]
     },
     "execution_count": 133,
     "metadata": {},
     "output_type": "execute_result"
    }
   ],
   "source": [
    "m1.most_similar(\"war\")"
   ]
  },
  {
   "cell_type": "markdown",
   "metadata": {},
   "source": [
    "Interestingly war is still associated with Vietnam and disobedience than the then ongoing war in Iraq. This suggests that news articles used a different name for the First Gulf war(just as they did during the second gulf war, often called \"conflict with Iraq\", \"liberation of Iraq\", etc."
   ]
  },
  {
   "cell_type": "code",
   "execution_count": 134,
   "metadata": {},
   "outputs": [
    {
     "data": {
      "text/plain": [
       "[('ali', 0.7859123945236206),\n",
       " ('rabbi', 0.7791092991828918),\n",
       " ('kidnapped', 0.7704187631607056),\n",
       " ('waite', 0.7701046466827393),\n",
       " ('historian', 0.7682353258132935),\n",
       " ('vladimir', 0.7665528059005737),\n",
       " ('borba', 0.7653626799583435),\n",
       " ('garrison', 0.7612490653991699),\n",
       " ('respected', 0.7608950138092041),\n",
       " ('kahane', 0.760352373123169)]"
      ]
     },
     "execution_count": 134,
     "metadata": {},
     "output_type": "execute_result"
    }
   ],
   "source": [
    "m1.most_similar(\"journalist\")"
   ]
  },
  {
   "cell_type": "markdown",
   "metadata": {},
   "source": [
    "The proximity of rabbi to journalist is very interesting, and so is respected. This suggests an reverence towards journalists in news articles of the time."
   ]
  },
  {
   "cell_type": "code",
   "execution_count": 135,
   "metadata": {},
   "outputs": [
    {
     "data": {
      "text/plain": [
       "[('women', 0.7777819633483887),\n",
       " ('woman', 0.6521433591842651),\n",
       " ('husbands', 0.6418757438659668),\n",
       " ('female', 0.6379066705703735),\n",
       " ('male', 0.6204431653022766),\n",
       " ('males', 0.5976687669754028),\n",
       " ('wives', 0.586895227432251),\n",
       " ('3-meter', 0.5808749198913574),\n",
       " ('vipers', 0.5756202340126038),\n",
       " ('agers', 0.574444055557251)]"
      ]
     },
     "execution_count": 135,
     "metadata": {},
     "output_type": "execute_result"
    }
   ],
   "source": [
    "m1.most_similar(\"men\")"
   ]
  },
  {
   "cell_type": "code",
   "execution_count": 136,
   "metadata": {},
   "outputs": [
    {
     "data": {
      "text/plain": [
       "[('men', 0.7777818441390991),\n",
       " ('female', 0.6845829486846924),\n",
       " ('minorities', 0.6570558547973633),\n",
       " ('male', 0.650871992111206),\n",
       " ('wives', 0.6101282835006714),\n",
       " ('adults', 0.5941382646560669),\n",
       " ('mothers', 0.5901459455490112),\n",
       " ('gay', 0.588685154914856),\n",
       " ('pregnant', 0.5863944292068481),\n",
       " ('husbands', 0.5847878456115723)]"
      ]
     },
     "execution_count": 136,
     "metadata": {},
     "output_type": "execute_result"
    }
   ],
   "source": [
    "m1.most_similar(\"women\")"
   ]
  },
  {
   "cell_type": "markdown",
   "metadata": {},
   "source": [
    "We get a bunch of gendered terms being most simliar to both men and women but interestingly women are also associated with words like minorities and gay. This suggest we are capturing conversations about social justice in the news corpora even as early as 90/91."
   ]
  },
  {
   "cell_type": "code",
   "execution_count": null,
   "metadata": {},
   "outputs": [],
   "source": [
    "I perform some analogy tests below."
   ]
  },
  {
   "cell_type": "code",
   "execution_count": 137,
   "metadata": {},
   "outputs": [
    {
     "name": "stdout",
     "output_type": "stream",
     "text": [
      "('kahane', 0.7479691505432129)\n",
      "('kidnapped', 0.7367396354675293)\n",
      "('rabbi', 0.716681957244873)\n",
      "('prominent', 0.7162034511566162)\n",
      "('fellow', 0.7106069326400757)\n",
      "('observer', 0.7037312984466553)\n",
      "('borba', 0.6983530521392822)\n",
      "('editors', 0.6926689147949219)\n",
      "('waite', 0.6904481649398804)\n",
      "('colleagues', 0.6852350234985352)\n"
     ]
    }
   ],
   "source": [
    "mm = m1.most_similar(positive=['journalist','woman'], negative=['man'])\n",
    "for m in mm:\n",
    "    print (m)"
   ]
  },
  {
   "cell_type": "markdown",
   "metadata": {},
   "source": [
    "This particular analogy isn't insightful, although the possible candidates include people with low agency objects(kidnapped, observer). This suggests a passive role for women in the corpus."
   ]
  },
  {
   "cell_type": "code",
   "execution_count": 138,
   "metadata": {},
   "outputs": [
    {
     "name": "stdout",
     "output_type": "stream",
     "text": [
      "('presidents', 0.7259188890457153)\n",
      "('versa', 0.6932865381240845)\n",
      "('chairman', 0.6095808148384094)\n",
      "('administration', 0.5978301167488098)\n",
      "('administrations', 0.5926615595817566)\n",
      "('barbara', 0.5741320848464966)\n",
      "('george', 0.5567322373390198)\n",
      "('presidential', 0.5488193035125732)\n",
      "('silverado', 0.5484504699707031)\n",
      "('appointee', 0.5356423258781433)\n"
     ]
    }
   ],
   "source": [
    "mm = m1.most_similar(positive=['president','woman'], negative=['man'])\n",
    "for m in mm:\n",
    "    print (m)"
   ]
  },
  {
   "cell_type": "markdown",
   "metadata": {},
   "source": [
    "Hard to infer much from this analogy task in terms of gender roles, except Barbara bush(mother of then president HW bush shows up) and so does appointee which continues the pattern of associating passive roles with women in this corpus."
   ]
  },
  {
   "cell_type": "code",
   "execution_count": 141,
   "metadata": {},
   "outputs": [
    {
     "name": "stdout",
     "output_type": "stream",
     "text": [
      "('clinic', 0.8055128455162048)\n",
      "('physician', 0.7958341240882874)\n",
      "('dentist', 0.7519091367721558)\n",
      "('hospital', 0.7446486949920654)\n",
      "('cardiac', 0.7299456596374512)\n",
      "('indigent', 0.7207581996917725)\n",
      "('psychiatric', 0.7194459438323975)\n",
      "('raped', 0.7100444436073303)\n",
      "('boarder', 0.7082751393318176)\n",
      "('pneumonia', 0.70616215467453)\n"
     ]
    }
   ],
   "source": [
    "mm = m1.most_similar(positive=['nurse','man'], negative=['woman'])\n",
    "for m in mm:\n",
    "    print (m)"
   ]
  },
  {
   "cell_type": "markdown",
   "metadata": {},
   "source": [
    "The word Nurse when given a male attribute, gives physician and dentist, capturing gender bias in these documents."
   ]
  },
  {
   "cell_type": "code",
   "execution_count": 144,
   "metadata": {},
   "outputs": [
    {
     "name": "stdout",
     "output_type": "stream",
     "text": [
      "('presidents', 0.6859259605407715)\n",
      "('versa', 0.6577973365783691)\n",
      "('premier', 0.5638840198516846)\n",
      "('chairman', 0.5447474122047424)\n",
      "('administrations', 0.5358525514602661)\n",
      "('director', 0.5074631571769714)\n",
      "('quebeckers', 0.5027059316635132)\n",
      "('commentator', 0.484036386013031)\n",
      "('appointee', 0.4839371144771576)\n",
      "('praised', 0.4823583960533142)\n"
     ]
    }
   ],
   "source": [
    "mm = m1.most_similar(positive=['wars','president'], negative=['war'])\n",
    "for m in mm:\n",
    "    print (m)"
   ]
  },
  {
   "cell_type": "markdown",
   "metadata": {},
   "source": [
    "Out model of only 6000 documents seem to capture, plurality as it gives 'presidents' as the highest candidate for this analogy task."
   ]
  },
  {
   "cell_type": "code",
   "execution_count": 4,
   "metadata": {},
   "outputs": [
    {
     "name": "stdout",
     "output_type": "stream",
     "text": [
      "('reagan', 0.5955963134765625)\n",
      "('spar', 0.5788742303848267)\n",
      "('carter', 0.5777533650398254)\n",
      "('truman', 0.5735921263694763)\n",
      "('eisenhower', 0.5643807649612427)\n",
      "('nixon', 0.5627210140228271)\n",
      "('perles', 0.5597009658813477)\n",
      "('veterans', 0.5381999611854553)\n",
      "('anwar', 0.5256026983261108)\n",
      "('inauguration', 0.5250068306922913)\n"
     ]
    }
   ],
   "source": [
    "mm = m1.most_similar(positive=['bush','vietnam'], negative=['iraq'])\n",
    "for m in mm:\n",
    "    print (m)"
   ]
  },
  {
   "cell_type": "markdown",
   "metadata": {},
   "source": [
    "In wanted to see if we can infer the presidents during the vietnam user using the \"Bush:Iraq\" relation. Interesting that nixon is not higher but reagan and carter are, given they are both presidents who came into power after the vietnam war."
   ]
  },
  {
   "cell_type": "code",
   "execution_count": 147,
   "metadata": {},
   "outputs": [
    {
     "name": "stdout",
     "output_type": "stream",
     "text": [
      "('gulf', 0.5755504965782166)\n",
      "('baghdad', 0.5627267360687256)\n",
      "('riyadh', 0.5318119525909424)\n",
      "('tehran', 0.5056657791137695)\n",
      "('united', 0.5025691390037537)\n",
      "('cairo', 0.4943722188472748)\n",
      "('kuwait', 0.4895973205566406)\n",
      "('allied', 0.4882400631904602)\n",
      "('panama', 0.4855172038078308)\n",
      "('iraqi', 0.48539799451828003)\n"
     ]
    }
   ],
   "source": [
    "mm = m1.most_similar(positive=['washington','iraq'], negative=['states'])\n",
    "for m in mm:\n",
    "    print (m)"
   ]
  },
  {
   "cell_type": "raw",
   "metadata": {},
   "source": [
    "Tried to infer capital of Iraq. 'Gulf' comes higher than 'baghdad', so I tried to use the vector of both 'united and 'states' below and that seemed to work better as it gave the capital of Iraq, followed by the capital of Saudi Arabia, another important state in the First Gulf war. This means that vector addition of \"united\" and \"states\" to get the vector of \"united states\" can work."
   ]
  },
  {
   "cell_type": "code",
   "execution_count": 65,
   "metadata": {},
   "outputs": [
    {
     "name": "stdout",
     "output_type": "stream",
     "text": [
      "('baghdad', 0.44975537061691284)\n",
      "('riyadh', 0.4067331850528717)\n",
      "('iraqi', 0.39430633187294006)\n",
      "('briefing', 0.3841095566749573)\n",
      "('pentagon', 0.3742128312587738)\n",
      "('bombing', 0.3673343360424042)\n",
      "('fallouja', 0.3651654124259949)\n",
      "('post', 0.36272960901260376)\n",
      "('zakhu', 0.35691165924072266)\n",
      "('basra', 0.3546799123287201)\n"
     ]
    }
   ],
   "source": [
    "mm = m1.most_similar(positive=['washington','iraq'], negative=['united','states'])\n",
    "for m in mm:\n",
    "    print (m)"
   ]
  },
  {
   "cell_type": "code",
   "execution_count": 148,
   "metadata": {},
   "outputs": [
    {
     "data": {
      "text/plain": [
       "[('withdrawal', 0.8523744940757751),\n",
       " ('allied', 0.8493318557739258),\n",
       " ('kuwait', 0.8484979867935181),\n",
       " ('iraqi', 0.8338255882263184),\n",
       " ('deployment', 0.8302556276321411),\n",
       " ('iraqis', 0.8296290636062622),\n",
       " ('withdraw', 0.8292543888092041),\n",
       " ('emirate', 0.8254193067550659),\n",
       " ('invasion', 0.8178001642227173),\n",
       " ('baghdad', 0.8111965656280518)]"
      ]
     },
     "execution_count": 148,
     "metadata": {},
     "output_type": "execute_result"
    }
   ],
   "source": [
    "m1.most_similar('iraq')"
   ]
  },
  {
   "cell_type": "markdown",
   "metadata": {},
   "source": [
    "Finally I do a similiarity query for Iraq, since I thought it will be useful to compare the associations here to the associations in the google news corpus, which I also explored below.\n",
    "\n",
    "The conversation around Iraq seems to be mainly around their Kuwaiti invastion that precipitated the first gulf war and the subsquent deployment of troops from US and allies which led to the withdrawal of Iraq from Kuwait. Therefore this similiarity query captures a lot of aspects of the First Gulf war."
   ]
  },
  {
   "cell_type": "code",
   "execution_count": 4,
   "metadata": {},
   "outputs": [],
   "source": [
    "#load the google news vectors trained on the google news corpus\n",
    "m2=gensim.models.KeyedVectors.load_word2vec_format('GoogleNews-vectors-negative300.bin', binary=True)"
   ]
  },
  {
   "cell_type": "code",
   "execution_count": 152,
   "metadata": {},
   "outputs": [
    {
     "name": "stdout",
     "output_type": "stream",
     "text": [
      "Most frequent 100 words: ['</s>', 'in', 'for', 'that', 'is', 'on', '##', 'The', 'with', 'said', 'was', 'the', 'at', 'not', 'as', 'it', 'be', 'from', 'by', 'are', 'I', 'have', 'he', 'will', 'has', '####', 'his', 'an', 'this', 'or', 'their', 'who', 'they', 'but', '$', 'had', 'year', 'were', 'we', 'more', '###', 'up', 'been', 'you', 'its', 'one', 'about', 'would', 'which', 'out', 'can', 'It', 'all', 'also', 'two', 'after', 'first', 'He', 'do', 'time', 'than', 'when', 'We', 'over', 'last', 'new', 'other', 'her', 'people', 'into', 'In', 'our', 'there', 'A', 'she', 'could', 'just', 'years', 'some', 'U.S.', 'three', 'million', 'them', 'what', 'But', 'so', 'no', 'like', 'if', 'only', 'percent', 'get', 'did', 'him', 'game', 'back', 'because', 'now', '#.#', 'before']\n"
     ]
    }
   ],
   "source": [
    "print(\"Most frequent 100 words:\", m2.wv.index2entity[:100])"
   ]
  },
  {
   "cell_type": "markdown",
   "metadata": {},
   "source": [
    "It's clear that the google news corpus has not been cleaned."
   ]
  },
  {
   "cell_type": "code",
   "execution_count": 200,
   "metadata": {},
   "outputs": [],
   "source": [
    "#For visualization, take 100 of the top 1000 vocabulary for purpose of visualization.\n",
    "import random\n",
    "random.seed(13)\n",
    "sublist=random.sample(m2.wv.index2entity[:1000],100)\n",
    "#print(\"Randomly chosen 100 words from most frequent thousand words:\", sublist)"
   ]
  },
  {
   "cell_type": "code",
   "execution_count": 201,
   "metadata": {},
   "outputs": [],
   "source": [
    "m2sub=[]\n",
    "for word in sublist:\n",
    "    #print((m2[word]).shape)\n",
    "    m2sub.append((m2[word]))\n",
    "m2sub=np.array(m2sub)\n",
    "#print(m2sub.shape)"
   ]
  },
  {
   "cell_type": "code",
   "execution_count": 208,
   "metadata": {},
   "outputs": [],
   "source": [
    "#Once again, I plot PCA and TSNE visualizations seperately\n",
    "pcaWords2 = sklearn.decomposition.PCA(n_components = 2).fit(m2sub)\n",
    "reducedPCA_data2 = pcaWords.transform(m2sub.T)\n",
    "tsneWords2 = sklearn.manifold.TSNE(n_components = 2).fit_transform(m2sub)"
   ]
  },
  {
   "cell_type": "code",
   "execution_count": 204,
   "metadata": {},
   "outputs": [
    {
     "data": {
      "image/png": "[encoded data removed]",
      "text/plain": [
       "<Figure size 720x432 with 1 Axes>"
      ]
     },
     "metadata": {},
     "output_type": "display_data"
    }
   ],
   "source": [
    "fig = plt.figure(figsize = (10,6))\n",
    "ax = fig.add_subplot(111)\n",
    "ax.set_frame_on(False)\n",
    "plt.scatter(tsneWords2[:, 0], tsneWords2[:, 1], alpha = 0)#Making the points invisible \n",
    "for i, word in enumerate(targetWords):\n",
    "    ax.annotate(word, (tsneWords2[:, 0][i],tsneWords2[:, 1][i]), size =  20 * (numWords - i) / numWords)\n",
    "plt.xticks(())\n",
    "plt.yticks(())\n",
    "plt.show()"
   ]
  },
  {
   "cell_type": "raw",
   "metadata": {},
   "source": [
    "Once again, TSNE seems have less variability and capture more local patterns(\"president\", \"goverement\" close to each other but far away from \"war\",\"national\") than global ones."
   ]
  },
  {
   "cell_type": "code",
   "execution_count": 209,
   "metadata": {},
   "outputs": [
    {
     "data": {
      "image/png": "[encoded data removed]",
      "text/plain": [
       "<Figure size 720x432 with 1 Axes>"
      ]
     },
     "metadata": {},
     "output_type": "display_data"
    }
   ],
   "source": [
    "fig = plt.figure(figsize = (10,6))\n",
    "ax = fig.add_subplot(111)\n",
    "ax.set_frame_on(False)\n",
    "plt.scatter(reducedPCA_data2[:, 0], reducedPCA_data2[:, 1], alpha = 0)#Making the points invisible \n",
    "for i, word in enumerate(targetWords):\n",
    "    ax.annotate(word, (reducedPCA_data2[:, 0][i],reducedPCA_data2[:, 1][i]), size =  15 * (numWords - i) / numWords)\n",
    "plt.xticks(())\n",
    "plt.yticks(())\n",
    "plt.show()"
   ]
  },
  {
   "cell_type": "markdown",
   "metadata": {},
   "source": [
    "Once again, PCA has more variability in Visualiation and seems to capture global patterns well (all political terms seem to be grouped together in the upper right quadrant). "
   ]
  },
  {
   "cell_type": "markdown",
   "metadata": {},
   "source": [
    "Below, I perform some word simliarties to begin to understand the vector embedding space."
   ]
  },
  {
   "cell_type": "code",
   "execution_count": 213,
   "metadata": {},
   "outputs": [
    {
     "data": {
      "text/plain": [
       "[('Latest_Tanker_Operator', 0.5560430288314819),\n",
       " ('MCOT_online', 0.5420750379562378),\n",
       " ('Pete_Tenney_KTEN', 0.5341694355010986),\n",
       " ('valfen@di-ve.com', 0.520783543586731),\n",
       " ('press', 0.5195180177688599),\n",
       " ('Charmaine_Chetcuti_di_ve', 0.5058273077011108),\n",
       " ('News', 0.5022889971733093),\n",
       " ('Ruben_Cassar_di_ve', 0.5015273094177246),\n",
       " ('media', 0.497778058052063),\n",
       " ('Visit_FinanceVisor', 0.4966496527194977)]"
      ]
     },
     "execution_count": 213,
     "metadata": {},
     "output_type": "execute_result"
    }
   ],
   "source": [
    "m2.most_similar(\"news\")"
   ]
  },
  {
   "cell_type": "markdown",
   "metadata": {},
   "source": [
    "This is not giving any insight into the space at all."
   ]
  },
  {
   "cell_type": "code",
   "execution_count": 212,
   "metadata": {},
   "outputs": [
    {
     "data": {
      "text/plain": [
       "[('wars', 0.748465895652771),\n",
       " ('War', 0.6410670280456543),\n",
       " ('invasion', 0.5892109870910645),\n",
       " ('Persian_Gulf_War', 0.5890660285949707),\n",
       " ('Vietnam_War', 0.5886474847793579),\n",
       " ('Iraq', 0.588599443435669),\n",
       " ('unwinnable_quagmire', 0.5681803226470947),\n",
       " ('un_winnable', 0.5606350898742676),\n",
       " ('occupation', 0.5506216287612915),\n",
       " ('conflict', 0.5506187677383423)]"
      ]
     },
     "execution_count": 212,
     "metadata": {},
     "output_type": "execute_result"
    }
   ],
   "source": [
    "m2.most_similar(\"war\")"
   ]
  },
  {
   "cell_type": "markdown",
   "metadata": {},
   "source": [
    "This corpus has more skepticism towards war('unwinnable_quagmire', 'un_winnable'). This suggests the conversation is pre-dominantly about the Second Gulf War and not the first."
   ]
  },
  {
   "cell_type": "code",
   "execution_count": 215,
   "metadata": {},
   "outputs": [
    {
     "data": {
      "text/plain": [
       "[('reporter', 0.7536268830299377),\n",
       " ('Journalist', 0.7519729733467102),\n",
       " ('freelance_journalist', 0.7406283020973206),\n",
       " ('investigative_journalist', 0.7187291383743286),\n",
       " ('photojournalist', 0.710208535194397),\n",
       " ('correspondent', 0.6768438816070557),\n",
       " ('investigative_reporter', 0.6683288812637329),\n",
       " ('journalists', 0.666439950466156),\n",
       " ('journo', 0.658358097076416),\n",
       " ('writer', 0.6535510420799255)]"
      ]
     },
     "execution_count": 215,
     "metadata": {},
     "output_type": "execute_result"
    }
   ],
   "source": [
    "m2.most_similar(\"journalist\")"
   ]
  },
  {
   "cell_type": "markdown",
   "metadata": {},
   "source": [
    "Here we see alternative names as well as specific types of journalist and not qualities of journalists as we saw in the last model."
   ]
  },
  {
   "cell_type": "code",
   "execution_count": 6,
   "metadata": {},
   "outputs": [
    {
     "data": {
      "text/plain": [
       "[('women', 0.767493724822998),\n",
       " ('Men', 0.6301246881484985),\n",
       " ('males', 0.6242231130599976),\n",
       " ('mens', 0.5807526707649231),\n",
       " ('boys', 0.5781347751617432),\n",
       " ('man', 0.5489763021469116),\n",
       " ('females', 0.5481874942779541),\n",
       " ('teenagers', 0.5462744235992432),\n",
       " ('girls', 0.540932834148407),\n",
       " ('ladies', 0.5234236717224121)]"
      ]
     },
     "execution_count": 6,
     "metadata": {},
     "output_type": "execute_result"
    }
   ],
   "source": [
    "m2.most_similar(\"men\")"
   ]
  },
  {
   "cell_type": "code",
   "execution_count": 218,
   "metadata": {},
   "outputs": [
    {
     "data": {
      "text/plain": [
       "[('men', 0.767493724822998),\n",
       " ('Women', 0.7283449769020081),\n",
       " ('womens', 0.6786179542541504),\n",
       " ('girls', 0.6339040398597717),\n",
       " ('females', 0.6240420937538147),\n",
       " ('mothers', 0.6050933599472046),\n",
       " ('ladies', 0.5865179300308228),\n",
       " ('husbands', 0.5705342292785645),\n",
       " ('transwomen', 0.5697939991950989),\n",
       " ('Men', 0.5693342089653015)]"
      ]
     },
     "execution_count": 218,
     "metadata": {},
     "output_type": "execute_result"
    }
   ],
   "source": [
    "m2.most_similar(\"women\")"
   ]
  },
  {
   "cell_type": "markdown",
   "metadata": {},
   "source": [
    "In both cases, just as in the previous model, the associations are with gendered terms. However we do see the inclusion of \"transwomen\" in this corpus, which is a sign of changing times(and a indication that the google news corpus has articles later than from 1990/91). "
   ]
  },
  {
   "cell_type": "code",
   "execution_count": 219,
   "metadata": {},
   "outputs": [
    {
     "name": "stdout",
     "output_type": "stream",
     "text": [
      "('freelance_journalist', 0.6719341278076172)\n",
      "('reporter', 0.6439321041107178)\n",
      "('Journalist', 0.6296682953834534)\n",
      "('freelance_reporter', 0.5879244804382324)\n",
      "('photojournalist', 0.5838879942893982)\n",
      "('investigative_journalist', 0.5802053809165955)\n",
      "('corespondent', 0.5753150582313538)\n",
      "('investigative_reporter', 0.57012939453125)\n",
      "('correspondent', 0.5599650144577026)\n",
      "('journalists', 0.5541554093360901)\n"
     ]
    }
   ],
   "source": [
    "mm = m2.most_similar(positive=['journalist','woman'], negative=['man'])\n",
    "for m in mm:\n",
    "    print (m)"
   ]
  },
  {
   "cell_type": "markdown",
   "metadata": {},
   "source": [
    "In this model, we see the various ways of addressing a journalist, but also different types of journalists. This could mean that this model is more comprehensive than the previous model."
   ]
  },
  {
   "cell_type": "code",
   "execution_count": 220,
   "metadata": {},
   "outputs": [
    {
     "name": "stdout",
     "output_type": "stream",
     "text": [
      "('President', 0.6533178687095642)\n",
      "('chairwoman', 0.5765142440795898)\n",
      "('vice_president', 0.5682439804077148)\n",
      "('chairperson', 0.5558825135231018)\n",
      "('Vice_President', 0.5502278804779053)\n",
      "('executive', 0.5394408702850342)\n",
      "('Executive_Director', 0.5326347351074219)\n",
      "('CEO', 0.5286189913749695)\n",
      "('chief_executive', 0.5264196991920471)\n",
      "('Chairperson', 0.4910368025302887)\n"
     ]
    }
   ],
   "source": [
    "mm = m2.most_similar(positive=['president','woman'], negative=['man'])\n",
    "for m in mm:\n",
    "    print (m)"
   ]
  },
  {
   "cell_type": "markdown",
   "metadata": {},
   "source": [
    "Unlike the previous model, this analogy test, does atleast return \"chairwoman\". This suggests this model is better at capturing mordern gender relations better than the previous one."
   ]
  },
  {
   "cell_type": "code",
   "execution_count": 5,
   "metadata": {},
   "outputs": [
    {
     "name": "stdout",
     "output_type": "stream",
     "text": [
      "('nurses', 0.5750778317451477)\n",
      "('medic', 0.5732707977294922)\n",
      "('registered_nurse', 0.5555101633071899)\n",
      "('x_ray_technician', 0.5553552508354187)\n",
      "('Nurse', 0.5527041554450989)\n",
      "('doctor', 0.5420948266983032)\n",
      "('respiratory_therapist', 0.5328323841094971)\n",
      "('nursing', 0.5252007246017456)\n",
      "('paramedic', 0.5221818089485168)\n",
      "('physician', 0.500717043876648)\n"
     ]
    }
   ],
   "source": [
    "mm = m2.most_similar(positive=['nurse','man'], negative=['woman'])\n",
    "for m in mm:\n",
    "    print (m)"
   ]
  },
  {
   "cell_type": "markdown",
   "metadata": {},
   "source": [
    "Once again, nurse on the gender dimension f"
   ]
  },
  {
   "cell_type": "code",
   "execution_count": 225,
   "metadata": {},
   "outputs": [
    {
     "name": "stdout",
     "output_type": "stream",
     "text": [
      "('President', 0.6419357061386108)\n",
      "('CEO', 0.5829986333847046)\n",
      "('presidents', 0.5740888118743896)\n",
      "('vice_president', 0.5666695833206177)\n",
      "('chief_executive', 0.5665820837020874)\n",
      "('chairman', 0.5510209798812866)\n",
      "('pesident', 0.5260305404663086)\n",
      "('vice_presidents', 0.5160281658172607)\n",
      "('COO', 0.5151299834251404)\n",
      "('Vice_President', 0.509572446346283)\n"
     ]
    }
   ],
   "source": [
    "mm = m2.most_similar(positive=['wars','president'], negative=['war'])\n",
    "for m in mm:\n",
    "    print (m)"
   ]
  },
  {
   "cell_type": "markdown",
   "metadata": {},
   "source": [
    "This model does capture some plularity, but the lack of token normalization seems to be an issue and ultimately \"presidents\" is not top choice in cosine similiarity."
   ]
  },
  {
   "cell_type": "code",
   "execution_count": 6,
   "metadata": {},
   "outputs": [
    {
     "name": "stdout",
     "output_type": "stream",
     "text": [
      "('reagan', 0.6072975993156433)\n",
      "('jimmy_carter', 0.5461568236351013)\n",
      "('chavez', 0.5361428260803223)\n",
      "('singaporean', 0.531941831111908)\n",
      "('rudy', 0.5318852663040161)\n",
      "('rubio', 0.5290517210960388)\n",
      "('bryan', 0.5289558172225952)\n",
      "('johnny_depp', 0.5284807682037354)\n",
      "('samuel', 0.5244619250297546)\n",
      "('ronnie', 0.5239843726158142)\n"
     ]
    }
   ],
   "source": [
    "mm = m2.most_similar(positive=['george_bush','vietnam'], negative=['iraq'])\n",
    "for m in mm:\n",
    "    print (m)"
   ]
  },
  {
   "cell_type": "markdown",
   "metadata": {},
   "source": [
    "Interestingly, reagan and carter show up once more here, just like in the previous model, but no mention of any of the presidents during vietnam."
   ]
  },
  {
   "cell_type": "code",
   "execution_count": 241,
   "metadata": {},
   "outputs": [
    {
     "name": "stdout",
     "output_type": "stream",
     "text": [
      "('iraqi', 0.623252809047699)\n",
      "('afghanistan', 0.59364914894104)\n",
      "('george_bush', 0.5930753946304321)\n",
      "('washington_dc', 0.5795828104019165)\n",
      "('obama', 0.5795443058013916)\n",
      "('vietnam', 0.5717548131942749)\n",
      "('reid', 0.567753791809082)\n",
      "('bradley', 0.5657333135604858)\n",
      "('cheney', 0.5563706755638123)\n",
      "('iran', 0.5450378060340881)\n"
     ]
    }
   ],
   "source": [
    "mm = m2.most_similar(positive=['washington','iraq'], negative=['states'])\n",
    "for m in mm:\n",
    "    print (m)"
   ]
  },
  {
   "cell_type": "markdown",
   "metadata": {},
   "source": [
    "Unlike the previous model, we don't get the capital of Iraq(Baghdad) but we do get Afghanistan(the other country US had a major war with during the second gulf war). The fact that Cheney appears as well as Bradley(cooper, presumably since he starred in a war movie) and Cheney suggests that the texts deal with Second Gulf war.  "
   ]
  },
  {
   "cell_type": "code",
   "execution_count": 13,
   "metadata": {},
   "outputs": [
    {
     "name": "stdout",
     "output_type": "stream",
     "text": [
      "('iraq', 0.6401218771934509)\n",
      "('iraqi', 0.6029033660888672)\n",
      "('george_bush', 0.5341247320175171)\n",
      "('baghdad', 0.5228300094604492)\n",
      "('afghanistan', 0.5086187720298767)\n",
      "('pelosi', 0.5033352375030518)\n",
      "('saddam', 0.49318623542785645)\n",
      "('clintons', 0.4842187166213989)\n",
      "('cheney', 0.48007500171661377)\n",
      "('afganistan', 0.4788222312927246)\n"
     ]
    }
   ],
   "source": [
    "mm = m2.most_similar(positive=['washington_dc','Iraq'], negative=['United_States'])\n",
    "for m in mm:\n",
    "    print (m)"
   ]
  },
  {
   "cell_type": "markdown",
   "metadata": {},
   "source": [
    "The capital Baghdad does show up, but not as high."
   ]
  },
  {
   "cell_type": "code",
   "execution_count": 236,
   "metadata": {},
   "outputs": [
    {
     "data": {
      "text/plain": [
       "[('afghanistan', 0.729322612285614),\n",
       " ('iraqi', 0.6724762916564941),\n",
       " ('Afganistan', 0.6447621583938599),\n",
       " ('afganistan', 0.6384879350662231),\n",
       " ('Iraq', 0.6277869343757629),\n",
       " ('iran', 0.608288049697876),\n",
       " ('libya', 0.6052850484848022),\n",
       " ('vietnam', 0.6033740639686584),\n",
       " ('cheney', 0.6009483337402344),\n",
       " ('iraqis', 0.5914427042007446)]"
      ]
     },
     "execution_count": 236,
     "metadata": {},
     "output_type": "execute_result"
    }
   ],
   "source": [
    "m2.most_similar('iraq')"
   ]
  },
  {
   "cell_type": "code",
   "execution_count": null,
   "metadata": {},
   "outputs": [],
   "source": [
    "In contrast to the previous model, we get more countries that the United States invaded (including Libya) which means the news corpus have recent documents."
   ]
  },
  {
   "cell_type": "markdown",
   "metadata": {},
   "source": [
    "Overall, we see that the google news corpus encapsulates a more comprehensive model of American imperialism beyond just the Iraq focus in the news articles from 90/91."
   ]
  },
  {
   "cell_type": "markdown",
   "metadata": {},
   "source": [
    "# Doc2Vec"
   ]
  },
  {
   "cell_type": "markdown",
   "metadata": {
    "collapsed": true
   },
   "source": [
    "Instead of just looking at just how words embed within in the space, we can look at how the different documents relate to each other within the space. First lets load our data--abstracts of most U.S. physics papers from the 1950s."
   ]
  },
  {
   "cell_type": "code",
   "execution_count": null,
   "metadata": {},
   "outputs": [],
   "source": [
    "apsDF = pandas.read_csv('../data/APSabstracts1950s.csv', index_col = 0)\n",
    "apsDF[:10]"
   ]
  },
  {
   "cell_type": "markdown",
   "metadata": {},
   "source": [
    "We will load these as documents into Word2Vec, but first we need to normalize and pick some tags."
   ]
  },
  {
   "cell_type": "code",
   "execution_count": null,
   "metadata": {},
   "outputs": [],
   "source": [
    "keywords = ['photomagnetoelectric', 'quantum', 'boltzmann', 'proton', 'positron', 'feynman', 'classical', 'relativity']"
   ]
  },
  {
   "cell_type": "code",
   "execution_count": null,
   "metadata": {},
   "outputs": [],
   "source": [
    "apsDF['tokenized_words'] = apsDF['abstract'].apply(lambda x: lucem_illud_2020.word_tokenize(x))\n",
    "apsDF['normalized_words'] = apsDF['tokenized_words'].apply(lambda x: lucem_illud_2020.normalizeTokens(x, lemma=False))"
   ]
  },
  {
   "cell_type": "code",
   "execution_count": null,
   "metadata": {},
   "outputs": [],
   "source": [
    "taggedDocs = []\n",
    "for index, row in apsDF.iterrows():\n",
    "    #Just doing a simple keyword assignment\n",
    "    docKeywords = [s for s in keywords if s in row['normalized_words']]\n",
    "    docKeywords.append(row['copyrightYear'])\n",
    "    docKeywords.append(row['doi']) #This lets us extract individual documnets since doi's are unique\n",
    "    taggedDocs.append(gensim.models.doc2vec.LabeledSentence(words = row['normalized_words'], tags = docKeywords))\n",
    "apsDF['TaggedAbstracts'] = taggedDocs"
   ]
  },
  {
   "cell_type": "markdown",
   "metadata": {},
   "source": [
    "Now we can train a Doc2Vec model:"
   ]
  },
  {
   "cell_type": "code",
   "execution_count": null,
   "metadata": {},
   "outputs": [],
   "source": [
    "apsD2V = gensim.models.doc2vec.Doc2Vec(apsDF['TaggedAbstracts'], size = 100) #Limiting to 100 dimensions"
   ]
  },
  {
   "cell_type": "markdown",
   "metadata": {},
   "source": [
    "We can get vectors for the tags/documents, just as we did with words. Documents are actually the centroids (high dimensional average points) of their words. "
   ]
  },
  {
   "cell_type": "code",
   "execution_count": null,
   "metadata": {
    "scrolled": true
   },
   "outputs": [],
   "source": [
    "apsD2V.docvecs[1952]"
   ]
  },
  {
   "cell_type": "markdown",
   "metadata": {},
   "source": [
    "The words can still be accessed in the same way:"
   ]
  },
  {
   "cell_type": "code",
   "execution_count": null,
   "metadata": {},
   "outputs": [],
   "source": [
    "apsD2V['atom']"
   ]
  },
  {
   "cell_type": "markdown",
   "metadata": {},
   "source": [
    "We can still use the ``most_similar`` command to perform simple semantic equations:"
   ]
  },
  {
   "cell_type": "code",
   "execution_count": null,
   "metadata": {},
   "outputs": [],
   "source": [
    "apsD2V.most_similar(positive = ['atom','electrons'], negative = ['electron'], topn = 1)"
   ]
  },
  {
   "cell_type": "markdown",
   "metadata": {},
   "source": [
    "This is interesting. **Electron** is to **electrons** as **atom** is to **atoms**. Another way to understand this, developed below is: **electrons - electron** induces a singular to plural dimension, so when we subtract **electron** from **atom** and add **electrons**, we get **atoms**! "
   ]
  },
  {
   "cell_type": "code",
   "execution_count": null,
   "metadata": {},
   "outputs": [],
   "source": [
    "apsD2V.most_similar(positive = ['einstein','law'], negative = ['equation'], topn = 1)"
   ]
  },
  {
   "cell_type": "markdown",
   "metadata": {},
   "source": [
    "In other words **Einstein** minus **equation** plus **law** equals **Meissner**--Walthur Meissner studied mechanical engineering and physics ... and was more likely to produce a \"law\" than a \"equation\", like the Meissner effect, the damping of the magnetic field in superconductors. If we built our word-embedding with a bigger corpus like the entire arXiv, a massive repository of physics preprints, we would see many more such relationships like **gravity - Newton + Einstein = relativity**."
   ]
  },
  {
   "cell_type": "markdown",
   "metadata": {},
   "source": [
    "We can also compute all of these *by hand*--explicitly wth vector algebra: "
   ]
  },
  {
   "cell_type": "code",
   "execution_count": null,
   "metadata": {},
   "outputs": [],
   "source": [
    "sklearn.metrics.pairwise.cosine_similarity(apsD2V['electron'].reshape(1,-1), apsD2V['positron'].reshape(1,-1))\n",
    "#We reorient the vectors with .reshape(1, -1) so that they can be computed without a warning in sklearn"
   ]
  },
  {
   "cell_type": "markdown",
   "metadata": {},
   "source": [
    "In the doc2vec model, the documents have vectors just as the words do, so that we can compare documents with each other and also with words (similar to how a search engine locates a webpage with a query). First, we will calculate the distance between a word and documents in the dataset:"
   ]
  },
  {
   "cell_type": "code",
   "execution_count": null,
   "metadata": {},
   "outputs": [],
   "source": [
    "apsD2V.docvecs.most_similar([ apsD2V['electron'] ], topn=5 )"
   ]
  },
  {
   "cell_type": "markdown",
   "metadata": {},
   "source": [
    "If we search for the first of these on the web (these are doi codes), we find the following...a pretty good match:"
   ]
  },
  {
   "cell_type": "code",
   "execution_count": null,
   "metadata": {},
   "outputs": [],
   "source": [
    "from IPython.display import Image\n",
    "Image(\"../data/PhysRev.98.875.jpg\", width=1000, height=1000)"
   ]
  },
  {
   "cell_type": "markdown",
   "metadata": {},
   "source": [
    "Now let's go the other way around and find words most similar to this document:"
   ]
  },
  {
   "cell_type": "code",
   "execution_count": null,
   "metadata": {},
   "outputs": [],
   "source": [
    "apsD2V.most_similar( [ apsD2V.docvecs['10.1103/PhysRev.98.875'] ], topn=5) "
   ]
  },
  {
   "cell_type": "markdown",
   "metadata": {},
   "source": [
    "We can even look for documents most like a query composed of multiple words:"
   ]
  },
  {
   "cell_type": "code",
   "execution_count": null,
   "metadata": {},
   "outputs": [],
   "source": [
    "apsD2V.docvecs.most_similar([ apsD2V['electron']+apsD2V['positron']+apsD2V['neutron']], topn=5 )"
   ]
  },
  {
   "cell_type": "markdown",
   "metadata": {},
   "source": [
    "Now let's plot some words and documents against one another with a heatmap:"
   ]
  },
  {
   "cell_type": "code",
   "execution_count": null,
   "metadata": {},
   "outputs": [],
   "source": [
    "heatmapMatrix = []\n",
    "for tagOuter in keywords:\n",
    "    column = []\n",
    "    tagVec = apsD2V.docvecs[tagOuter].reshape(1, -1)\n",
    "    for tagInner in keywords:\n",
    "        column.append(sklearn.metrics.pairwise.cosine_similarity(tagVec, apsD2V.docvecs[tagInner].reshape(1, -1))[0][0])\n",
    "    heatmapMatrix.append(column)\n",
    "heatmapMatrix = np.array(heatmapMatrix)"
   ]
  },
  {
   "cell_type": "code",
   "execution_count": null,
   "metadata": {},
   "outputs": [],
   "source": [
    "fig, ax = plt.subplots()\n",
    "hmap = ax.pcolor(heatmapMatrix, cmap='terrain')\n",
    "cbar = plt.colorbar(hmap)\n",
    "\n",
    "cbar.set_label('cosine similarity', rotation=270)\n",
    "a = ax.set_xticks(np.arange(heatmapMatrix.shape[1]) + 0.5, minor=False)\n",
    "a = ax.set_yticks(np.arange(heatmapMatrix.shape[0]) + 0.5, minor=False)\n",
    "\n",
    "a = ax.set_xticklabels(keywords, minor=False, rotation=270)\n",
    "a = ax.set_yticklabels(keywords, minor=False)"
   ]
  },
  {
   "cell_type": "markdown",
   "metadata": {},
   "source": [
    "Now let's look at a heatmap of similarities between the first ten documents in the corpus:"
   ]
  },
  {
   "cell_type": "code",
   "execution_count": null,
   "metadata": {},
   "outputs": [],
   "source": [
    "targetDocs = apsDF['doi'][:10]\n",
    "\n",
    "heatmapMatrixD = []\n",
    "\n",
    "for tagOuter in targetDocs:\n",
    "    column = []\n",
    "    tagVec = apsD2V.docvecs[tagOuter].reshape(1, -1)\n",
    "    for tagInner in targetDocs:\n",
    "        column.append(sklearn.metrics.pairwise.cosine_similarity(tagVec, apsD2V.docvecs[tagInner].reshape(1, -1))[0][0])\n",
    "    heatmapMatrixD.append(column)\n",
    "heatmapMatrixD = np.array(heatmapMatrixD)"
   ]
  },
  {
   "cell_type": "code",
   "execution_count": null,
   "metadata": {},
   "outputs": [],
   "source": [
    "fig, ax = plt.subplots()\n",
    "hmap = ax.pcolor(heatmapMatrixD, cmap='terrain')\n",
    "cbar = plt.colorbar(hmap)\n",
    "\n",
    "cbar.set_label('cosine similarity', rotation=270)\n",
    "a = ax.set_xticks(np.arange(heatmapMatrixD.shape[1]) + 0.5, minor=False)\n",
    "a = ax.set_yticks(np.arange(heatmapMatrixD.shape[0]) + 0.5, minor=False)\n",
    "\n",
    "a = ax.set_xticklabels(targetDocs, minor=False, rotation=270)\n",
    "a = ax.set_yticklabels(targetDocs, minor=False)"
   ]
  },
  {
   "cell_type": "markdown",
   "metadata": {},
   "source": [
    "Now let's look at a heatmap of similarities between the first ten documents and our keywords:"
   ]
  },
  {
   "cell_type": "code",
   "execution_count": null,
   "metadata": {},
   "outputs": [],
   "source": [
    "heatmapMatrixC = []\n",
    "\n",
    "for tagOuter in targetDocs:\n",
    "    column = []\n",
    "    tagVec = apsD2V.docvecs[tagOuter].reshape(1, -1)\n",
    "    for tagInner in keywords:\n",
    "        column.append(sklearn.metrics.pairwise.cosine_similarity(tagVec, apsD2V.docvecs[tagInner].reshape(1, -1))[0][0])\n",
    "    heatmapMatrixC.append(column)\n",
    "heatmapMatrixC = np.array(heatmapMatrixC)"
   ]
  },
  {
   "cell_type": "code",
   "execution_count": null,
   "metadata": {},
   "outputs": [],
   "source": [
    "fig, ax = plt.subplots()\n",
    "hmap = ax.pcolor(heatmapMatrixC, cmap='terrain')\n",
    "cbar = plt.colorbar(hmap)\n",
    "\n",
    "cbar.set_label('cosine similarity', rotation=270)\n",
    "a = ax.set_xticks(np.arange(heatmapMatrixC.shape[1]) + 0.5, minor=False)\n",
    "a = ax.set_yticks(np.arange(heatmapMatrixC.shape[0]) + 0.5, minor=False)\n",
    "\n",
    "a = ax.set_xticklabels(keywords, minor=False, rotation=270)\n",
    "a = ax.set_yticklabels(targetDocs, minor=False)"
   ]
  },
  {
   "cell_type": "markdown",
   "metadata": {},
   "source": [
    "We will save the model in case we would like to use it again."
   ]
  },
  {
   "cell_type": "code",
   "execution_count": null,
   "metadata": {},
   "outputs": [],
   "source": [
    "apsD2V.save('apsW2V')"
   ]
  },
  {
   "cell_type": "markdown",
   "metadata": {},
   "source": [
    "We can later load it:"
   ]
  },
  {
   "cell_type": "code",
   "execution_count": null,
   "metadata": {},
   "outputs": [],
   "source": [
    "#apsD2V = gensim.models.word2vec.Word2Vec.load('data/apsW2V')"
   ]
  },
  {
   "cell_type": "markdown",
   "metadata": {},
   "source": [
    "## <span style=\"color:red\">*Exercise 2*</span>\n",
    "\n",
    "<span style=\"color:red\">Construct cells immediately below this that embed documents related to your final project using `doc2vec`, and explore the relationship between different documents and the word vectors you analyzed in the last exercise. Consider the most similar words to critical documents, analogies (doc _x_ + word _y_), and other additions and subtractions that reveal the structure of similarity and difference within your semantic space. What does this pattern reveal about the documentary organization of your semantic space?"
   ]
  },
  {
   "cell_type": "markdown",
   "metadata": {},
   "source": [
    "I am going to do a further exploration of Iraq war and related concepts of US militarism. My keywords reflect that choice."
   ]
  },
  {
   "cell_type": "code",
   "execution_count": 7,
   "metadata": {},
   "outputs": [],
   "source": [
    "keywords=['war','wars','gulf','vietnam','iraq','bush','presidents','reagan','carter','nixon','president']"
   ]
  },
  {
   "cell_type": "code",
   "execution_count": 8,
   "metadata": {},
   "outputs": [],
   "source": [
    "new=[]\n",
    "for l in newsDF['normalized_sents']:\n",
    "    new.append([item for sublist in l for item in sublist])\n",
    "newsDF['normalized_words']=new\n",
    "ids=range(newsDF.shape[0])\n",
    "newsDF['doi']=ids"
   ]
  },
  {
   "cell_type": "code",
   "execution_count": 9,
   "metadata": {},
   "outputs": [],
   "source": [
    "dm=gensim.models.doc2vec.Doc2Vec()"
   ]
  },
  {
   "cell_type": "code",
   "execution_count": 10,
   "metadata": {},
   "outputs": [],
   "source": [
    "taggedDocs = []\n",
    "for index, row in newsDF.iterrows():\n",
    "    #Just doing a simple keyword assignment\n",
    "    docKeywords = [s for s in keywords if s in row['normalized_words']]\n",
    "    docKeywords.append(row['doi']) #This lets us extract individual documnets since doi's are unique\n",
    "    taggedDocs.append(gensim.models.doc2vec.LabeledSentence(words = row['normalized_words'], tags = docKeywords))\n",
    "newsDF['TaggedText'] = taggedDocs"
   ]
  },
  {
   "cell_type": "code",
   "execution_count": 11,
   "metadata": {},
   "outputs": [
    {
     "name": "stderr",
     "output_type": "stream",
     "text": [
      "/software/Anaconda3-5.3.0-el7-x86_64/lib/python3.6/site-packages/gensim/models/doc2vec.py:366: UserWarning: The parameter `size` is deprecated, will be removed in 4.0.0, use `vector_size` instead.\n",
      "  warnings.warn(\"The parameter `size` is deprecated, will be removed in 4.0.0, use `vector_size` instead.\")\n"
     ]
    }
   ],
   "source": [
    "newsD2V = gensim.models.doc2vec.Doc2Vec(newsDF['TaggedText'], size = 100) #Limiting to 100 dimensions"
   ]
  },
  {
   "cell_type": "code",
   "execution_count": 94,
   "metadata": {},
   "outputs": [
    {
     "data": {
      "text/plain": [
       "array([-0.32281876, -0.7020581 , -0.08393887, -0.3505647 , -0.3049981 ,\n",
       "       -1.5692484 ,  3.1322184 ,  0.23978809, -2.6941967 , -1.1692979 ],\n",
       "      dtype=float32)"
      ]
     },
     "execution_count": 94,
     "metadata": {},
     "output_type": "execute_result"
    }
   ],
   "source": [
    "newsD2V['war'][:10]"
   ]
  },
  {
   "cell_type": "code",
   "execution_count": 12,
   "metadata": {},
   "outputs": [
    {
     "data": {
      "text/plain": [
       "[('fitzwater', 0.7760022878646851),\n",
       " ('mubarak', 0.7573145031929016),\n",
       " ('picco', 0.7326598763465881),\n",
       " ('marlin', 0.7283878326416016),\n",
       " ('hussein', 0.7209010720252991),\n",
       " ('hashemi', 0.7187118530273438),\n",
       " ('gates', 0.7077697515487671),\n",
       " ('aides', 0.7048813700675964),\n",
       " ('hosni', 0.7002269625663757),\n",
       " ('resignation', 0.698199987411499)]"
      ]
     },
     "execution_count": 12,
     "metadata": {},
     "output_type": "execute_result"
    }
   ],
   "source": [
    "newsD2V.most_similar(positive = ['iraq','nixon'], negative = ['vietnam'], topn = 10)"
   ]
  },
  {
   "cell_type": "markdown",
   "metadata": {},
   "source": [
    "I wanted to check if the nixon:vietnam relationship that is not captured by the Word2Vec model is captured by the Doc2Vec model and it seems like it is not as we don't get 'bush' in the top results."
   ]
  },
  {
   "cell_type": "code",
   "execution_count": 101,
   "metadata": {},
   "outputs": [
    {
     "data": {
      "text/plain": [
       "[('presidents', 0.6111900806427002),\n",
       " ('versa', 0.5592323541641235),\n",
       " ('cyanamid', 0.5432870388031006),\n",
       " ('shimbun', 0.5018364787101746),\n",
       " ('shatalin', 0.501613974571228)]"
      ]
     },
     "execution_count": 101,
     "metadata": {},
     "output_type": "execute_result"
    }
   ],
   "source": [
    "newsD2V.most_similar(positive = ['wars','president'], negative = ['war'], topn = 5)"
   ]
  },
  {
   "cell_type": "code",
   "execution_count": null,
   "metadata": {},
   "outputs": [],
   "source": [
    "Our Doc2Vec model, just like our Word2Vec model seems to capture plurality however."
   ]
  },
  {
   "cell_type": "code",
   "execution_count": 104,
   "metadata": {},
   "outputs": [
    {
     "data": {
      "text/plain": [
       "[(2030, 0.6338689923286438),\n",
       " (4887, 0.5888708829879761),\n",
       " (2735, 0.5579837560653687),\n",
       " (3407, 0.5422875881195068),\n",
       " (2932, 0.5372608304023743)]"
      ]
     },
     "execution_count": 104,
     "metadata": {},
     "output_type": "execute_result"
    }
   ],
   "source": [
    "newsD2V.docvecs.most_similar([ newsD2V['wars'] ], topn=5 )"
   ]
  },
  {
   "cell_type": "markdown",
   "metadata": {},
   "source": [
    "Let's examine the contents of the most similiar document '2030' to 'wars'"
   ]
  },
  {
   "cell_type": "code",
   "execution_count": 26,
   "metadata": {},
   "outputs": [
    {
     "data": {
      "text/plain": [
       "\"One February night in 1970 Phill Coleman 's outpost at Bien Hoa was rocketed twice he says by his own army Six American soldiers were slaughtered I and some of the guys got together right there and said if we survived the war we would do everything we could to educate the American public about what was happening in Vietnam Coleman who has written a book Cannon Fodder about the attack started the country 's first Vietnam computer library in Redondo Beach in 1988 The quest for knowledge from acros\""
      ]
     },
     "execution_count": 26,
     "metadata": {},
     "output_type": "execute_result"
    }
   ],
   "source": [
    "list(newsDF.loc[newsDF['doi'] == 2030]['text'])[0][:500]"
   ]
  },
  {
   "cell_type": "markdown",
   "metadata": {},
   "source": [
    "So we get a text about the Vietnam war. Let's find documents similiar to that."
   ]
  },
  {
   "cell_type": "code",
   "execution_count": 105,
   "metadata": {},
   "outputs": [
    {
     "data": {
      "text/plain": [
       "[('grateful', 0.7344169020652771),\n",
       " ('harbinger', 0.7344008684158325),\n",
       " ('fuss', 0.7290758490562439),\n",
       " ('brainy', 0.7256369590759277),\n",
       " ('unnoticed', 0.7247389554977417)]"
      ]
     },
     "execution_count": 105,
     "metadata": {},
     "output_type": "execute_result"
    }
   ],
   "source": [
    "newsD2V.most_similar( [ newsD2V.docvecs[2030] ], topn=5)"
   ]
  },
  {
   "cell_type": "markdown",
   "metadata": {},
   "source": [
    "We get words that are not about the war. This means there are other salient dimensions to the same text, and the text's association with war is a funciton of our keyword tagging. However we do see some words that indicate doom ('harbinger, unnoticed')."
   ]
  },
  {
   "cell_type": "code",
   "execution_count": 106,
   "metadata": {},
   "outputs": [
    {
     "data": {
      "text/plain": [
       "[('untold', 0.9092534184455872),\n",
       " ('doom', 0.8971071839332581),\n",
       " ('deserved', 0.8899451494216919),\n",
       " ('accustomed', 0.8836345672607422),\n",
       " ('unpunished', 0.8775908946990967)]"
      ]
     },
     "execution_count": 106,
     "metadata": {},
     "output_type": "execute_result"
    }
   ],
   "source": [
    "newsD2V.most_similar( [ newsD2V.docvecs[4887] ], topn=5)"
   ]
  },
  {
   "cell_type": "markdown",
   "metadata": {},
   "source": [
    "Another document second most similiar to war has similiar charecteristics as the first. This suggests that W2V models will be great at topic modelling."
   ]
  },
  {
   "cell_type": "code",
   "execution_count": 30,
   "metadata": {},
   "outputs": [
    {
     "data": {
      "text/plain": [
       "[('truman', 0.6820322275161743),\n",
       " ('carter', 0.6089875102043152),\n",
       " ('kennedy', 0.5881960391998291),\n",
       " ('havel', 0.5797588229179382),\n",
       " ('pope', 0.5781103372573853)]"
      ]
     },
     "execution_count": 30,
     "metadata": {},
     "output_type": "execute_result"
    }
   ],
   "source": [
    "newsD2V.most_similar(positive = ['bush','vietnam'], negative = ['iraq'], topn = 5)"
   ]
  },
  {
   "cell_type": "markdown",
   "metadata": {},
   "source": [
    "Our Doc2Vec model still can finally figure out presidents during vietnam(Kennedy is one). "
   ]
  },
  {
   "cell_type": "code",
   "execution_count": 109,
   "metadata": {},
   "outputs": [],
   "source": [
    "heatmapMatrix = []\n",
    "for tagOuter in keywords:\n",
    "    column = []\n",
    "    tagVec = newsD2V.docvecs[tagOuter].reshape(1, -1)\n",
    "    for tagInner in keywords:\n",
    "        column.append(sklearn.metrics.pairwise.cosine_similarity(tagVec, newsD2V.docvecs[tagInner].reshape(1, -1))[0][0])\n",
    "    heatmapMatrix.append(column)\n",
    "heatmapMatrix = np.array(heatmapMatrix)"
   ]
  },
  {
   "cell_type": "code",
   "execution_count": 110,
   "metadata": {},
   "outputs": [
    {
     "data": {
      "image/png": "[encoded data removed]",
      "text/plain": [
       "<Figure size 432x288 with 2 Axes>"
      ]
     },
     "metadata": {
      "needs_background": "light"
     },
     "output_type": "display_data"
    }
   ],
   "source": [
    "fig, ax = plt.subplots()\n",
    "hmap = ax.pcolor(heatmapMatrix, cmap='terrain')\n",
    "cbar = plt.colorbar(hmap)\n",
    "\n",
    "cbar.set_label('cosine similarity', rotation=270)\n",
    "a = ax.set_xticks(np.arange(heatmapMatrix.shape[1]) + 0.5, minor=False)\n",
    "a = ax.set_yticks(np.arange(heatmapMatrix.shape[0]) + 0.5, minor=False)\n",
    "\n",
    "a = ax.set_xticklabels(keywords, minor=False, rotation=270)\n",
    "a = ax.set_yticklabels(keywords, minor=False)"
   ]
  },
  {
   "cell_type": "markdown",
   "metadata": {},
   "source": [
    "This heat map isn't very informative overall due to the high number of low sin similarity scores. It does show however Nixon is simniliar in this space to Reagan which does make sense, given the war related scandals both were involved in. However there might other similiarries the model is picking up. Vietnam also have high similiarity with Nixon while Iraq with Bush. This suggests Doc2Vec models can be used to query relationships between presidents and the countries they lead a war against."
   ]
  },
  {
   "cell_type": "code",
   "execution_count": 119,
   "metadata": {},
   "outputs": [],
   "source": [
    "newsD2V.save('newsW2V')"
   ]
  },
  {
   "cell_type": "code",
   "execution_count": 120,
   "metadata": {},
   "outputs": [],
   "source": [
    "#apsD2V = gensim.models.word2vec.Word2Vec.load('data/apsW2V')"
   ]
  },
  {
   "cell_type": "markdown",
   "metadata": {},
   "source": [
    "# Projection"
   ]
  },
  {
   "cell_type": "markdown",
   "metadata": {},
   "source": [
    "We can also project word vectors to an arbitray semantic dimension. To demonstrate this possibility, let's first load a model trained with New York Times news articles. "
   ]
  },
  {
   "cell_type": "code",
   "execution_count": 66,
   "metadata": {},
   "outputs": [],
   "source": [
    "nytimes_model = gensim.models.KeyedVectors.load_word2vec_format('../data/nytimes_cbow.reduced.txt')"
   ]
  },
  {
   "cell_type": "markdown",
   "metadata": {},
   "source": [
    "First we can visualize with dimension reduction"
   ]
  },
  {
   "cell_type": "code",
   "execution_count": 67,
   "metadata": {},
   "outputs": [],
   "source": [
    "#words to create dimensions\n",
    "tnytTargetWords = ['man','him','he', 'woman', 'her', 'she', 'black','blacks','African', 'white', 'whites', 'Caucasian', 'rich', 'richer', 'richest', 'expensive', 'wealthy', 'poor', 'poorer', 'poorest', 'cheap', 'inexpensive']\n",
    "#words we will be mapping\n",
    "tnytTargetWords += [\"doctor\",\"lawyer\",\"plumber\",\"scientist\",\"hairdresser\", \"nanny\",\"carpenter\",\"entrepreneur\",\"musician\",\"writer\", \"banker\",\"poet\",\"nurse\", \"steak\", \"bacon\", \"croissant\", \"cheesecake\", \"salad\", \"cheeseburger\", \"vegetables\", \"beer\", \"wine\", \"pastry\", \"basketball\", \"baseball\", \"boxing\", \"softball\", \"volleyball\", \"tennis\", \"golf\", \"hockey\", \"soccer\"]\n",
    "\n",
    "\n",
    "wordsSubMatrix = []\n",
    "for word in tnytTargetWords:\n",
    "    wordsSubMatrix.append(nytimes_model[word])\n",
    "wordsSubMatrix = np.array(wordsSubMatrix)\n",
    "#wordsSubMatrix"
   ]
  },
  {
   "cell_type": "code",
   "execution_count": 68,
   "metadata": {},
   "outputs": [],
   "source": [
    "pcaWordsNYT = sklearn.decomposition.PCA(n_components = 50).fit(wordsSubMatrix)\n",
    "reducedPCA_dataNYT = pcaWordsNYT.transform(wordsSubMatrix)\n",
    "#T-SNE is theoretically better, but you should experiment\n",
    "tsneWordsNYT = sklearn.manifold.TSNE(n_components = 2).fit_transform(reducedPCA_dataNYT)"
   ]
  },
  {
   "cell_type": "code",
   "execution_count": 69,
   "metadata": {},
   "outputs": [
    {
     "data": {
      "image/png": "[encoded data removed]",
      "text/plain": [
       "<Figure size 1440x864 with 1 Axes>"
      ]
     },
     "metadata": {},
     "output_type": "display_data"
    }
   ],
   "source": [
    "fig = plt.figure(figsize = (20,12))\n",
    "ax = fig.add_subplot(111)\n",
    "ax.set_frame_on(False)\n",
    "plt.scatter(tsneWordsNYT[:, 0], tsneWordsNYT[:, 1], alpha = 0) #Making the points invisible\n",
    "for i, word in enumerate(tnytTargetWords):\n",
    "    ax.annotate(word, (tsneWordsNYT[:, 0][i],tsneWordsNYT[:, 1][i]), size =  50 * (len(tnytTargetWords) - i) / len(tnytTargetWords))\n",
    "plt.xticks(())\n",
    "plt.yticks(())\n",
    "plt.show()"
   ]
  },
  {
   "cell_type": "markdown",
   "metadata": {},
   "source": [
    "Define some convenient functions for getting dimensions. "
   ]
  },
  {
   "cell_type": "code",
   "execution_count": null,
   "metadata": {},
   "outputs": [],
   "source": [
    "def normalize(vector):\n",
    "    normalized_vector = vector / np.linalg.norm(vector)\n",
    "    return normalized_vector\n",
    "\n",
    "def dimension(model, positives, negatives):\n",
    "    diff = sum([normalize(model[x]) for x in positives]) - sum([normalize(model[y]) for y in negatives])\n",
    "    return diff"
   ]
  },
  {
   "cell_type": "markdown",
   "metadata": {},
   "source": [
    "Let's calculate three dimensions: gender, race, and class."
   ]
  },
  {
   "cell_type": "code",
   "execution_count": null,
   "metadata": {},
   "outputs": [],
   "source": [
    "Gender = dimension(nytimes_model, ['man','him','he'], ['woman', 'her', 'she'])\n",
    "Race = dimension(nytimes_model, ['black','blacks','African'], ['white', 'whites', 'Caucasian'])\n",
    "Class = dimension(nytimes_model, ['rich', 'richer', 'richest', 'expensive', 'wealthy'], ['poor', 'poorer', 'poorest', 'cheap', 'inexpensive'])"
   ]
  },
  {
   "cell_type": "markdown",
   "metadata": {},
   "source": [
    "Here we have some words."
   ]
  },
  {
   "cell_type": "code",
   "execution_count": null,
   "metadata": {},
   "outputs": [],
   "source": [
    "Occupations = [\"doctor\",\"lawyer\",\"plumber\",\"scientist\",\"hairdresser\", \"nanny\",\"carpenter\",\"entrepreneur\",\"musician\",\"writer\", \"banker\",\"poet\",\"nurse\"]\n",
    "\n",
    "Foods = [\"steak\", \"bacon\", \"croissant\", \"cheesecake\", \"salad\", \"cheeseburger\", \"vegetables\", \"beer\", \"wine\", \"pastry\"]\n",
    "\n",
    "Sports  = [\"basketball\", \"baseball\", \"boxing\", \"softball\", \"volleyball\", \"tennis\", \"golf\", \"hockey\", \"soccer\"]"
   ]
  },
  {
   "cell_type": "markdown",
   "metadata": {},
   "source": [
    "Define a function to project words in a word list to each of the three dimensions."
   ]
  },
  {
   "cell_type": "code",
   "execution_count": null,
   "metadata": {},
   "outputs": [],
   "source": [
    "def makeDF(model, word_list):\n",
    "    g = []\n",
    "    r = []\n",
    "    c = []\n",
    "    for word in word_list:\n",
    "        g.append(sklearn.metrics.pairwise.cosine_similarity(nytimes_model[word].reshape(1,-1), Gender.reshape(1,-1))[0][0])\n",
    "        r.append(sklearn.metrics.pairwise.cosine_similarity(nytimes_model[word].reshape(1,-1), Race.reshape(1,-1))[0][0])\n",
    "        c.append(sklearn.metrics.pairwise.cosine_similarity(nytimes_model[word].reshape(1,-1), Class.reshape(1,-1))[0][0])\n",
    "    df = pandas.DataFrame({'gender': g, 'race': r, 'class': c}, index = word_list)\n",
    "    return df"
   ]
  },
  {
   "cell_type": "markdown",
   "metadata": {},
   "source": [
    "Get the projections."
   ]
  },
  {
   "cell_type": "code",
   "execution_count": null,
   "metadata": {},
   "outputs": [],
   "source": [
    "OCCdf = makeDF(nytimes_model, Occupations) \n",
    "Fooddf = makeDF(nytimes_model, Foods)\n",
    "Sportsdf = makeDF(nytimes_model, Sports)"
   ]
  },
  {
   "cell_type": "markdown",
   "metadata": {},
   "source": [
    "Define some useful functions for plotting."
   ]
  },
  {
   "cell_type": "code",
   "execution_count": null,
   "metadata": {},
   "outputs": [],
   "source": [
    "def Coloring(Series):\n",
    "    x = Series.values\n",
    "    y = x-x.min()\n",
    "    z = y/y.max()\n",
    "    c = list(plt.cm.rainbow(z))\n",
    "    return c\n",
    "\n",
    "def PlotDimension(ax,df, dim):\n",
    "    ax.set_frame_on(False)\n",
    "    ax.set_title(dim, fontsize = 20)\n",
    "    colors = Coloring(df[dim])\n",
    "    for i, word in enumerate(df.index):\n",
    "        ax.annotate(word, (0, df[dim][i]), color = colors[i], alpha = 0.6, fontsize = 12)\n",
    "    MaxY = df[dim].max()\n",
    "    MinY = df[dim].min()\n",
    "    plt.ylim(MinY,MaxY)\n",
    "    plt.yticks(())\n",
    "    plt.xticks(())"
   ]
  },
  {
   "cell_type": "markdown",
   "metadata": {},
   "source": [
    "Plot the occupational words in each of the three dimensions."
   ]
  },
  {
   "cell_type": "code",
   "execution_count": null,
   "metadata": {
    "scrolled": true
   },
   "outputs": [],
   "source": [
    "fig = plt.figure(figsize = (12,4))\n",
    "ax1 = fig.add_subplot(131)\n",
    "PlotDimension(ax1, OCCdf, 'gender')\n",
    "ax2 = fig.add_subplot(132)\n",
    "PlotDimension(ax2, OCCdf, 'race')\n",
    "ax3 = fig.add_subplot(133)\n",
    "PlotDimension(ax3, OCCdf, 'class')\n",
    "plt.show()"
   ]
  },
  {
   "cell_type": "markdown",
   "metadata": {},
   "source": [
    "Foods:"
   ]
  },
  {
   "cell_type": "code",
   "execution_count": null,
   "metadata": {},
   "outputs": [],
   "source": [
    "fig = plt.figure(figsize = (12,4))\n",
    "ax1 = fig.add_subplot(131)\n",
    "PlotDimension(ax1, Fooddf, 'gender')\n",
    "ax2 = fig.add_subplot(132)\n",
    "PlotDimension(ax2, Fooddf, 'race')\n",
    "ax3 = fig.add_subplot(133)\n",
    "PlotDimension(ax3, Fooddf, 'class')\n",
    "plt.show()"
   ]
  },
  {
   "cell_type": "markdown",
   "metadata": {},
   "source": [
    "Sports:"
   ]
  },
  {
   "cell_type": "code",
   "execution_count": null,
   "metadata": {},
   "outputs": [],
   "source": [
    "fig = plt.figure(figsize = (12,4))\n",
    "ax1 = fig.add_subplot(131)\n",
    "PlotDimension(ax1, Sportsdf, 'gender')\n",
    "ax2 = fig.add_subplot(132)\n",
    "PlotDimension(ax2, Sportsdf, 'race')\n",
    "ax3 = fig.add_subplot(133)\n",
    "PlotDimension(ax3, Sportsdf, 'class')\n",
    "plt.show()"
   ]
  },
  {
   "cell_type": "markdown",
   "metadata": {},
   "source": [
    "## <span style=\"color:red\">*Exercise 3*</span>\n",
    "\n",
    "<span style=\"color:red\">Construct cells immediately below this that embed documents related to your final project, then generate meaningful semantic dimensions based on your theoretical understanding of the semantic space (i.e., by subtracting semantically opposite word vectors) and project another set of word vectors onto those dimensions. Interpret the meaning of these projections for your analysis. Which of the dimensions you analyze explain the most variation in the projection of your words and why? \n",
    "\n",
    "<span style=\"color:red\">***Stretch***: Average together multiple antonym pairs to create robust semantic dimensions. How do word projections on these robust dimensions differ from single-pair dimensions?"
   ]
  },
  {
   "cell_type": "markdown",
   "metadata": {},
   "source": [
    "For this exercise, I created two dimensions, Political Orientation and Press Freedom. I wanted to specifically map Race onto press these categories to figure out if there is a racial difference in political orientation and (opinions on) press freedom. I also map Occupations, Music genres and Institutions."
   ]
  },
  {
   "cell_type": "code",
   "execution_count": 3,
   "metadata": {},
   "outputs": [],
   "source": [
    "m2=gensim.models.KeyedVectors.load_word2vec_format('GoogleNews-vectors-negative300.bin', binary=True)\n",
    "model=m2\n",
    "#words to create dimensions\n",
    "tnytTargetWords = ['liberal','socialist','communist','libertarian','trusted','fake','free','censored','freedom','jail','democrat','republican','rich','working','russia','states']\n",
    "#words we will be mapping\n",
    "tnytTargetWords += [\"journalist\",\"president\",\"rabbi\",\"politician\",\"senator\",\"businessman\",\"entrepreneur\", \"banker\", \"punk\", \"rap\", \"jazz\", \"opera\", \"rock\",\"blues\", \"funk\", \"folk\", \"black\",\"hispanic\",\"indian\",\"asian\",\"arab\",\"white\"]\n",
    "\n",
    "\n",
    "wordsSubMatrix = []\n",
    "for word in tnytTargetWords:\n",
    "    wordsSubMatrix.append(model[word])\n",
    "wordsSubMatrix = np.array(wordsSubMatrix)\n",
    "#wordsSubMatrix"
   ]
  },
  {
   "cell_type": "code",
   "execution_count": 4,
   "metadata": {},
   "outputs": [],
   "source": [
    "#Use TSNE visualiation as it's better at caputuring local patterns which maybe useful if the categories cluster together\n",
    "tsneWordsNYT = sklearn.manifold.TSNE(n_components = 2).fit_transform(wordsSubMatrix)"
   ]
  },
  {
   "cell_type": "code",
   "execution_count": 5,
   "metadata": {},
   "outputs": [
    {
     "data": {
      "image/png": "[encoded data removed]",
      "text/plain": [
       "<Figure size 1440x864 with 1 Axes>"
      ]
     },
     "metadata": {},
     "output_type": "display_data"
    }
   ],
   "source": [
    "fig = plt.figure(figsize = (20,12))\n",
    "ax = fig.add_subplot(111)\n",
    "ax.set_frame_on(False)\n",
    "plt.scatter(tsneWordsNYT[:, 0], tsneWordsNYT[:, 1], alpha = 0) #Making the points invisible\n",
    "for i, word in enumerate(tnytTargetWords):\n",
    "    ax.annotate(word, (tsneWordsNYT[:, 0][i],tsneWordsNYT[:, 1][i]), size =  50 * (len(tnytTargetWords) - i) / len(tnytTargetWords))\n",
    "plt.xticks(())\n",
    "plt.yticks(())\n",
    "plt.show()"
   ]
  },
  {
   "cell_type": "markdown",
   "metadata": {},
   "source": [
    "Seems like the political orientations cluster on the left bottom('socialist','libertarian', etc.) the occuptions on the right side('rabbi','journalist','entreprenuer'), musical categories on the bottom right('funk','rap','punk','jazz'). This suggests that the vector semantic space is reasonable."
   ]
  },
  {
   "cell_type": "code",
   "execution_count": 25,
   "metadata": {},
   "outputs": [],
   "source": [
    "def normalize(vector):\n",
    "    normalized_vector = vector / np.linalg.norm(vector)\n",
    "    return normalized_vector\n",
    "\n",
    "def dimension(model, positives, negatives):\n",
    "    diff = sum([normalize(model[x]) for x in positives]) - sum([normalize(model[y]) for y in negatives])\n",
    "    return diff"
   ]
  },
  {
   "cell_type": "code",
   "execution_count": 44,
   "metadata": {},
   "outputs": [],
   "source": [
    "Orientation = dimension(model, ['liberal','socialist','anarchist','democrat', 'left'], ['conservative','libertarian','fascist','republican','right'])\n",
    "Press = dimension(model, ['trusted','free','freedom'], ['fake', 'jail', 'censored'])"
   ]
  },
  {
   "cell_type": "code",
   "execution_count": 51,
   "metadata": {},
   "outputs": [],
   "source": [
    "Occupations = [\"journalist\",\"president\",\"rabbi\",\"politician\",\"senator\",\"businessman\",\"entrepreneur\", \"banker\"]\n",
    "\n",
    "Music = [\"punk\", \"rap\", \"jazz\", \"opera\", \"rock\",\"blues\", \"funk\", \"folk\"]\n",
    "\n",
    "Race= [\"black\",\"hispanic\",\"indian\",\"asian\",\"arab\",\"white\"]\n",
    "\n",
    "Institutions =['media','hospitals','school','congress','college']\n",
    "\n"
   ]
  },
  {
   "cell_type": "code",
   "execution_count": 52,
   "metadata": {},
   "outputs": [],
   "source": [
    "def makeDF(model, word_list):\n",
    "    o = []\n",
    "    p = []\n",
    "   \n",
    "    for word in word_list:\n",
    "        o.append(sklearn.metrics.pairwise.cosine_similarity(model[word].reshape(1,-1), Orientation.reshape(1,-1))[0][0])\n",
    "        p.append(sklearn.metrics.pairwise.cosine_similarity(model[word].reshape(1,-1), Press.reshape(1,-1))[0][0])\n",
    "\n",
    "    df = pandas.DataFrame({'political orientation': o, 'press freedom': p}, index = word_list)\n",
    "    return df"
   ]
  },
  {
   "cell_type": "code",
   "execution_count": 53,
   "metadata": {},
   "outputs": [],
   "source": [
    "OCCdf = makeDF(model, Occupations) \n",
    "Musicdf = makeDF(model, Music)\n",
    "Racedf = makeDF(model, Race)\n",
    "Idf = makeDF(model, Institutions)"
   ]
  },
  {
   "cell_type": "code",
   "execution_count": 54,
   "metadata": {},
   "outputs": [],
   "source": [
    "def Coloring(Series):\n",
    "    x = Series.values\n",
    "    y = x-x.min()\n",
    "    z = y/y.max()\n",
    "    c = list(plt.cm.rainbow(z))\n",
    "    return c\n",
    "\n",
    "def PlotDimension(ax,df, dim):\n",
    "    ax.set_frame_on(False)\n",
    "    ax.set_title(dim, fontsize = 20)\n",
    "    colors = Coloring(df[dim])\n",
    "    for i, word in enumerate(df.index):\n",
    "        ax.annotate(word, (0, df[dim][i]), color = colors[i], alpha = 0.6, fontsize = 12)\n",
    "    MaxY = df[dim].max()\n",
    "    MinY = df[dim].min()\n",
    "    plt.ylim(MinY,MaxY)\n",
    "    plt.yticks(())\n",
    "    plt.xticks(())"
   ]
  },
  {
   "cell_type": "code",
   "execution_count": 55,
   "metadata": {},
   "outputs": [
    {
     "data": {
      "image/png": "[encoded data removed]",
      "text/plain": [
       "<Figure size 864x288 with 2 Axes>"
      ]
     },
     "metadata": {},
     "output_type": "display_data"
    }
   ],
   "source": [
    "fig = plt.figure(figsize = (12,4))\n",
    "ax1 = fig.add_subplot(131)\n",
    "PlotDimension(ax1, OCCdf, 'political orientation')\n",
    "ax2 = fig.add_subplot(132)\n",
    "PlotDimension(ax2, OCCdf, 'press freedom')\n",
    "plt.show()"
   ]
  },
  {
   "cell_type": "markdown",
   "metadata": {},
   "source": [
    "I project occupations above and it seems clear that, in political orientation Journalist is on the liberal/socialist end of the spectrum while president is on the right end of the spectrum. This confers with the perception of public that the media in the united states is liberal, while the political policy(both \"senator\", \"president\") and \"banker(s)\" that fund them are on the right of the population. The rabbi seems to be apolitical/centrist in the middle. When occupation is projected onto press freedom, the president who has the most power to endanger press freedom in the United States ends up on the opposite side of journalist. Interestingly, 'rabbi' and 'businessman' are even further away from president, which is interesting but hard to interpret."
   ]
  },
  {
   "cell_type": "code",
   "execution_count": 56,
   "metadata": {},
   "outputs": [
    {
     "data": {
      "image/png": "[encoded data removed]",
      "text/plain": [
       "<Figure size 864x288 with 2 Axes>"
      ]
     },
     "metadata": {},
     "output_type": "display_data"
    }
   ],
   "source": [
    "fig = plt.figure(figsize = (12,4))\n",
    "ax1 = fig.add_subplot(131)\n",
    "PlotDimension(ax1, Musicdf, 'political orientation')\n",
    "ax2 = fig.add_subplot(132)\n",
    "PlotDimension(ax2, Musicdf, 'press freedom')\n",
    "plt.show()"
   ]
  },
  {
   "cell_type": "markdown",
   "metadata": {},
   "source": [
    "In Musical orientation, 'folk' and 'opera' are on the opposite side of 'punk', which also makes sense and confirms with popular perceptions. It's hard to interpret music genres projected on press freedom, I just present it here for illustrative purposes."
   ]
  },
  {
   "cell_type": "code",
   "execution_count": 57,
   "metadata": {},
   "outputs": [
    {
     "data": {
      "image/png": "[encoded data removed]",
      "text/plain": [
       "<Figure size 864x288 with 2 Axes>"
      ]
     },
     "metadata": {},
     "output_type": "display_data"
    }
   ],
   "source": [
    "fig = plt.figure(figsize = (12,4))\n",
    "ax1 = fig.add_subplot(131)\n",
    "PlotDimension(ax1, Racedf, 'political orientation')\n",
    "ax2 = fig.add_subplot(132)\n",
    "PlotDimension(ax2, Racedf, 'press freedom')\n",
    "plt.show()"
   ]
  },
  {
   "cell_type": "markdown",
   "metadata": {},
   "source": [
    "The interpretation of projection of race on political orientation is hindered by the fact that \"African_american\", \"Caucasian\" is not part of the word2vec model and using words with polysemy like \"black\", \"white\", 'arab' does not lead to reasonable results as we aren't sure if these words refer to racial categories as they pertain to the united states or otherwise. This is a limitation of the word2vec which is overcome by BERT/ELMO models with contextual embeddings"
   ]
  },
  {
   "cell_type": "code",
   "execution_count": 59,
   "metadata": {},
   "outputs": [
    {
     "data": {
      "image/png": "[encoded data removed]",
      "text/plain": [
       "<Figure size 864x288 with 1 Axes>"
      ]
     },
     "metadata": {},
     "output_type": "display_data"
    }
   ],
   "source": [
    "fig = plt.figure(figsize = (12,4))\n",
    "ax1 = fig.add_subplot(131)\n",
    "PlotDimension(ax1, Idf, 'political orientation')\n",
    "plt.show()"
   ]
  },
  {
   "cell_type": "markdown",
   "metadata": {},
   "source": [
    "I projected public institutions on political orientation and it made sense to me. Institutions like congress are seen more conservative than the media and colleges in the country. 'Hospital(s)' and 'school(s)' seem apolitical/centrist."
   ]
  },
  {
   "cell_type": "markdown",
   "metadata": {},
   "source": [
    "Overall projections on interesting dimensions do lead to insights, but the anthropologist needs to come in with enough understanding of the problem at hand to intrepret the results, it seems."
   ]
  },
  {
   "cell_type": "markdown",
   "metadata": {},
   "source": [
    "# The Score Function\n",
    "\n",
    "The score function is a simple calculation developed by [Matt Taddy](https://arxiv.org/pdf/1504.07295.pdf) to calculate the likelihood that a given text would have been generated by a word-embedding model by summing the inner product between each pair of the text's word vectors. This relies on a few data files that are not in the git repo due to their size please download and unzip [this](https://github.com/Computational-Content-Analysis-2018/Upcoming/raw/master/data/supplement.zip) (472MB) file in the data directory.\n",
    "\n",
    "Here, we explore this using a model trained with millions of resumes from the CareerBuilder website (we can't share the private resumes...but we can share a model built with them :-):"
   ]
  },
  {
   "cell_type": "code",
   "execution_count": null,
   "metadata": {},
   "outputs": [],
   "source": [
    "resume_model  = gensim.models.word2vec.Word2Vec.load('../data/resumeAll.model')"
   ]
  },
  {
   "cell_type": "markdown",
   "metadata": {},
   "source": [
    "We can examine the vacabularies of this model by building a word-index map:"
   ]
  },
  {
   "cell_type": "code",
   "execution_count": null,
   "metadata": {},
   "outputs": [],
   "source": [
    "vocab = resume_model.wv.index2word"
   ]
  },
  {
   "cell_type": "markdown",
   "metadata": {},
   "source": [
    "Let's just load the sample and take a look at it. The sentences in each job description are already tokenized and normalized."
   ]
  },
  {
   "cell_type": "code",
   "execution_count": null,
   "metadata": {},
   "outputs": [],
   "source": [
    "sampleDF = pandas.read_csv('../data/SampleJobAds.csv', index_col = False)\n",
    "#We need to convert the last couple columns from strings to lists\n",
    "sampleDF['tokenized_sents'] = sampleDF['tokenized_sents'].apply(lambda x: eval(x))\n",
    "sampleDF['normalized_sents'] = sampleDF['normalized_sents'].apply(lambda x: eval(x))\n",
    "sampleDF"
   ]
  },
  {
   "cell_type": "markdown",
   "metadata": {},
   "source": [
    "Let's define a function to calculate the likelihood of each job description. The idea is borrowed from [Matt Taddy](https://github.com/RaRe-Technologies/gensim/blob/develop/docs/notebooks/deepir.ipynb), who shows how a document can be characterized as the inner product of the distance between its words. In other words, this analysis will show which job ads are most likely to find an appropriate pool of workers in the resume bank that generated our word embedding.  "
   ]
  },
  {
   "cell_type": "code",
   "execution_count": null,
   "metadata": {},
   "outputs": [],
   "source": [
    "def adprob(ad, model):\n",
    "    sen_scores = model.score(ad, len(ad))\n",
    "    ad_score = sen_scores.mean()\n",
    "    return ad_score"
   ]
  },
  {
   "cell_type": "markdown",
   "metadata": {},
   "source": [
    "Let's apply this function to every job description."
   ]
  },
  {
   "cell_type": "code",
   "execution_count": null,
   "metadata": {},
   "outputs": [],
   "source": [
    "sampleDF['likelihood'] = sampleDF['normalized_sents'].apply(lambda x: adprob(x, resume_model))"
   ]
  },
  {
   "cell_type": "markdown",
   "metadata": {},
   "source": [
    "Let's take a look at the top 5 job descriptions that have the highest likelihood."
   ]
  },
  {
   "cell_type": "code",
   "execution_count": null,
   "metadata": {},
   "outputs": [],
   "source": [
    "for ad in sampleDF.sort_values(by = 'likelihood', ascending = False)['jobDescription'][:5]:\n",
    "    print (ad + '\\n\\n')"
   ]
  },
  {
   "cell_type": "markdown",
   "metadata": {},
   "source": [
    "Let's take a look at the bottom 5 job descriptions that have the lowest likelihood to be matched by the resumes."
   ]
  },
  {
   "cell_type": "code",
   "execution_count": null,
   "metadata": {},
   "outputs": [],
   "source": [
    "for ad in sampleDF.sort_values(by = 'likelihood')['jobDescription'][:5]:\n",
    "    print (ad + '\\n\\n')"
   ]
  },
  {
   "cell_type": "markdown",
   "metadata": {},
   "source": [
    "We can do the same for phrases corresponding to job skills."
   ]
  },
  {
   "cell_type": "code",
   "execution_count": null,
   "metadata": {},
   "outputs": [],
   "source": [
    "adprob([[\"python\", \"programming\"]], resume_model)"
   ]
  },
  {
   "cell_type": "code",
   "execution_count": null,
   "metadata": {},
   "outputs": [],
   "source": [
    "adprob([[\"julia\", \"programming\"]], resume_model)"
   ]
  },
  {
   "cell_type": "markdown",
   "metadata": {},
   "source": [
    "Basic programming appears to be more likely in this pool of resumes than python programming. \n",
    "\n",
    "We can also do some simple statistics. Unfortunately, we don't have a large sample here. Nevertheless, let's first look at the mean likelihood score of each hiring organization. Some organizations will do well to hire on CareerBuilder...while others will not."
   ]
  },
  {
   "cell_type": "code",
   "execution_count": null,
   "metadata": {},
   "outputs": [],
   "source": [
    "sampleDF.groupby(\"hiringOrganization_organizationName\")[['likelihood']].mean().sort_values('likelihood', ascending = False)"
   ]
  },
  {
   "cell_type": "markdown",
   "metadata": {},
   "source": [
    "We can also look at the mean likelihood of each state."
   ]
  },
  {
   "cell_type": "code",
   "execution_count": null,
   "metadata": {},
   "outputs": [],
   "source": [
    "sampleDF.groupby(\"jobLocation_address_region\")[['likelihood']].mean().sort_values('likelihood', ascending = False)"
   ]
  },
  {
   "cell_type": "markdown",
   "metadata": {},
   "source": [
    "You would increase the sample size if you want to do a more serious study.\n",
    "\n",
    "## <span style=\"color:red\">*Exercise 4a*</span>\n",
    "\n",
    "<span style=\"color:red\">**Do only 4a or 4b.** Construct cells immediately below this that calculate the scores for a small sample of documents from outside your corpus to identify which are *closest* to your corpus. Then calculate the scores for a few phrases or sentences to identify the ones most likely to have appeared in your corpus. Interrogate patterns associated with these document/phrase scores (e.g., which companies produced job ads most or least likely to find jobseekers in the resume corpus?) What do these patterns suggest about the boundaries of your corpus?"
   ]
  },
  {
   "cell_type": "markdown",
   "metadata": {},
   "source": [
    "# Linguistic Change or Difference\n",
    "\n",
    "Below is code that aligns the dimensions of multiple embeddings arrayed over time or some other dimension and allow identification of semantic chanage as the word vectors change their loadings for focal words. This code comes from the approach piloted at Stanford by William Hamilton, Daniel Jurafsky and Jure Lescovec [here](https://arxiv.org/pdf/1605.09096.pdf). "
   ]
  },
  {
   "cell_type": "code",
   "execution_count": null,
   "metadata": {},
   "outputs": [],
   "source": [
    "import copy"
   ]
  },
  {
   "cell_type": "code",
   "execution_count": null,
   "metadata": {},
   "outputs": [],
   "source": [
    "def calc_syn0norm(model):\n",
    "    \"\"\"since syn0norm is now depricated\"\"\"\n",
    "    return (model.wv.syn0 / np.sqrt((model.wv.syn0 ** 2).sum(-1))[..., np.newaxis]).astype(np.float32)\n",
    "\n",
    "def smart_procrustes_align_gensim(base_embed, other_embed, words=None):\n",
    "    \"\"\"Procrustes align two gensim word2vec models (to allow for comparison between same word across models).\n",
    "    Code ported from HistWords <https://github.com/williamleif/histwords> by William Hamilton <wleif@stanford.edu>.\n",
    "    (With help from William. Thank you!)\n",
    "    First, intersect the vocabularies (see `intersection_align_gensim` documentation).\n",
    "    Then do the alignment on the other_embed model.\n",
    "    Replace the other_embed model's syn0 and syn0norm numpy matrices with the aligned version.\n",
    "    Return other_embed.\n",
    "    If `words` is set, intersect the two models' vocabulary with the vocabulary in words (see `intersection_align_gensim` documentation).\n",
    "    \"\"\"\n",
    "    base_embed = copy.copy(base_embed)\n",
    "    other_embed = copy.copy(other_embed)\n",
    "    # make sure vocabulary and indices are aligned\n",
    "    in_base_embed, in_other_embed = intersection_align_gensim(base_embed, other_embed, words=words)\n",
    "\n",
    "    # get the embedding matrices\n",
    "    base_vecs = calc_syn0norm(in_base_embed)\n",
    "    other_vecs = calc_syn0norm(in_other_embed)\n",
    "\n",
    "    # just a matrix dot product with numpy\n",
    "    m = other_vecs.T.dot(base_vecs) \n",
    "    # SVD method from numpy\n",
    "    u, _, v = np.linalg.svd(m)\n",
    "    # another matrix operation\n",
    "    ortho = u.dot(v) \n",
    "    # Replace original array with modified one\n",
    "    # i.e. multiplying the embedding matrix (syn0norm)by \"ortho\"\n",
    "    other_embed.wv.syn0norm = other_embed.wv.syn0 = (calc_syn0norm(other_embed)).dot(ortho)\n",
    "    return other_embed\n",
    "    \n",
    "def intersection_align_gensim(m1,m2, words=None):\n",
    "    \"\"\"\n",
    "    Intersect two gensim word2vec models, m1 and m2.\n",
    "    Only the shared vocabulary between them is kept.\n",
    "    If 'words' is set (as list or set), then the vocabulary is intersected with this list as well.\n",
    "    Indices are re-organized from 0..N in order of descending frequency (=sum of counts from both m1 and m2).\n",
    "    These indices correspond to the new syn0 and syn0norm objects in both gensim models:\n",
    "        -- so that Row 0 of m1.syn0 will be for the same word as Row 0 of m2.syn0\n",
    "        -- you can find the index of any word on the .index2word list: model.index2word.index(word) => 2\n",
    "    The .vocab dictionary is also updated for each model, preserving the count but updating the index.\n",
    "    \"\"\"\n",
    "\n",
    "    # Get the vocab for each model\n",
    "    vocab_m1 = set(m1.wv.vocab.keys())\n",
    "    vocab_m2 = set(m2.wv.vocab.keys())\n",
    "\n",
    "    # Find the common vocabulary\n",
    "    common_vocab = vocab_m1&vocab_m2\n",
    "    if words: common_vocab&=set(words)\n",
    "\n",
    "    # If no alignment necessary because vocab is identical...\n",
    "    if not vocab_m1-common_vocab and not vocab_m2-common_vocab:\n",
    "        return (m1,m2)\n",
    "\n",
    "    # Otherwise sort by frequency (summed for both)\n",
    "    common_vocab = list(common_vocab)\n",
    "    common_vocab.sort(key=lambda w: m1.wv.vocab[w].count + m2.wv.vocab[w].count,reverse=True)\n",
    "\n",
    "    # Then for each model...\n",
    "    for m in [m1,m2]:\n",
    "        # Replace old syn0norm array with new one (with common vocab)\n",
    "        indices = [m.wv.vocab[w].index for w in common_vocab]\n",
    "        old_arr = calc_syn0norm(m)\n",
    "        new_arr = np.array([old_arr[index] for index in indices])\n",
    "        m.wv.syn0norm = m.wv.syn0 = new_arr\n",
    "\n",
    "        # Replace old vocab dictionary with new one (with common vocab)\n",
    "        # and old index2word with new one\n",
    "        m.index2word = common_vocab\n",
    "        old_vocab = m.wv.vocab\n",
    "        new_vocab = {}\n",
    "        for new_index,word in enumerate(common_vocab):\n",
    "            old_vocab_obj=old_vocab[word]\n",
    "            new_vocab[word] = gensim.models.word2vec.Vocab(index=new_index, count=old_vocab_obj.count)\n",
    "        m.wv.vocab = new_vocab\n",
    "\n",
    "    return (m1,m2)"
   ]
  },
  {
   "cell_type": "markdown",
   "metadata": {},
   "source": [
    "In order to explore this, let's get some data that follows a time trend. We'll look at conference proceedings from the American Society for Clinical Oncologists."
   ]
  },
  {
   "cell_type": "code",
   "execution_count": null,
   "metadata": {},
   "outputs": [],
   "source": [
    "ascoDF = pandas.read_csv(\"../data/ASCO_abstracts.csv\", index_col=0)"
   ]
  },
  {
   "cell_type": "markdown",
   "metadata": {},
   "source": [
    "Prepare for wor2vec:"
   ]
  },
  {
   "cell_type": "code",
   "execution_count": null,
   "metadata": {},
   "outputs": [],
   "source": [
    "ascoDF['tokenized_sents'] = ascoDF['Body'].apply(lambda x: [lucem_illud_2020.word_tokenize(s) for s in lucem_illud_2020.sent_tokenize(x)])\n",
    "ascoDF['normalized_sents'] = ascoDF['tokenized_sents'].apply(lambda x: [lucem_illud_2020.normalizeTokens(s) for s in x])"
   ]
  },
  {
   "cell_type": "code",
   "execution_count": null,
   "metadata": {},
   "outputs": [],
   "source": [
    "ascoDF"
   ]
  },
  {
   "cell_type": "markdown",
   "metadata": {},
   "source": [
    "We will be creating many embeddings so we have created this function to do most of the work. It creates two collections of embeddings, one the original and one the aligned."
   ]
  },
  {
   "cell_type": "code",
   "execution_count": 20,
   "metadata": {},
   "outputs": [],
   "source": [
    "def compareModels(df, category, text_column_name='normalized_sents', sort = True, embeddings_raw={}):\n",
    "    \"\"\"If you are using time as your category sorting is important\"\"\"\n",
    "    if len(embeddings_raw) == 0:\n",
    "        embeddings_raw = rawModels(df, category, text_column_name, sort)\n",
    "    cats = sorted(set(df[category]))\n",
    "    #These are much quicker\n",
    "    embeddings_aligned = {}\n",
    "    for catOuter in cats:\n",
    "        embeddings_aligned[catOuter] = [embeddings_raw[catOuter]]\n",
    "        for catInner in cats:\n",
    "            embeddings_aligned[catOuter].append(smart_procrustes_align_gensim(embeddings_aligned[catOuter][-1], embeddings_raw[catInner]))\n",
    "    return embeddings_raw, embeddings_aligned"
   ]
  },
  {
   "cell_type": "code",
   "execution_count": null,
   "metadata": {},
   "outputs": [],
   "source": [
    "def rawModels(df, category, text_column_name='normalized_sents', sort = True):\n",
    "    print(\"In rawModels\")\n",
    "    embeddings_raw = {}\n",
    "    cats = sorted(set(df[category]))\n",
    "    for cat in cats:\n",
    "        print (cat)\n",
    "        #This can take a while\n",
    "        print(\"Embedding {}\".format(cat), end = '\\r')\n",
    "        subsetDF = df[df[category] == cat]\n",
    "        #You might want to change the W2V parameters\n",
    "        embeddings_raw[cat] = gensim.models.word2vec.Word2Vec(subsetDF[text_column_name].sum())\n",
    "    return embeddings_raw"
   ]
  },
  {
   "cell_type": "markdown",
   "metadata": {},
   "source": [
    "Now we generate the models:"
   ]
  },
  {
   "cell_type": "code",
   "execution_count": null,
   "metadata": {},
   "outputs": [],
   "source": [
    "rawEmbeddings, comparedEmbeddings = compareModels(ascoDF, 'Year')"
   ]
  },
  {
   "cell_type": "code",
   "execution_count": null,
   "metadata": {},
   "outputs": [],
   "source": [
    "rawEmbeddings.keys()"
   ]
  },
  {
   "cell_type": "markdown",
   "metadata": {},
   "source": [
    "We need to compare them across all permutions so we will define another function to help, we will be using 1 - cosine similarity as that gives a more intitive range of 0-2 with low values meaning little change and high meaning lots of change."
   ]
  },
  {
   "cell_type": "code",
   "execution_count": null,
   "metadata": {},
   "outputs": [],
   "source": [
    "def getDivergenceDF(word, embeddingsDict):\n",
    "    dists = []\n",
    "    cats = sorted(set(embeddingsDict.keys()))\n",
    "    dists = {}\n",
    "    print(word)\n",
    "    for cat in cats:\n",
    "        dists[cat] = []\n",
    "        for embed in embeddingsDict[cat][1:]:\n",
    "            dists[cat].append(np.abs(1 - sklearn.metrics.pairwise.cosine_similarity(np.expand_dims(embeddingsDict[cat][0][word], axis = 0),\n",
    "                                                                             np.expand_dims(embed[word], axis = 0))[0,0]))\n",
    "    return pandas.DataFrame(dists, index = cats)"
   ]
  },
  {
   "cell_type": "markdown",
   "metadata": {},
   "source": [
    "Lets look at a couple words:"
   ]
  },
  {
   "cell_type": "code",
   "execution_count": null,
   "metadata": {},
   "outputs": [],
   "source": [
    "targetWord = 'breast'\n",
    "\n",
    "pltDF = getDivergenceDF(targetWord, comparedEmbeddings)\n",
    "fig, ax = plt.subplots(figsize = (10, 7))\n",
    "seaborn.heatmap(pltDF, ax = ax, annot = False) #set annot True for a lot more information\n",
    "ax.set_xlabel(\"Starting year\")\n",
    "ax.set_ylabel(\"Final year\")\n",
    "ax.set_ylabel(\"Final year\")\n",
    "ax.set_title(\"Yearly linguistic change for: '{}'\".format(targetWord))\n",
    "plt.show()"
   ]
  },
  {
   "cell_type": "code",
   "execution_count": null,
   "metadata": {},
   "outputs": [],
   "source": [
    "targetWord = 'combination'\n",
    "\n",
    "pltDF = getDivergenceDF(targetWord, comparedEmbeddings)\n",
    "fig, ax = plt.subplots(figsize = (10, 7))\n",
    "seaborn.heatmap(pltDF, ax = ax, annot = False) #set annot True for a lot more information\n",
    "ax.set_xlabel(\"Starting year\")\n",
    "ax.set_ylabel(\"Final year\")\n",
    "ax.set_ylabel(\"Final year\")\n",
    "ax.set_title(\"Yearly linguistic change for: '{}'\".format(targetWord))\n",
    "plt.show()"
   ]
  },
  {
   "cell_type": "code",
   "execution_count": null,
   "metadata": {},
   "outputs": [],
   "source": [
    "def findDiverence(word, embeddingsDict):\n",
    "    cats = sorted(set(embeddingsDict.keys()))\n",
    "    \n",
    "    dists = []\n",
    "    for embed in embeddingsDict[cats[0]][1:]:\n",
    "        dists.append(1 - sklearn.metrics.pairwise.cosine_similarity(np.expand_dims(embeddingsDict[cats[0]][0][word], axis = 0), np.expand_dims(embed[word], axis = 0))[0,0])\n",
    "    return sum(dists)\n",
    "\n",
    "def findMostDivergent(embeddingsDict):\n",
    "    words = []\n",
    "    for embeds in embeddingsDict.values():\n",
    "        for embed in embeds:\n",
    "            words += list(embed.wv.vocab.keys())\n",
    "    words = set(words)\n",
    "    print(\"Found {} words to compare\".format(len(words)))\n",
    "    return sorted([(w, findDiverence(w, embeddingsDict)) for w in words], key = lambda x: x[1], reverse=True)\n",
    "    "
   ]
  },
  {
   "cell_type": "code",
   "execution_count": null,
   "metadata": {},
   "outputs": [],
   "source": [
    "wordDivergences = findMostDivergent(comparedEmbeddings)"
   ]
  },
  {
   "cell_type": "markdown",
   "metadata": {},
   "source": [
    "The most divergent words are:"
   ]
  },
  {
   "cell_type": "code",
   "execution_count": null,
   "metadata": {},
   "outputs": [],
   "source": [
    "wordDivergences[:20]"
   ]
  },
  {
   "cell_type": "markdown",
   "metadata": {},
   "source": [
    "And the least:"
   ]
  },
  {
   "cell_type": "code",
   "execution_count": null,
   "metadata": {},
   "outputs": [],
   "source": [
    "wordDivergences[-20:]"
   ]
  },
  {
   "cell_type": "code",
   "execution_count": null,
   "metadata": {},
   "outputs": [],
   "source": [
    "targetWord = wordDivergences[0][0]\n",
    "\n",
    "pltDF = getDivergenceDF(targetWord, comparedEmbeddings)\n",
    "fig, ax = plt.subplots(figsize = (10, 7))\n",
    "seaborn.heatmap(pltDF, ax = ax, annot = False) #set annot True for a lot more information\n",
    "ax.set_xlabel(\"Starting year\")\n",
    "ax.set_ylabel(\"Final year\")\n",
    "ax.set_ylabel(\"Final year\")\n",
    "ax.set_title(\"Yearly linguistic change for: '{}'\".format(targetWord))\n",
    "plt.show()"
   ]
  },
  {
   "cell_type": "code",
   "execution_count": null,
   "metadata": {},
   "outputs": [],
   "source": [
    "targetWord = wordDivergences[-1][0]\n",
    "\n",
    "pltDF = getDivergenceDF(targetWord, comparedEmbeddings)\n",
    "fig, ax = plt.subplots(figsize = (10, 7))\n",
    "seaborn.heatmap(pltDF, ax = ax, annot = False) #set annot True for a lot more information\n",
    "ax.set_xlabel(\"Starting year\")\n",
    "ax.set_ylabel(\"Final year\")\n",
    "ax.set_ylabel(\"Final year\")\n",
    "ax.set_title(\"Yearly linguistic change for: '{}'\".format(targetWord))\n",
    "plt.show()"
   ]
  },
  {
   "cell_type": "markdown",
   "metadata": {},
   "source": [
    "## <span style=\"color:red\">*Exercise 4b*</span>\n",
    "\n",
    "<span style=\"color:red\">**Do only 4a or 4b.** Construct cells immediately below this that align word embeddings over time or across domains/corpora. Interrogate the spaces that result and ask which words changed most and least over the entire period or between contexts/corpora. What does this reveal about the social game underlying your space? "
   ]
  },
  {
   "cell_type": "markdown",
   "metadata": {},
   "source": [
    "I used the COHA corpus, because I was interested in the trajectory of words during three periods (the period from 1870 to 1945), (1945 to 74) and beyond. The reason for this split is, as Robert J. Gordon outlines in his book, \"The rise and fall of American growth\", 1870 was the beginning of a century that transformed American economy. I split this into two parts, the pre WW2 and the post WW2 time. I then make a split at 1974 when the american economy stopped growing for the working class. I thought this time split this way will lend itself to a reasonable introspection of political terms. "
   ]
  },
  {
   "cell_type": "code",
   "execution_count": 22,
   "metadata": {},
   "outputs": [],
   "source": [
    "corpora_address = \"./COHA\""
   ]
  },
  {
   "cell_type": "code",
   "execution_count": 23,
   "metadata": {},
   "outputs": [
    {
     "name": "stdout",
     "output_type": "stream",
     "text": [
      "text_1830s_bsu.zip\n",
      "text_1810s_kso.zip\n",
      "text_1930s_bie.zip\n",
      "text_1990s_bsj.zip\n",
      "text_1890s_jsq.zip\n",
      "text_1850s_jpr.zip\n",
      "text_1870s_vuy.zip\n",
      "text_1980s_bkk.zip\n",
      "text_1840s_nsq.zip\n",
      "text_1900s_mse.zip\n",
      "text_1970s_jfy.zip\n",
      "text_1820s_jsi.zip\n",
      "text_1960s_xus.zip\n",
      "text_1910s_jue.zip\n",
      "text_1920s_gte.zip\n",
      "text_1880s_azz.zip\n",
      "text_1950s_ndz.zip\n",
      "text_1940s_bsw.zip\n",
      "text_2000s_scc.zip\n",
      "text_1860s_psi.zip\n"
     ]
    }
   ],
   "source": [
    "coha_texts = lucem_illud_2020.loadDavies(corpora_address, return_raw=True)"
   ]
  },
  {
   "cell_type": "markdown",
   "metadata": {},
   "source": [
    "I include the codeblock below to show the loading of the embeddings given in the HW don't work since the pickle version used to save the embeddings are different from the pickle version on RCC, so I had to create my own Embeddings."
   ]
  },
  {
   "cell_type": "code",
   "execution_count": 116,
   "metadata": {},
   "outputs": [
    {
     "ename": "ModuleNotFoundError",
     "evalue": "No module named 'numpy.random._pickle'",
     "output_type": "error",
     "traceback": [
      "\u001b[0;31m---------------------------------------------------------------------------\u001b[0m",
      "\u001b[0;31mModuleNotFoundError\u001b[0m                       Traceback (most recent call last)",
      "\u001b[0;32m<ipython-input-116-d6c17887ac2b>\u001b[0m in \u001b[0;36m<module>\u001b[0;34m\u001b[0m\n\u001b[0;32m----> 1\u001b[0;31m \u001b[0moriginal_rawEmbeddings_epoch_load\u001b[0m \u001b[0;34m=\u001b[0m \u001b[0mfile_to_original_embeddings\u001b[0m\u001b[0;34m(\u001b[0m\u001b[0;34m\".\"\u001b[0m\u001b[0;34m,\u001b[0m \u001b[0;34m\"epoch\"\u001b[0m\u001b[0;34m)\u001b[0m\u001b[0;34m\u001b[0m\u001b[0;34m\u001b[0m\u001b[0m\n\u001b[0m",
      "\u001b[0;32m<ipython-input-112-851c2ae9b699>\u001b[0m in \u001b[0;36mfile_to_original_embeddings\u001b[0;34m(address, kind)\u001b[0m\n\u001b[1;32m      5\u001b[0m             \u001b[0me\u001b[0m\u001b[0;34m,\u001b[0m \u001b[0mkind_\u001b[0m\u001b[0;34m,\u001b[0m \u001b[0mkind_type\u001b[0m \u001b[0;34m=\u001b[0m \u001b[0mfile\u001b[0m\u001b[0;34m.\u001b[0m\u001b[0msplit\u001b[0m\u001b[0;34m(\u001b[0m\u001b[0;34m\"_\"\u001b[0m\u001b[0;34m)\u001b[0m\u001b[0;34m\u001b[0m\u001b[0;34m\u001b[0m\u001b[0m\n\u001b[1;32m      6\u001b[0m             \u001b[0mkind_type\u001b[0m \u001b[0;34m=\u001b[0m \u001b[0meval\u001b[0m\u001b[0;34m(\u001b[0m\u001b[0mkind_type\u001b[0m\u001b[0;34m)\u001b[0m\u001b[0;34m\u001b[0m\u001b[0;34m\u001b[0m\u001b[0m\n\u001b[0;32m----> 7\u001b[0;31m             \u001b[0mrawEmbeddings\u001b[0m\u001b[0;34m[\u001b[0m\u001b[0mkind_type\u001b[0m\u001b[0;34m]\u001b[0m \u001b[0;34m=\u001b[0m \u001b[0mWord2Vec\u001b[0m\u001b[0;34m.\u001b[0m\u001b[0mload\u001b[0m\u001b[0;34m(\u001b[0m\u001b[0mfile\u001b[0m\u001b[0;34m)\u001b[0m\u001b[0;34m\u001b[0m\u001b[0;34m\u001b[0m\u001b[0m\n\u001b[0m\u001b[1;32m      8\u001b[0m     \u001b[0;32mreturn\u001b[0m \u001b[0mrawEmbeddings\u001b[0m\u001b[0;34m\u001b[0m\u001b[0;34m\u001b[0m\u001b[0m\n",
      "\u001b[0;32m/software/Anaconda3-5.3.0-el7-x86_64/lib/python3.6/site-packages/gensim/models/word2vec.py\u001b[0m in \u001b[0;36mload\u001b[0;34m(cls, *args, **kwargs)\u001b[0m\n\u001b[1;32m    973\u001b[0m         \"\"\"\n\u001b[1;32m    974\u001b[0m         \u001b[0;32mtry\u001b[0m\u001b[0;34m:\u001b[0m\u001b[0;34m\u001b[0m\u001b[0;34m\u001b[0m\u001b[0m\n\u001b[0;32m--> 975\u001b[0;31m             \u001b[0;32mreturn\u001b[0m \u001b[0msuper\u001b[0m\u001b[0;34m(\u001b[0m\u001b[0mWord2Vec\u001b[0m\u001b[0;34m,\u001b[0m \u001b[0mcls\u001b[0m\u001b[0;34m)\u001b[0m\u001b[0;34m.\u001b[0m\u001b[0mload\u001b[0m\u001b[0;34m(\u001b[0m\u001b[0;34m*\u001b[0m\u001b[0margs\u001b[0m\u001b[0;34m,\u001b[0m \u001b[0;34m**\u001b[0m\u001b[0mkwargs\u001b[0m\u001b[0;34m)\u001b[0m\u001b[0;34m\u001b[0m\u001b[0;34m\u001b[0m\u001b[0m\n\u001b[0m\u001b[1;32m    976\u001b[0m         \u001b[0;32mexcept\u001b[0m \u001b[0mAttributeError\u001b[0m\u001b[0;34m:\u001b[0m\u001b[0;34m\u001b[0m\u001b[0;34m\u001b[0m\u001b[0m\n\u001b[1;32m    977\u001b[0m             \u001b[0mlogger\u001b[0m\u001b[0;34m.\u001b[0m\u001b[0minfo\u001b[0m\u001b[0;34m(\u001b[0m\u001b[0;34m'Model saved using code from earlier Gensim Version. Re-loading old model in a compatible way.'\u001b[0m\u001b[0;34m)\u001b[0m\u001b[0;34m\u001b[0m\u001b[0;34m\u001b[0m\u001b[0m\n",
      "\u001b[0;32m/software/Anaconda3-5.3.0-el7-x86_64/lib/python3.6/site-packages/gensim/models/base_any2vec.py\u001b[0m in \u001b[0;36mload\u001b[0;34m(cls, *args, **kwargs)\u001b[0m\n\u001b[1;32m    627\u001b[0m     \u001b[0;34m@\u001b[0m\u001b[0mclassmethod\u001b[0m\u001b[0;34m\u001b[0m\u001b[0;34m\u001b[0m\u001b[0m\n\u001b[1;32m    628\u001b[0m     \u001b[0;32mdef\u001b[0m \u001b[0mload\u001b[0m\u001b[0;34m(\u001b[0m\u001b[0mcls\u001b[0m\u001b[0;34m,\u001b[0m \u001b[0;34m*\u001b[0m\u001b[0margs\u001b[0m\u001b[0;34m,\u001b[0m \u001b[0;34m**\u001b[0m\u001b[0mkwargs\u001b[0m\u001b[0;34m)\u001b[0m\u001b[0;34m:\u001b[0m\u001b[0;34m\u001b[0m\u001b[0;34m\u001b[0m\u001b[0m\n\u001b[0;32m--> 629\u001b[0;31m         \u001b[0mmodel\u001b[0m \u001b[0;34m=\u001b[0m \u001b[0msuper\u001b[0m\u001b[0;34m(\u001b[0m\u001b[0mBaseWordEmbeddingsModel\u001b[0m\u001b[0;34m,\u001b[0m \u001b[0mcls\u001b[0m\u001b[0;34m)\u001b[0m\u001b[0;34m.\u001b[0m\u001b[0mload\u001b[0m\u001b[0;34m(\u001b[0m\u001b[0;34m*\u001b[0m\u001b[0margs\u001b[0m\u001b[0;34m,\u001b[0m \u001b[0;34m**\u001b[0m\u001b[0mkwargs\u001b[0m\u001b[0;34m)\u001b[0m\u001b[0;34m\u001b[0m\u001b[0;34m\u001b[0m\u001b[0m\n\u001b[0m\u001b[1;32m    630\u001b[0m         \u001b[0;32mif\u001b[0m \u001b[0mmodel\u001b[0m\u001b[0;34m.\u001b[0m\u001b[0mnegative\u001b[0m \u001b[0;32mand\u001b[0m \u001b[0mhasattr\u001b[0m\u001b[0;34m(\u001b[0m\u001b[0mmodel\u001b[0m\u001b[0;34m.\u001b[0m\u001b[0mwv\u001b[0m\u001b[0;34m,\u001b[0m \u001b[0;34m'index2word'\u001b[0m\u001b[0;34m)\u001b[0m\u001b[0;34m:\u001b[0m\u001b[0;34m\u001b[0m\u001b[0;34m\u001b[0m\u001b[0m\n\u001b[1;32m    631\u001b[0m             \u001b[0mmodel\u001b[0m\u001b[0;34m.\u001b[0m\u001b[0mvocabulary\u001b[0m\u001b[0;34m.\u001b[0m\u001b[0mmake_cum_table\u001b[0m\u001b[0;34m(\u001b[0m\u001b[0mmodel\u001b[0m\u001b[0;34m.\u001b[0m\u001b[0mwv\u001b[0m\u001b[0;34m)\u001b[0m  \u001b[0;31m# rebuild cum_table from vocabulary\u001b[0m\u001b[0;34m\u001b[0m\u001b[0;34m\u001b[0m\u001b[0m\n",
      "\u001b[0;32m/software/Anaconda3-5.3.0-el7-x86_64/lib/python3.6/site-packages/gensim/models/base_any2vec.py\u001b[0m in \u001b[0;36mload\u001b[0;34m(cls, fname_or_handle, **kwargs)\u001b[0m\n\u001b[1;32m    276\u001b[0m     \u001b[0;34m@\u001b[0m\u001b[0mclassmethod\u001b[0m\u001b[0;34m\u001b[0m\u001b[0;34m\u001b[0m\u001b[0m\n\u001b[1;32m    277\u001b[0m     \u001b[0;32mdef\u001b[0m \u001b[0mload\u001b[0m\u001b[0;34m(\u001b[0m\u001b[0mcls\u001b[0m\u001b[0;34m,\u001b[0m \u001b[0mfname_or_handle\u001b[0m\u001b[0;34m,\u001b[0m \u001b[0;34m**\u001b[0m\u001b[0mkwargs\u001b[0m\u001b[0;34m)\u001b[0m\u001b[0;34m:\u001b[0m\u001b[0;34m\u001b[0m\u001b[0;34m\u001b[0m\u001b[0m\n\u001b[0;32m--> 278\u001b[0;31m         \u001b[0;32mreturn\u001b[0m \u001b[0msuper\u001b[0m\u001b[0;34m(\u001b[0m\u001b[0mBaseAny2VecModel\u001b[0m\u001b[0;34m,\u001b[0m \u001b[0mcls\u001b[0m\u001b[0;34m)\u001b[0m\u001b[0;34m.\u001b[0m\u001b[0mload\u001b[0m\u001b[0;34m(\u001b[0m\u001b[0mfname_or_handle\u001b[0m\u001b[0;34m,\u001b[0m \u001b[0;34m**\u001b[0m\u001b[0mkwargs\u001b[0m\u001b[0;34m)\u001b[0m\u001b[0;34m\u001b[0m\u001b[0;34m\u001b[0m\u001b[0m\n\u001b[0m\u001b[1;32m    279\u001b[0m \u001b[0;34m\u001b[0m\u001b[0m\n\u001b[1;32m    280\u001b[0m     \u001b[0;32mdef\u001b[0m \u001b[0msave\u001b[0m\u001b[0;34m(\u001b[0m\u001b[0mself\u001b[0m\u001b[0;34m,\u001b[0m \u001b[0mfname_or_handle\u001b[0m\u001b[0;34m,\u001b[0m \u001b[0;34m**\u001b[0m\u001b[0mkwargs\u001b[0m\u001b[0;34m)\u001b[0m\u001b[0;34m:\u001b[0m\u001b[0;34m\u001b[0m\u001b[0;34m\u001b[0m\u001b[0m\n",
      "\u001b[0;32m/software/Anaconda3-5.3.0-el7-x86_64/lib/python3.6/site-packages/gensim/utils.py\u001b[0m in \u001b[0;36mload\u001b[0;34m(cls, fname, mmap)\u001b[0m\n\u001b[1;32m    423\u001b[0m         \u001b[0mcompress\u001b[0m\u001b[0;34m,\u001b[0m \u001b[0msubname\u001b[0m \u001b[0;34m=\u001b[0m \u001b[0mSaveLoad\u001b[0m\u001b[0;34m.\u001b[0m\u001b[0m_adapt_by_suffix\u001b[0m\u001b[0;34m(\u001b[0m\u001b[0mfname\u001b[0m\u001b[0;34m)\u001b[0m\u001b[0;34m\u001b[0m\u001b[0;34m\u001b[0m\u001b[0m\n\u001b[1;32m    424\u001b[0m \u001b[0;34m\u001b[0m\u001b[0m\n\u001b[0;32m--> 425\u001b[0;31m         \u001b[0mobj\u001b[0m \u001b[0;34m=\u001b[0m \u001b[0munpickle\u001b[0m\u001b[0;34m(\u001b[0m\u001b[0mfname\u001b[0m\u001b[0;34m)\u001b[0m\u001b[0;34m\u001b[0m\u001b[0;34m\u001b[0m\u001b[0m\n\u001b[0m\u001b[1;32m    426\u001b[0m         \u001b[0mobj\u001b[0m\u001b[0;34m.\u001b[0m\u001b[0m_load_specials\u001b[0m\u001b[0;34m(\u001b[0m\u001b[0mfname\u001b[0m\u001b[0;34m,\u001b[0m \u001b[0mmmap\u001b[0m\u001b[0;34m,\u001b[0m \u001b[0mcompress\u001b[0m\u001b[0;34m,\u001b[0m \u001b[0msubname\u001b[0m\u001b[0;34m)\u001b[0m\u001b[0;34m\u001b[0m\u001b[0;34m\u001b[0m\u001b[0m\n\u001b[1;32m    427\u001b[0m         \u001b[0mlogger\u001b[0m\u001b[0;34m.\u001b[0m\u001b[0minfo\u001b[0m\u001b[0;34m(\u001b[0m\u001b[0;34m\"loaded %s\"\u001b[0m\u001b[0;34m,\u001b[0m \u001b[0mfname\u001b[0m\u001b[0;34m)\u001b[0m\u001b[0;34m\u001b[0m\u001b[0;34m\u001b[0m\u001b[0m\n",
      "\u001b[0;32m/software/Anaconda3-5.3.0-el7-x86_64/lib/python3.6/site-packages/gensim/utils.py\u001b[0m in \u001b[0;36munpickle\u001b[0;34m(fname)\u001b[0m\n\u001b[1;32m   1330\u001b[0m         \u001b[0;31m# Because of loading from S3 load can't be used (missing readline in smart_open)\u001b[0m\u001b[0;34m\u001b[0m\u001b[0;34m\u001b[0m\u001b[0;34m\u001b[0m\u001b[0m\n\u001b[1;32m   1331\u001b[0m         \u001b[0;32mif\u001b[0m \u001b[0msys\u001b[0m\u001b[0;34m.\u001b[0m\u001b[0mversion_info\u001b[0m \u001b[0;34m>\u001b[0m \u001b[0;34m(\u001b[0m\u001b[0;36m3\u001b[0m\u001b[0;34m,\u001b[0m \u001b[0;36m0\u001b[0m\u001b[0;34m)\u001b[0m\u001b[0;34m:\u001b[0m\u001b[0;34m\u001b[0m\u001b[0;34m\u001b[0m\u001b[0m\n\u001b[0;32m-> 1332\u001b[0;31m             \u001b[0;32mreturn\u001b[0m \u001b[0m_pickle\u001b[0m\u001b[0;34m.\u001b[0m\u001b[0mload\u001b[0m\u001b[0;34m(\u001b[0m\u001b[0mf\u001b[0m\u001b[0;34m,\u001b[0m \u001b[0mencoding\u001b[0m\u001b[0;34m=\u001b[0m\u001b[0;34m'latin1'\u001b[0m\u001b[0;34m)\u001b[0m\u001b[0;34m\u001b[0m\u001b[0;34m\u001b[0m\u001b[0m\n\u001b[0m\u001b[1;32m   1333\u001b[0m         \u001b[0;32melse\u001b[0m\u001b[0;34m:\u001b[0m\u001b[0;34m\u001b[0m\u001b[0;34m\u001b[0m\u001b[0m\n\u001b[1;32m   1334\u001b[0m             \u001b[0;32mreturn\u001b[0m \u001b[0m_pickle\u001b[0m\u001b[0;34m.\u001b[0m\u001b[0mloads\u001b[0m\u001b[0;34m(\u001b[0m\u001b[0mf\u001b[0m\u001b[0;34m.\u001b[0m\u001b[0mread\u001b[0m\u001b[0;34m(\u001b[0m\u001b[0;34m)\u001b[0m\u001b[0;34m)\u001b[0m\u001b[0;34m\u001b[0m\u001b[0;34m\u001b[0m\u001b[0m\n",
      "\u001b[0;31mModuleNotFoundError\u001b[0m: No module named 'numpy.random._pickle'"
     ]
    }
   ],
   "source": [
    "original_rawEmbeddings_epoch_load = file_to_original_embeddings(\".\", \"epoch\")"
   ]
  },
  {
   "cell_type": "markdown",
   "metadata": {},
   "source": [
    "I decided to sample documents at random since the number of documents was too high to process in whole."
   ]
  },
  {
   "cell_type": "code",
   "execution_count": 25,
   "metadata": {},
   "outputs": [],
   "source": [
    "import random\n",
    "random.seed(13)\n",
    "n_articles=5000\n",
    "subset_keys = random.sample(list(coha_texts.keys()), n_articles)\n"
   ]
  },
  {
   "cell_type": "markdown",
   "metadata": {},
   "source": [
    "I corrected the errors in the original code to tokenize/normalize sentences which is what the w2v model takes in."
   ]
  },
  {
   "cell_type": "code",
   "execution_count": null,
   "metadata": {},
   "outputs": [],
   "source": [
    "coha_df = pandas.DataFrame(columns=[\"Year\", \"Genre\", \"Epoch\", \"normalized sents\"])\n",
    "i=0\n",
    "#print (\"Processing epoch\", 1)\n",
    "for article in subset_keys:\n",
    "    genre, year, id_ = article.split(\"_\")\n",
    "    \n",
    "    i+=1\n",
    "    year = int(year)\n",
    "    \n",
    "    if (year<1870):\n",
    "        continue\n",
    "    \n",
    "    if year >= 1870 and year < 1945:\n",
    "        epoch = 1\n",
    "    elif year >= 1945 and year < 1974:\n",
    "        epoch = 2\n",
    "    elif year >= 1974:\n",
    "        epoch = 3\n",
    "    #if (prev_epoch!=epoch):\n",
    "        #print(\"Processing epoch\", epoch)\n",
    "    #if (prev_year!=year):\n",
    "        #print(\"Year\", year)   \n",
    "    if ((i%50)==0):   \n",
    "        print(\"Article: \", i, \"of \", n_articles)\n",
    "    try:\n",
    "        if len(coha_texts[article][2]) < 1500000 and (year>=1870):\n",
    "            #Apply our functions, notice each row is a list of lists now\n",
    "            token_sents = [lucem_illud_2020.word_tokenize(s) for s in lucem_illud_2020.sent_tokenize(coha_texts[article][2].decode(\"utf-8\"))]\n",
    "            normalized_sents = [lucem_illud_2020.normalizeTokens(s, lemma=False) for s in token_sents]\n",
    "            coha_df.loc[id_] = [year, genre, epoch, normalized_sents]\n",
    "    except TypeError:\n",
    "        print(\"TypeError\")\n",
    "        continue\n",
    "    except IndexError:\n",
    "        print(\"IndexError\")\n",
    "        continue\n",
    "    "
   ]
  },
  {
   "cell_type": "code",
   "execution_count": null,
   "metadata": {},
   "outputs": [],
   "source": [
    "#Saving the corpus so that it's easier to load later\n",
    "newsDF.to_pickle(\"./cohaDF.pkl\")"
   ]
  },
  {
   "cell_type": "markdown",
   "metadata": {},
   "source": [
    "We can now arrange our word embeddings by either year, genre, or epoch, and see how the words in each of those contexts change."
   ]
  },
  {
   "cell_type": "code",
   "execution_count": null,
   "metadata": {},
   "outputs": [],
   "source": [
    "rawEmbeddings_epoch = rawModels(coha_df, 'Epoch', text_column_name='normalized sents')"
   ]
  },
  {
   "cell_type": "code",
   "execution_count": null,
   "metadata": {},
   "outputs": [],
   "source": [
    "# rawEmbeddings_genre = rawModels(coha_df, 'Genre', text_column_name='normalized sents')"
   ]
  },
  {
   "cell_type": "markdown",
   "metadata": {},
   "source": [
    "We now have the raw embeddings for epoch and genre. You can test out the previous analysis on words of your choice."
   ]
  },
  {
   "cell_type": "code",
   "execution_count": null,
   "metadata": {},
   "outputs": [],
   "source": [
    "for epoch, embedding in enumerate(rawEmbeddings_epoch):\n",
    "    model = rawEmbeddings_epoch[embedding]\n",
    "    name = \"embedding_epoch_\" + str(epoch+1)\n",
    "    model.save(name)"
   ]
  },
  {
   "cell_type": "code",
   "execution_count": null,
   "metadata": {},
   "outputs": [],
   "source": [
    "rawEmbeddings_epoch.keys()"
   ]
  },
  {
   "cell_type": "code",
   "execution_count": 117,
   "metadata": {},
   "outputs": [],
   "source": [
    "with open('RawEmbeddings.pickle', 'wb') as handle:\n",
    "    pickle.dump(rawEmbeddings_epoch, handle, protocol=pickle.HIGHEST_PROTOCOL)\n",
    "\n",
    "with open('RawEmbeddings.pickle', 'rb') as handle:\n",
    "     rawEmbeddings_epoch= pickle.load(handle)"
   ]
  },
  {
   "cell_type": "code",
   "execution_count": null,
   "metadata": {},
   "outputs": [],
   "source": [
    "# for embedding in rawEmbeddings_genre:\n",
    "#     model = rawEmbeddings_genre[embedding]\n",
    "#     name = \"embedding_genre_\" + embedding\n",
    "#     model.save(name)"
   ]
  },
  {
   "cell_type": "code",
   "execution_count": null,
   "metadata": {},
   "outputs": [],
   "source": [
    "from gensim.models import Word2Vec"
   ]
  },
  {
   "cell_type": "code",
   "execution_count": 14,
   "metadata": {},
   "outputs": [],
   "source": [
    "def file_to_embeddings(address, kind):\n",
    "    rawEmbeddings = {}\n",
    "    for file in os.listdir(address):\n",
    "        if \"embedding_\"+kind in file:\n",
    "            e, kind_, kind_type = file.split(\"_\")\n",
    "            kind_type = eval(kind_type)\n",
    "            rawEmbeddings[kind_type] = gensim.models.word2vec.Word2Vec.load(file)\n",
    "    return rawEmbeddings"
   ]
  },
  {
   "cell_type": "code",
   "execution_count": 112,
   "metadata": {},
   "outputs": [],
   "source": [
    "def file_to_original_embeddings(address, kind):\n",
    "    rawEmbeddings = {}\n",
    "    for file in os.listdir(address):\n",
    "        if \"embeddingo_\"+kind in file:\n",
    "            e, kind_, kind_type = file.split(\"_\")\n",
    "            kind_type = eval(kind_type)\n",
    "            rawEmbeddings[kind_type] = Word2Vec.load(file)\n",
    "    return rawEmbeddings"
   ]
  },
  {
   "cell_type": "code",
   "execution_count": 16,
   "metadata": {},
   "outputs": [],
   "source": [
    "rawEmbeddings_epoch_load = file_to_embeddings(\".\", \"epoch\")"
   ]
  },
  {
   "cell_type": "code",
   "execution_count": null,
   "metadata": {},
   "outputs": [],
   "source": [
    "rawEmbeddings_epoch, compared_epoch = compareModels(coha_df, 'Epoch', text_column_name='normalized sents', embeddings_raw=rawEmbeddings_epoch_load)"
   ]
  },
  {
   "cell_type": "code",
   "execution_count": null,
   "metadata": {},
   "outputs": [],
   "source": [
    "# rawEmbeddings_genre, compared_genre = compareModels(coha_df, 'Genre', text_column_name='normalized sents', embeddings_raw=rawEmbeddings_genre_load)"
   ]
  },
  {
   "cell_type": "code",
   "execution_count": null,
   "metadata": {},
   "outputs": [],
   "source": [
    "#Find the most divergent words\n",
    "wordDivergences = findMostDivergent(compared_epoch)"
   ]
  },
  {
   "cell_type": "code",
   "execution_count": 92,
   "metadata": {},
   "outputs": [
    {
     "data": {
      "text/plain": [
       "[('israel', 2.233654223382473),\n",
       " ('s', 1.7662663757801056),\n",
       " ('lovell', 1.6561808735132217),\n",
       " ('t', 1.5552900731563568),\n",
       " ('wharton', 1.5071788132190704),\n",
       " ('williamson', 1.436507523059845),\n",
       " ('bert', 1.4121887385845184),\n",
       " ('ruth', 1.3612160682678223),\n",
       " ('book', 1.360591098666191),\n",
       " ('haven', 1.358679622411728),\n",
       " ('d', 1.3573620319366455),\n",
       " ('figure', 1.352883979678154),\n",
       " ('takes', 1.349026471376419),\n",
       " ('o', 1.3443649113178253),\n",
       " ('mrs', 1.342719942331314),\n",
       " ('great', 1.326803833246231),\n",
       " ('suit', 1.3110176622867584),\n",
       " ('duke', 1.309838205575943),\n",
       " ('david', 1.3063606321811676),\n",
       " ('new', 1.2959939539432526),\n",
       " ('prince', 1.2954888939857483),\n",
       " ('ito', 1.290746659040451),\n",
       " ('title', 1.289797306060791),\n",
       " ('keller', 1.2823844850063324),\n",
       " ('gave', 1.2789965569972992),\n",
       " ('shall', 1.2713885754346848),\n",
       " ('mr', 1.2710423097014427),\n",
       " ('brand', 1.2613412141799927),\n",
       " ('gentleman', 1.2571472823619843),\n",
       " ('took', 1.2455247640609741),\n",
       " ('de', 1.2428947985172272),\n",
       " ('reading', 1.2403151392936707),\n",
       " ('brought', 1.235236018896103),\n",
       " ('n', 1.2351523041725159),\n",
       " ('room', 1.2344685792922974),\n",
       " ('kaufman', 1.2272081077098846),\n",
       " ('wade', 1.2261032164096832),\n",
       " ('norman', 1.2250511348247528),\n",
       " ('high', 1.2178027518093586),\n",
       " ('mary', 1.209177553653717)]"
      ]
     },
     "execution_count": 92,
     "metadata": {},
     "output_type": "execute_result"
    }
   ],
   "source": [
    "wordDivergences[:40]"
   ]
  },
  {
   "cell_type": "markdown",
   "metadata": {},
   "source": [
    "As stated above, I am interested in the words that are related to American economic life and their trajectory but I will also explore Israel whose changing trajectory is perhaps reflective of its relatively recent creation as a state."
   ]
  },
  {
   "cell_type": "code",
   "execution_count": 93,
   "metadata": {},
   "outputs": [
    {
     "name": "stdout",
     "output_type": "stream",
     "text": [
      "israel\n"
     ]
    },
    {
     "data": {
      "image/png": "[encoded data removed]",
      "text/plain": [
       "<Figure size 720x504 with 2 Axes>"
      ]
     },
     "metadata": {
      "needs_background": "light"
     },
     "output_type": "display_data"
    }
   ],
   "source": [
    "targetWord = 'israel'\n",
    "\n",
    "pltDF = getDivergenceDF(targetWord, compared_epoch)\n",
    "fig, ax = plt.subplots(figsize = (10, 7))\n",
    "seaborn.heatmap(pltDF, ax = ax, annot = False) #set annot True for a lot more information\n",
    "ax.set_xlabel(\"Starting Epoch\")\n",
    "ax.set_ylabel(\"Final Epoch\")\n",
    "ax.set_title(\"Yearly linguistic change for: '{}'\".format(targetWord))\n",
    "plt.show()"
   ]
  },
  {
   "cell_type": "code",
   "execution_count": 32,
   "metadata": {},
   "outputs": [
    {
     "data": {
      "text/plain": [
       "[('host', 0.8635767698287964),\n",
       " ('sam', 0.8633328676223755),\n",
       " ('anxiously', 0.8629122972488403),\n",
       " ('quietly', 0.858458936214447),\n",
       " ('impatiently', 0.8548005819320679)]"
      ]
     },
     "execution_count": 32,
     "metadata": {},
     "output_type": "execute_result"
    }
   ],
   "source": [
    "d1=rawEmbeddings_epoch_load[1]\n",
    "d1.most_similar(['israel'])[:5]"
   ]
  },
  {
   "cell_type": "code",
   "execution_count": 40,
   "metadata": {},
   "outputs": [
    {
     "data": {
      "text/plain": [
       "[('ratify', 0.9869929552078247),\n",
       " ('treaty', 0.9858265519142151),\n",
       " ('italy', 0.9853824377059937),\n",
       " ('negotiations', 0.9832497239112854),\n",
       " ('nato', 0.9825923442840576)]"
      ]
     },
     "execution_count": 40,
     "metadata": {},
     "output_type": "execute_result"
    }
   ],
   "source": [
    "d2=rawEmbeddings_epoch_load[2]\n",
    "d2.most_similar(['israel'])[:5]"
   ]
  },
  {
   "cell_type": "code",
   "execution_count": 41,
   "metadata": {},
   "outputs": [
    {
     "data": {
      "text/plain": [
       "[('communist', 0.9745593070983887),\n",
       " ('nation', 0.9656575918197632),\n",
       " ('iran', 0.9646111726760864),\n",
       " ('independent', 0.9627575874328613),\n",
       " ('union', 0.9594548940658569)]"
      ]
     },
     "execution_count": 41,
     "metadata": {},
     "output_type": "execute_result"
    }
   ],
   "source": [
    "d3=rawEmbeddings_epoch_load[3]\n",
    "d3.most_similar(['israel'])[:5]"
   ]
  },
  {
   "cell_type": "markdown",
   "metadata": {},
   "source": [
    "We see from the graph that the most change is from epoch 1 to epoch 2(before and during creation of the state). Looking at how the word associations change, we get that 'israel' took on its political use in this corpus from the second epoch onwards. This might indicate that the politicalization of a state's name increases as it comes closer to attaining statehood but doesn't change much after the fact."
   ]
  },
  {
   "cell_type": "code",
   "execution_count": 98,
   "metadata": {},
   "outputs": [
    {
     "name": "stdout",
     "output_type": "stream",
     "text": [
      "liberalism\n"
     ]
    },
    {
     "data": {
      "image/png": "[encoded data removed]",
      "text/plain": [
       "<Figure size 720x504 with 2 Axes>"
      ]
     },
     "metadata": {
      "needs_background": "light"
     },
     "output_type": "display_data"
    }
   ],
   "source": [
    "targetWord = 'liberalism'\n",
    "\n",
    "pltDF = getDivergenceDF(targetWord, compared_epoch)\n",
    "fig, ax = plt.subplots(figsize = (10, 7))\n",
    "seaborn.heatmap(pltDF, ax = ax, annot = False) #set annot True for a lot more information\n",
    "ax.set_xlabel(\"Starting Epoch\")\n",
    "ax.set_ylabel(\"Final Epoch\")\n",
    "ax.set_title(\"Yearly linguistic change for: '{}'\".format(targetWord))\n",
    "plt.show()"
   ]
  },
  {
   "cell_type": "code",
   "execution_count": 49,
   "metadata": {},
   "outputs": [
    {
     "data": {
      "text/plain": [
       "[('antagonism', 0.9764421582221985),\n",
       " ('endeavors', 0.9722557663917542),\n",
       " ('outweigh', 0.9708786010742188),\n",
       " ('radicalism', 0.969334602355957),\n",
       " ('remoteness', 0.9685097932815552),\n",
       " ('contradiction', 0.9676932692527771),\n",
       " ('repetition', 0.9674183130264282),\n",
       " ('confusing', 0.9670988321304321),\n",
       " ('idealistic', 0.9661967158317566),\n",
       " ('baffling', 0.9655587673187256)]"
      ]
     },
     "execution_count": 49,
     "metadata": {},
     "output_type": "execute_result"
    }
   ],
   "source": [
    "d1.most_similar(['liberalism'])[:10]"
   ]
  },
  {
   "cell_type": "code",
   "execution_count": 50,
   "metadata": {},
   "outputs": [
    {
     "data": {
      "text/plain": [
       "[('rebel', 0.9954395294189453),\n",
       " ('continuity', 0.9946475028991699),\n",
       " ('theology', 0.9945688247680664),\n",
       " ('adherent', 0.9944310188293457),\n",
       " ('crusader', 0.9943629503250122),\n",
       " ('merlin', 0.9938899874687195),\n",
       " ('histories', 0.9937558174133301),\n",
       " ('robinson', 0.9934170842170715),\n",
       " ('predecessor', 0.9933492541313171),\n",
       " ('unsatisfactory', 0.9931560754776001)]"
      ]
     },
     "execution_count": 50,
     "metadata": {},
     "output_type": "execute_result"
    }
   ],
   "source": [
    "d2.most_similar(['liberalism'])[:10]"
   ]
  },
  {
   "cell_type": "code",
   "execution_count": 51,
   "metadata": {},
   "outputs": [
    {
     "data": {
      "text/plain": [
       "[('systematic', 0.9943816661834717),\n",
       " ('focuses', 0.9940147399902344),\n",
       " ('vital', 0.9939244389533997),\n",
       " ('autonomy', 0.9936704039573669),\n",
       " ('mechanism', 0.9930646419525146),\n",
       " ('sufficiently', 0.9929953813552856),\n",
       " ('influences', 0.9929242730140686),\n",
       " ('ensuring', 0.9926134347915649),\n",
       " ('learners', 0.992457926273346),\n",
       " ('consistent', 0.9924157857894897)]"
      ]
     },
     "execution_count": 51,
     "metadata": {},
     "output_type": "execute_result"
    }
   ],
   "source": [
    "d3.most_similar(['liberalism'])[:10]"
   ]
  },
  {
   "cell_type": "markdown",
   "metadata": {},
   "source": [
    "From the graph, the most change occurs from the first to the second epoch. This makes sense too as, liberalism actualized in the early part of the 20th century in the United States and across the world as a coherent political ideology that can underpin nation states. Perhaps once an ideology actualizes, it's characteristics in text remains constant."
   ]
  },
  {
   "cell_type": "code",
   "execution_count": 96,
   "metadata": {},
   "outputs": [
    {
     "name": "stdout",
     "output_type": "stream",
     "text": [
      "socialism\n"
     ]
    },
    {
     "data": {
      "image/png": "[encoded data removed]",
      "text/plain": [
       "<Figure size 720x504 with 2 Axes>"
      ]
     },
     "metadata": {
      "needs_background": "light"
     },
     "output_type": "display_data"
    }
   ],
   "source": [
    "targetWord = 'socialism'\n",
    "\n",
    "pltDF = getDivergenceDF(targetWord, compared_epoch)\n",
    "fig, ax = plt.subplots(figsize = (10, 7))\n",
    "seaborn.heatmap(pltDF, ax = ax, annot = False) #set annot True for a lot more information\n",
    "ax.set_xlabel(\"Starting Epoch\")\n",
    "ax.set_ylabel(\"Final Epoch\")\n",
    "ax.set_title(\"Yearly linguistic change for: '{}'\".format(targetWord))\n",
    "plt.show()"
   ]
  },
  {
   "cell_type": "code",
   "execution_count": 52,
   "metadata": {},
   "outputs": [
    {
     "data": {
      "text/plain": [
       "[('practices', 0.9664442539215088),\n",
       " ('advocates', 0.9660531282424927),\n",
       " ('outset', 0.9653066992759705),\n",
       " ('cooperation', 0.9622966647148132),\n",
       " ('liberties', 0.9610468149185181),\n",
       " ('nationalism', 0.9590631723403931),\n",
       " ('governed', 0.9564797282218933),\n",
       " ('involves', 0.953182578086853),\n",
       " ('vitally', 0.9529298543930054),\n",
       " ('discrimination', 0.9513082504272461)]"
      ]
     },
     "execution_count": 52,
     "metadata": {},
     "output_type": "execute_result"
    }
   ],
   "source": [
    "d1.most_similar(['socialism'])[:10]"
   ]
  },
  {
   "cell_type": "code",
   "execution_count": 53,
   "metadata": {},
   "outputs": [
    {
     "data": {
      "text/plain": [
       "[('z', 0.9975436329841614),\n",
       " ('disturbances', 0.9974865913391113),\n",
       " ('bourgeoisie', 0.9972890615463257),\n",
       " ('poets', 0.997165858745575),\n",
       " ('agitation', 0.9970198273658752),\n",
       " ('abandon', 0.9969402551651001),\n",
       " ('exploited', 0.9968626499176025),\n",
       " ('tendencies', 0.9968617558479309),\n",
       " ('akin', 0.9968568682670593),\n",
       " ('influences', 0.9967920184135437)]"
      ]
     },
     "execution_count": 53,
     "metadata": {},
     "output_type": "execute_result"
    }
   ],
   "source": [
    "d2.most_similar(['socialism'])[:10]"
   ]
  },
  {
   "cell_type": "code",
   "execution_count": 54,
   "metadata": {},
   "outputs": [
    {
     "data": {
      "text/plain": [
       "[('challenging', 0.995447039604187),\n",
       " ('biblical', 0.9954203367233276),\n",
       " ('imperative', 0.9942939281463623),\n",
       " ('desired', 0.9938770532608032),\n",
       " ('monographs', 0.9938390254974365),\n",
       " ('unclear', 0.9935222864151001),\n",
       " ('explicit', 0.9935112595558167),\n",
       " ('amelioration', 0.993480920791626),\n",
       " ('marxists', 0.9933738708496094),\n",
       " ('fulfilling', 0.9933003187179565)]"
      ]
     },
     "execution_count": 54,
     "metadata": {},
     "output_type": "execute_result"
    }
   ],
   "source": [
    "d3.most_similar(['socialism'])[:10]"
   ]
  },
  {
   "cell_type": "markdown",
   "metadata": {},
   "source": [
    "Once again, from the graph, the most change occurs from the first to the second epoch. This makes sense too as, socialism turned in the early part of the 20th century as a viable political philosophy to being demonized after WW2 as a coherent political ideology that can underpin nation states. This is reflected in these word similarity tests too where the words go from positive in the first epoch to negative/mixed in the second and third. I will now look at words that do not diverrge much over the epochs below."
   ]
  },
  {
   "cell_type": "code",
   "execution_count": 103,
   "metadata": {},
   "outputs": [
    {
     "data": {
      "text/plain": [
       "[('virtual', 0.060771286487579346),\n",
       " ('gaped', 0.06072777509689331),\n",
       " ('glamour', 0.060348451137542725),\n",
       " ('hazards', 0.06015658378601074),\n",
       " ('tremendously', 0.05995607376098633),\n",
       " ('mumble', 0.05934947729110718),\n",
       " ('deposition', 0.05929899215698242),\n",
       " ('wallowing', 0.05926769971847534),\n",
       " ('compounds', 0.05797278881072998),\n",
       " ('employs', 0.057855069637298584),\n",
       " ('jubilant', 0.057450175285339355),\n",
       " ('mediocre', 0.05743628740310669),\n",
       " ('testifies', 0.057353973388671875),\n",
       " ('derives', 0.05699378252029419),\n",
       " ('repression', 0.05673593282699585),\n",
       " ('squeaked', 0.05616098642349243),\n",
       " ('sanctuary', 0.05518901348114014),\n",
       " ('trailed', 0.05511373281478882),\n",
       " ('distinguishing', 0.05481797456741333),\n",
       " ('recoiled', 0.05429220199584961),\n",
       " ('jostling', 0.054232776165008545),\n",
       " ('operates', 0.05402815341949463),\n",
       " ('unused', 0.05377715826034546),\n",
       " ('triumphantly', 0.05370748043060303),\n",
       " ('giggled', 0.053681373596191406),\n",
       " ('entrenched', 0.05355119705200195),\n",
       " ('oils', 0.0530010461807251),\n",
       " ('sonic', 0.052287518978118896),\n",
       " ('snore', 0.051432013511657715),\n",
       " ('wasteful', 0.050928592681884766),\n",
       " ('grounded', 0.05020713806152344),\n",
       " ('exhibiting', 0.05013805627822876),\n",
       " ('philosophies', 0.0493391752243042),\n",
       " ('hydrogen', 0.04886007308959961),\n",
       " ('potassium', 0.04790216684341431),\n",
       " ('bristled', 0.04732680320739746),\n",
       " ('sharper', 0.04673910140991211),\n",
       " ('meager', 0.04605215787887573),\n",
       " ('markedly', 0.043156981468200684),\n",
       " ('recurrent', 0.04056835174560547)]"
      ]
     },
     "execution_count": 103,
     "metadata": {},
     "output_type": "execute_result"
    }
   ],
   "source": [
    "#Looking at the lowest divergences\n",
    "wordDivergences[-40:]"
   ]
  },
  {
   "cell_type": "markdown",
   "metadata": {},
   "source": [
    "It's interesting that a good part of these least divergent words are related to human actions('jostling', 'bristled', 'mumble', etc.). This suggests that there is a stability to human gestures and words which makes total sense. I do a word similarity test in each epoch to better understand the vector space."
   ]
  },
  {
   "cell_type": "code",
   "execution_count": 64,
   "metadata": {},
   "outputs": [
    {
     "data": {
      "text/plain": [
       "[('entangled', 0.9779433012008667),\n",
       " ('spasmodically', 0.9761455655097961),\n",
       " ('powders', 0.9749782085418701),\n",
       " ('punctured', 0.9748271703720093),\n",
       " ('dwindling', 0.9743689298629761),\n",
       " ('originates', 0.973301887512207),\n",
       " ('fibrin', 0.972484827041626),\n",
       " ('taunt', 0.9724241495132446),\n",
       " ('inextricably', 0.9712799787521362),\n",
       " ('releases', 0.9706199169158936)]"
      ]
     },
     "execution_count": 64,
     "metadata": {},
     "output_type": "execute_result"
    }
   ],
   "source": [
    "d1.most_similar(['bristled'])[:10]"
   ]
  },
  {
   "cell_type": "code",
   "execution_count": 65,
   "metadata": {},
   "outputs": [
    {
     "data": {
      "text/plain": [
       "[('tangled', 0.996044397354126),\n",
       " ('scrolls', 0.9960352778434753),\n",
       " ('flanks', 0.9959973692893982),\n",
       " ('lurid', 0.995853066444397),\n",
       " ('belts', 0.9956988096237183),\n",
       " ('kit', 0.9956041574478149),\n",
       " ('cuff', 0.9955862760543823),\n",
       " ('tomato', 0.9955333471298218),\n",
       " ('braced', 0.9954825639724731),\n",
       " ('tensely', 0.9953988194465637)]"
      ]
     },
     "execution_count": 65,
     "metadata": {},
     "output_type": "execute_result"
    }
   ],
   "source": [
    "d2.most_similar(['bristled'])[:10]"
   ]
  },
  {
   "cell_type": "code",
   "execution_count": 66,
   "metadata": {},
   "outputs": [
    {
     "data": {
      "text/plain": [
       "[('nicely', 0.9963277578353882),\n",
       " ('gunman', 0.9960675835609436),\n",
       " ('irrepressible', 0.9951126575469971),\n",
       " ('clippings', 0.9951070547103882),\n",
       " ('stomps', 0.994377076625824),\n",
       " ('yea', 0.9943550825119019),\n",
       " ('desperation', 0.9943538904190063),\n",
       " ('steamy', 0.9943025708198547),\n",
       " ('harden', 0.9941403865814209),\n",
       " ('feigned', 0.9941352009773254)]"
      ]
     },
     "execution_count": 66,
     "metadata": {},
     "output_type": "execute_result"
    }
   ],
   "source": [
    "d3.most_similar(['bristled'])[:10]"
   ]
  },
  {
   "cell_type": "markdown",
   "metadata": {},
   "source": [
    "Looking at the word similarity scores from each epoch for 'bristled' we do get different words, but the semantic content of those words remain stable('spasmodically' in epoch 1, 'tensely' in epoch 2, 'harden' in epoch 3). This suggests that this vector space model is capturing some deep semantics and not just pure word associations."
   ]
  },
  {
   "cell_type": "code",
   "execution_count": 68,
   "metadata": {},
   "outputs": [
    {
     "data": {
      "text/plain": [
       "[('propagandist', 0.980863094329834),\n",
       " ('rousing', 0.9793975353240967),\n",
       " ('diem', 0.9787631034851074),\n",
       " ('riotous', 0.9780648946762085),\n",
       " ('fragment', 0.9778451919555664),\n",
       " ('rasping', 0.9776821136474609),\n",
       " ('lotions', 0.9774767160415649),\n",
       " ('fatality', 0.9771629571914673),\n",
       " ('devour', 0.9769116640090942),\n",
       " ('scaffold', 0.976620078086853)]"
      ]
     },
     "execution_count": 68,
     "metadata": {},
     "output_type": "execute_result"
    }
   ],
   "source": [
    "d1.most_similar(['mumble'])[:10]"
   ]
  },
  {
   "cell_type": "code",
   "execution_count": 67,
   "metadata": {},
   "outputs": [
    {
     "data": {
      "text/plain": [
       "[('pilgrims', 0.9958810806274414),\n",
       " ('swift', 0.9953616857528687),\n",
       " ('breaking', 0.9953151941299438),\n",
       " ('wound', 0.9952400922775269),\n",
       " ('crashed', 0.9951286315917969),\n",
       " ('melting', 0.9950600266456604),\n",
       " ('avoiding', 0.9949589967727661),\n",
       " ('perch', 0.9948956966400146),\n",
       " ('images', 0.994857907295227),\n",
       " ('aft', 0.994661808013916)]"
      ]
     },
     "execution_count": 67,
     "metadata": {},
     "output_type": "execute_result"
    }
   ],
   "source": [
    "d2.most_similar(['mumble'])[:10]"
   ]
  },
  {
   "cell_type": "code",
   "execution_count": 69,
   "metadata": {},
   "outputs": [
    {
     "data": {
      "text/plain": [
       "[('throng', 0.9892956018447876),\n",
       " ('conceal', 0.9878409504890442),\n",
       " ('whores', 0.9877729415893555),\n",
       " ('kin', 0.9871506094932556),\n",
       " ('slaughtered', 0.9870074987411499),\n",
       " ('powerless', 0.9867876768112183),\n",
       " ('monster', 0.9867838621139526),\n",
       " ('freaks', 0.9867438077926636),\n",
       " ('weary', 0.9865779280662537),\n",
       " ('utter', 0.9862973093986511)]"
      ]
     },
     "execution_count": 69,
     "metadata": {},
     "output_type": "execute_result"
    }
   ],
   "source": [
    "d3.most_similar(['mumble'])[:10]"
   ]
  },
  {
   "cell_type": "markdown",
   "metadata": {},
   "source": [
    "Once again, looking at the word similarity scores from each epoch for 'mumble' we do get different words, but the semantic content of those words remain stable('riotous' in epoch 1, 'breaking' in epoch 2, 'throng' in epoch 3). This once again suggests that this vector space model is capturing some deep semantics and not just pure word associations."
   ]
  }
 ],
 "metadata": {
  "anaconda-cloud": {},
  "kernelspec": {
   "display_name": "Python 3",
   "language": "python",
   "name": "python3"
  },
  "language_info": {
   "codemirror_mode": {
    "name": "ipython",
    "version": 3
   },
   "file_extension": ".py",
   "mimetype": "text/x-python",
   "name": "python",
   "nbconvert_exporter": "python",
   "pygments_lexer": "ipython3",
   "version": "3.6.9"
  }
 },
 "nbformat": 4,
 "nbformat_minor": 1
}
